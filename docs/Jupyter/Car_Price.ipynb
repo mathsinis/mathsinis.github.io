{
 "cells": [
  {
   "cell_type": "code",
   "execution_count": 1,
   "metadata": {
    "ExecuteTime": {
     "end_time": "2021-09-17T23:20:54.071563Z",
     "start_time": "2021-09-17T23:20:41.130582Z"
    },
    "id": "cS-op1_XQzR4"
   },
   "outputs": [
    {
     "ename": "ModuleNotFoundError",
     "evalue": "No module named 'seaborn'",
     "output_type": "error",
     "traceback": [
      "\u001b[1;31m---------------------------------------------------------------------------\u001b[0m",
      "\u001b[1;31mModuleNotFoundError\u001b[0m                       Traceback (most recent call last)",
      "\u001b[1;32m<ipython-input-1-b443ec1d6895>\u001b[0m in \u001b[0;36m<module>\u001b[1;34m\u001b[0m\n\u001b[0;32m      2\u001b[0m \u001b[1;32mimport\u001b[0m \u001b[0mpandas\u001b[0m \u001b[1;32mas\u001b[0m \u001b[0mpd\u001b[0m\u001b[1;33m\u001b[0m\u001b[1;33m\u001b[0m\u001b[0m\n\u001b[0;32m      3\u001b[0m \u001b[1;32mimport\u001b[0m \u001b[0mmatplotlib\u001b[0m\u001b[1;33m.\u001b[0m\u001b[0mpyplot\u001b[0m \u001b[1;32mas\u001b[0m \u001b[0mplt\u001b[0m\u001b[1;33m\u001b[0m\u001b[1;33m\u001b[0m\u001b[0m\n\u001b[1;32m----> 4\u001b[1;33m \u001b[1;32mimport\u001b[0m \u001b[0mseaborn\u001b[0m \u001b[1;32mas\u001b[0m \u001b[0msns\u001b[0m\u001b[1;33m\u001b[0m\u001b[1;33m\u001b[0m\u001b[0m\n\u001b[0m",
      "\u001b[1;31mModuleNotFoundError\u001b[0m: No module named 'seaborn'"
     ]
    }
   ],
   "source": [
    "import numpy as np\n",
    "import pandas as pd\n",
    "import matplotlib.pyplot as plt\n",
    "import seaborn as sns"
   ]
  },
  {
   "cell_type": "code",
   "execution_count": 3,
   "metadata": {
    "ExecuteTime": {
     "end_time": "2021-09-17T23:24:59.577257Z",
     "start_time": "2021-09-17T23:24:59.251679Z"
    }
   },
   "outputs": [
    {
     "name": "stderr",
     "output_type": "stream",
     "text": [
      "'which' is not recognized as an internal or external command,\n",
      "operable program or batch file.\n"
     ]
    }
   ],
   "source": [
    "!which -a python"
   ]
  },
  {
   "cell_type": "code",
   "execution_count": null,
   "metadata": {
    "id": "zT5EsjTLU71z"
   },
   "outputs": [],
   "source": [
    "df_test= pd.read_csv(\"/content/drive/MyDrive/Graduação/Aprendizado de maquina/TRABALHOS DE APRENDIZADO DE MÁQUINA/Car - Trabalho 2/test_car_details.csv\")\n",
    "df_train = pd.read_csv(\"/content/drive/MyDrive/Graduação/Aprendizado de maquina/TRABALHOS DE APRENDIZADO DE MÁQUINA/Car - Trabalho 2/train_car_details.csv\")"
   ]
  },
  {
   "cell_type": "code",
   "execution_count": null,
   "metadata": {
    "colab": {
     "base_uri": "https://localhost:8080/"
    },
    "id": "YMjgguNTjtxK",
    "outputId": "00a9fc66-1681-4294-ae9c-22f277486ef7"
   },
   "outputs": [
    {
     "name": "stdout",
     "output_type": "stream",
     "text": [
      "Index(['Id', 'name', 'year', 'selling_price', 'km_driven', 'fuel',\n",
      "       'seller_type', 'transmission', 'owner', 'mileage', 'engine',\n",
      "       'max_power', 'torque', 'seats'],\n",
      "      dtype='object')\n",
      "Index(['Id', 'name', 'year', 'km_driven', 'fuel', 'seller_type',\n",
      "       'transmission', 'owner', 'mileage', 'engine', 'max_power', 'torque',\n",
      "       'seats'],\n",
      "      dtype='object')\n"
     ]
    }
   ],
   "source": [
    "print(df_train.columns)\n",
    "print(df_test.columns)"
   ]
  },
  {
   "cell_type": "markdown",
   "metadata": {
    "id": "nIMoUKctL0xx"
   },
   "source": [
    "# Objetivo"
   ]
  },
  {
   "cell_type": "markdown",
   "metadata": {
    "id": "Rvi3gtTaSqdU"
   },
   "source": [
    "Um dos problemas que ocorrem na OLX da Índia, pela baixa volumetria de dados, é a empresa não conseguir estimar um preço de venda para o carro do seu cliente baseado em algumas características do veículo. O objetivo é estimar tal valor a partir de dados do concorrente (CarDekho)."
   ]
  },
  {
   "cell_type": "markdown",
   "metadata": {
    "id": "nKnbPT9VUKmw"
   },
   "source": [
    "# Análise qualitativa e quantitativa dos dados"
   ]
  },
  {
   "cell_type": "code",
   "execution_count": null,
   "metadata": {
    "colab": {
     "base_uri": "https://localhost:8080/",
     "height": 289
    },
    "id": "vSgDhqnuUaxY",
    "outputId": "147325c1-0008-4356-c041-f79d79c9acd2"
   },
   "outputs": [
    {
     "data": {
      "text/html": [
       "<div>\n",
       "<style scoped>\n",
       "    .dataframe tbody tr th:only-of-type {\n",
       "        vertical-align: middle;\n",
       "    }\n",
       "\n",
       "    .dataframe tbody tr th {\n",
       "        vertical-align: top;\n",
       "    }\n",
       "\n",
       "    .dataframe thead th {\n",
       "        text-align: right;\n",
       "    }\n",
       "</style>\n",
       "<table border=\"1\" class=\"dataframe\">\n",
       "  <thead>\n",
       "    <tr style=\"text-align: right;\">\n",
       "      <th></th>\n",
       "      <th>Id</th>\n",
       "      <th>name</th>\n",
       "      <th>year</th>\n",
       "      <th>selling_price</th>\n",
       "      <th>km_driven</th>\n",
       "      <th>fuel</th>\n",
       "      <th>seller_type</th>\n",
       "      <th>transmission</th>\n",
       "      <th>owner</th>\n",
       "      <th>mileage</th>\n",
       "      <th>engine</th>\n",
       "      <th>max_power</th>\n",
       "      <th>torque</th>\n",
       "      <th>seats</th>\n",
       "    </tr>\n",
       "  </thead>\n",
       "  <tbody>\n",
       "    <tr>\n",
       "      <th>0</th>\n",
       "      <td>1</td>\n",
       "      <td>Hyundai Santro GLS I - Euro I</td>\n",
       "      <td>1999</td>\n",
       "      <td>80000</td>\n",
       "      <td>110000</td>\n",
       "      <td>Petrol</td>\n",
       "      <td>Individual</td>\n",
       "      <td>Manual</td>\n",
       "      <td>Second Owner</td>\n",
       "      <td>NaN</td>\n",
       "      <td>NaN</td>\n",
       "      <td>NaN</td>\n",
       "      <td>NaN</td>\n",
       "      <td>NaN</td>\n",
       "    </tr>\n",
       "    <tr>\n",
       "      <th>1</th>\n",
       "      <td>2</td>\n",
       "      <td>Maruti Ertiga VDI</td>\n",
       "      <td>2012</td>\n",
       "      <td>459999</td>\n",
       "      <td>87000</td>\n",
       "      <td>Diesel</td>\n",
       "      <td>Individual</td>\n",
       "      <td>Manual</td>\n",
       "      <td>First Owner</td>\n",
       "      <td>20.77 kmpl</td>\n",
       "      <td>1248 CC</td>\n",
       "      <td>88.76 bhp</td>\n",
       "      <td>200Nm@ 1750rpm</td>\n",
       "      <td>7.0</td>\n",
       "    </tr>\n",
       "    <tr>\n",
       "      <th>2</th>\n",
       "      <td>3</td>\n",
       "      <td>BMW 3 Series 320d Luxury Line</td>\n",
       "      <td>2010</td>\n",
       "      <td>1100000</td>\n",
       "      <td>102000</td>\n",
       "      <td>Diesel</td>\n",
       "      <td>Dealer</td>\n",
       "      <td>Automatic</td>\n",
       "      <td>First Owner</td>\n",
       "      <td>19.62 kmpl</td>\n",
       "      <td>1995 CC</td>\n",
       "      <td>187.74 bhp</td>\n",
       "      <td>400Nm@ 1750-2500rpm</td>\n",
       "      <td>5.0</td>\n",
       "    </tr>\n",
       "    <tr>\n",
       "      <th>3</th>\n",
       "      <td>4</td>\n",
       "      <td>Tata New Safari DICOR 2.2 EX 4x2</td>\n",
       "      <td>2009</td>\n",
       "      <td>229999</td>\n",
       "      <td>212000</td>\n",
       "      <td>Diesel</td>\n",
       "      <td>Individual</td>\n",
       "      <td>Manual</td>\n",
       "      <td>Third Owner</td>\n",
       "      <td>11.57 kmpl</td>\n",
       "      <td>2179 CC</td>\n",
       "      <td>138.1 bhp</td>\n",
       "      <td>320Nm@ 1700-2700rpm</td>\n",
       "      <td>7.0</td>\n",
       "    </tr>\n",
       "    <tr>\n",
       "      <th>4</th>\n",
       "      <td>5</td>\n",
       "      <td>Toyota Fortuner 3.0 Diesel</td>\n",
       "      <td>2010</td>\n",
       "      <td>800000</td>\n",
       "      <td>125000</td>\n",
       "      <td>Diesel</td>\n",
       "      <td>Individual</td>\n",
       "      <td>Manual</td>\n",
       "      <td>Second Owner</td>\n",
       "      <td>11.5 kmpl</td>\n",
       "      <td>2982 CC</td>\n",
       "      <td>171 bhp</td>\n",
       "      <td>343Nm@ 1400-3400rpm</td>\n",
       "      <td>7.0</td>\n",
       "    </tr>\n",
       "  </tbody>\n",
       "</table>\n",
       "</div>"
      ],
      "text/plain": [
       "   Id                              name  ...               torque  seats\n",
       "0   1     Hyundai Santro GLS I - Euro I  ...                  NaN    NaN\n",
       "1   2                 Maruti Ertiga VDI  ...       200Nm@ 1750rpm    7.0\n",
       "2   3     BMW 3 Series 320d Luxury Line  ...  400Nm@ 1750-2500rpm    5.0\n",
       "3   4  Tata New Safari DICOR 2.2 EX 4x2  ...  320Nm@ 1700-2700rpm    7.0\n",
       "4   5        Toyota Fortuner 3.0 Diesel  ...  343Nm@ 1400-3400rpm    7.0\n",
       "\n",
       "[5 rows x 14 columns]"
      ]
     },
     "execution_count": 43,
     "metadata": {
      "tags": []
     },
     "output_type": "execute_result"
    }
   ],
   "source": [
    "#Verificando as variáveis\n",
    "df_train.head()"
   ]
  },
  {
   "cell_type": "code",
   "execution_count": null,
   "metadata": {
    "id": "DXkxkyyDa2aj"
   },
   "outputs": [],
   "source": [
    "df_train = df_train.iloc[:,1:] #retirando a coluna de id\n",
    "\n",
    "Id = df_test.Id\n",
    "df_test = df_test.iloc[:,1:] #retirando a coluna de id"
   ]
  },
  {
   "cell_type": "markdown",
   "metadata": {
    "id": "O8lv_YnOO_6P"
   },
   "source": [
    "## Analise de dados nulos"
   ]
  },
  {
   "cell_type": "code",
   "execution_count": null,
   "metadata": {
    "colab": {
     "base_uri": "https://localhost:8080/"
    },
    "id": "zP8597KtW7pX",
    "outputId": "43539f2c-5b17-4da0-885d-678841f07fa3"
   },
   "outputs": [
    {
     "data": {
      "text/plain": [
       "name               0\n",
       "year               0\n",
       "selling_price      0\n",
       "km_driven          0\n",
       "fuel               0\n",
       "seller_type        0\n",
       "transmission       0\n",
       "owner              0\n",
       "mileage          157\n",
       "engine           157\n",
       "max_power        151\n",
       "torque           158\n",
       "seats            157\n",
       "dtype: int64"
      ]
     },
     "execution_count": 45,
     "metadata": {
      "tags": []
     },
     "output_type": "execute_result"
    }
   ],
   "source": [
    "#Verificado a quantidade de NaN por atributo\n",
    "df_train.isna().sum()"
   ]
  },
  {
   "cell_type": "code",
   "execution_count": null,
   "metadata": {
    "colab": {
     "base_uri": "https://localhost:8080/"
    },
    "id": "EtZj5WU1PME8",
    "outputId": "3f68afd7-1bf8-477e-cc13-e6a615c3b00d"
   },
   "outputs": [
    {
     "name": "stdout",
     "output_type": "stream",
     "text": [
      "name             0.000000\n",
      "year             0.000000\n",
      "selling_price    0.000000\n",
      "km_driven        0.000000\n",
      "fuel             0.000000\n",
      "seller_type      0.000000\n",
      "transmission     0.000000\n",
      "owner            0.000000\n",
      "mileage          2.759712\n",
      "engine           2.759712\n",
      "max_power        2.654245\n",
      "torque           2.777290\n",
      "seats            2.759712\n",
      "dtype: float64\n"
     ]
    }
   ],
   "source": [
    "#Porcentagem de nan por atributo\n",
    "print(100*df_train.isna().sum()/len(df_train))"
   ]
  },
  {
   "cell_type": "code",
   "execution_count": null,
   "metadata": {
    "colab": {
     "base_uri": "https://localhost:8080/"
    },
    "id": "DghC0QGiq_np",
    "outputId": "15cd8e5a-73a1-45d9-aeab-a17a36e4ea81"
   },
   "outputs": [
    {
     "name": "stdout",
     "output_type": "stream",
     "text": [
      "name            0.0\n",
      "year            0.0\n",
      "km_driven       0.0\n",
      "fuel            0.0\n",
      "seller_type     0.0\n",
      "transmission    0.0\n",
      "owner           0.0\n",
      "mileage         0.0\n",
      "engine          0.0\n",
      "max_power       0.0\n",
      "torque          0.0\n",
      "seats           0.0\n",
      "dtype: float64\n"
     ]
    }
   ],
   "source": [
    "#Porcentagem de nan por atributo no test\n",
    "print(100*df_test.isna().sum()/len(df_test))"
   ]
  },
  {
   "cell_type": "markdown",
   "metadata": {
    "id": "cPeACfqLXdCL"
   },
   "source": [
    "Pelo fatos dos NaN's estar majoritariamente presente nas mesmas linhas e por representar um baixo volume em relação ao total (menos de 3%), tais linhas serão retiradas."
   ]
  },
  {
   "cell_type": "code",
   "execution_count": null,
   "metadata": {
    "colab": {
     "base_uri": "https://localhost:8080/"
    },
    "id": "SLNlNI1vYz3g",
    "outputId": "e32eb487-fbe8-4c06-df6f-2c5eb59c239a"
   },
   "outputs": [
    {
     "name": "stdout",
     "output_type": "stream",
     "text": [
      "Quantidade de linhas totais:  5689\n",
      "Quantidade de linhas após retirada dos NaNs:  5531\n"
     ]
    }
   ],
   "source": [
    "print(f'Quantidade de linhas totais: ', df_train.shape[0])\n",
    "# Remove as linhas com NaN\n",
    "df_train = df_train.dropna(axis=0)   \n",
    "print(f'Quantidade de linhas após retirada dos NaNs: ', df_train.shape[0])\n",
    "#Aproximadamente 3% de linhas eliminadas"
   ]
  },
  {
   "cell_type": "markdown",
   "metadata": {
    "id": "2MhTDUWnQlvV"
   },
   "source": [
    "## Categoria das variaveis"
   ]
  },
  {
   "cell_type": "markdown",
   "metadata": {
    "id": "jLjrd98qlWMR"
   },
   "source": [
    "Os dados são compostos pelas variáveis:\n",
    "\n",
    "\n",
    "* Variaveis quantitativas discreta:<br>\n",
    " * Ano de fabricacao do carro (year)\n",
    " * Qtd de Km dirigidos (km_driven)\n",
    " * Potência máxima do motor (max_power)\n",
    " * Qtd de acentos (seats)\n",
    "* Variaveis quantitativas continuas:\n",
    " * Quilometragem por litro (mileage)\n",
    " * Potencia do motor (engine)\n",
    " * Preço de venda (selling_price) **Valor a ser predito**\n",
    "* Variaveis qualitativas nominais:\n",
    " * nome do carro (name)\n",
    " * tipo de combustivel utilizado (fuel)\n",
    " * tipo de vendendor (seller_type)\n",
    " * transmissao (transmission)\n",
    " * Torque: responsável pela capacidade do motor produzir força motriz, ou seja, o movimento giratório\n",
    "* Variaveis qualitativas ordinais:\n",
    " * Quantos donos ja possuiram o carro (owner)"
   ]
  },
  {
   "cell_type": "markdown",
   "metadata": {
    "id": "qX0b_8ToVmFq"
   },
   "source": [
    "Nota-se que 4 variáveis são numéricas, mas é necessário uma tratativa para retirar as strings que representam a unidade de medida. Ao todo, considerando as variáveis que precisam ser tratadas, há 7 variáveis numéricas e 6 variáveis categóricas qualitativas."
   ]
  },
  {
   "cell_type": "markdown",
   "metadata": {
    "id": "2IKCWwFORaBp"
   },
   "source": [
    "Nota-se que 4 variáveis são numéricas, mas é necessário uma tratativa para retirar as strings que representam a unidade de medida. Ao todo, considerando as variáveis que precisam ser tratadas, há 7 variáveis numéricas e 6 variáveis categóricas qualitativas."
   ]
  },
  {
   "cell_type": "markdown",
   "metadata": {
    "id": "1E4O0qOfncSS"
   },
   "source": [
    "## Retirando a palavra owner da coluna owner, retirando a unidade de medida de mileage, engine e max power e retirando a segunda unidade de medida utilizada no torque (rpm) e deixando apenas a unidade Nm"
   ]
  },
  {
   "cell_type": "code",
   "execution_count": null,
   "metadata": {
    "id": "3PJ68h7Jp0SC"
   },
   "outputs": [],
   "source": [
    "df1 = df_train.copy()"
   ]
  },
  {
   "cell_type": "code",
   "execution_count": null,
   "metadata": {
    "id": "Lyn3uW_sxna0"
   },
   "outputs": [],
   "source": [
    "colunas = ['owner', 'mileage', 'engine',\n",
    "       'max_power', 'torque']"
   ]
  },
  {
   "cell_type": "code",
   "execution_count": null,
   "metadata": {
    "id": "HKyNC-IdyKVT"
   },
   "outputs": [],
   "source": [
    "#base de treino\n",
    "for i in colunas:\n",
    "  df1[i] = df1[i].str.split(' ').str[0]\n",
    "\n",
    "#Na base de test\n",
    "for i in colunas:\n",
    "  df_test[i] = df_test[i].str.split(' ').str[0]"
   ]
  },
  {
   "cell_type": "markdown",
   "metadata": {
    "id": "HEWJoQeioxpp"
   },
   "source": [
    "## Retirando a unidade de medida do torque"
   ]
  },
  {
   "cell_type": "code",
   "execution_count": null,
   "metadata": {
    "id": "MjhqBrFRcqIJ"
   },
   "outputs": [],
   "source": [
    "#Retirando a unidade de medida do torque \n",
    "df1['torque'] = df1['torque'].str.replace('Nm@', '', regex=True).replace('nm@', '', regex=True).replace('@', '', regex=True).replace('Nm', '', regex=True).replace('NM', '', regex=True).replace('kgm', '', regex=True)\n",
    "\n",
    "#no test\n",
    "df_test['torque'] = df_test['torque'].str.replace('Nm@', '', regex=True).replace('nm@', '', regex=True).replace('@', '', regex=True).replace('Nm', '', regex=True).replace('NM', '', regex=True).replace('kgm', '', regex=True)"
   ]
  },
  {
   "cell_type": "code",
   "execution_count": null,
   "metadata": {
    "colab": {
     "base_uri": "https://localhost:8080/",
     "height": 80
    },
    "id": "fLkK6JyRwC4c",
    "outputId": "11aeb842-76c6-46cc-d22d-d8eaacfed914"
   },
   "outputs": [
    {
     "data": {
      "text/html": [
       "<div>\n",
       "<style scoped>\n",
       "    .dataframe tbody tr th:only-of-type {\n",
       "        vertical-align: middle;\n",
       "    }\n",
       "\n",
       "    .dataframe tbody tr th {\n",
       "        vertical-align: top;\n",
       "    }\n",
       "\n",
       "    .dataframe thead th {\n",
       "        text-align: right;\n",
       "    }\n",
       "</style>\n",
       "<table border=\"1\" class=\"dataframe\">\n",
       "  <thead>\n",
       "    <tr style=\"text-align: right;\">\n",
       "      <th></th>\n",
       "      <th>name</th>\n",
       "      <th>year</th>\n",
       "      <th>selling_price</th>\n",
       "      <th>km_driven</th>\n",
       "      <th>fuel</th>\n",
       "      <th>seller_type</th>\n",
       "      <th>transmission</th>\n",
       "      <th>owner</th>\n",
       "      <th>mileage</th>\n",
       "      <th>engine</th>\n",
       "      <th>max_power</th>\n",
       "      <th>torque</th>\n",
       "      <th>seats</th>\n",
       "    </tr>\n",
       "  </thead>\n",
       "  <tbody>\n",
       "    <tr>\n",
       "      <th>1954</th>\n",
       "      <td>Honda Jazz Select Edition Active</td>\n",
       "      <td>2011</td>\n",
       "      <td>350000</td>\n",
       "      <td>80000</td>\n",
       "      <td>Petrol</td>\n",
       "      <td>Individual</td>\n",
       "      <td>Manual</td>\n",
       "      <td>Second</td>\n",
       "      <td>16.0</td>\n",
       "      <td>1198</td>\n",
       "      <td>90</td>\n",
       "      <td>110(11.2)</td>\n",
       "      <td>5.0</td>\n",
       "    </tr>\n",
       "  </tbody>\n",
       "</table>\n",
       "</div>"
      ],
      "text/plain": [
       "                                  name  year  ...     torque  seats\n",
       "1954  Honda Jazz Select Edition Active  2011  ...  110(11.2)    5.0\n",
       "\n",
       "[1 rows x 13 columns]"
      ]
     },
     "execution_count": 53,
     "metadata": {
      "tags": []
     },
     "output_type": "execute_result"
    }
   ],
   "source": [
    "df1[df1['torque'] == '110(11.2)']"
   ]
  },
  {
   "cell_type": "markdown",
   "metadata": {
    "id": "K4aVGdITrz6A"
   },
   "source": [
    "Nao temos esse problema na base de teste"
   ]
  },
  {
   "cell_type": "markdown",
   "metadata": {
    "id": "D-3Zv5-ZpZoh"
   },
   "source": [
    "### Tratando a linha com torque (11.2) no treino"
   ]
  },
  {
   "cell_type": "code",
   "execution_count": null,
   "metadata": {
    "id": "xte0Egxcyveu"
   },
   "outputs": [],
   "source": [
    "#eliminando a linha com toque = 110(11.2)\n",
    "df1.drop(df1.loc[df1['torque'] == '110(11.2)'].index, inplace=True)"
   ]
  },
  {
   "cell_type": "markdown",
   "metadata": {
    "id": "rSGU10uWswh3"
   },
   "source": [
    "### Tratando linha 380(38.7) no torque (base teste)"
   ]
  },
  {
   "cell_type": "code",
   "execution_count": null,
   "metadata": {
    "colab": {
     "base_uri": "https://localhost:8080/",
     "height": 80
    },
    "id": "xPJSLw2asuuu",
    "outputId": "d41e780d-4dab-4faa-9d40-e143cdd31d90"
   },
   "outputs": [
    {
     "data": {
      "text/html": [
       "<div>\n",
       "<style scoped>\n",
       "    .dataframe tbody tr th:only-of-type {\n",
       "        vertical-align: middle;\n",
       "    }\n",
       "\n",
       "    .dataframe tbody tr th {\n",
       "        vertical-align: top;\n",
       "    }\n",
       "\n",
       "    .dataframe thead th {\n",
       "        text-align: right;\n",
       "    }\n",
       "</style>\n",
       "<table border=\"1\" class=\"dataframe\">\n",
       "  <thead>\n",
       "    <tr style=\"text-align: right;\">\n",
       "      <th></th>\n",
       "      <th>name</th>\n",
       "      <th>year</th>\n",
       "      <th>km_driven</th>\n",
       "      <th>fuel</th>\n",
       "      <th>seller_type</th>\n",
       "      <th>transmission</th>\n",
       "      <th>owner</th>\n",
       "      <th>mileage</th>\n",
       "      <th>engine</th>\n",
       "      <th>max_power</th>\n",
       "      <th>torque</th>\n",
       "      <th>seats</th>\n",
       "    </tr>\n",
       "  </thead>\n",
       "  <tbody>\n",
       "    <tr>\n",
       "      <th>885</th>\n",
       "      <td>Ford Endeavour Hurricane Limited Edition</td>\n",
       "      <td>2013</td>\n",
       "      <td>110000</td>\n",
       "      <td>Diesel</td>\n",
       "      <td>Individual</td>\n",
       "      <td>Automatic</td>\n",
       "      <td>Third</td>\n",
       "      <td>12.8</td>\n",
       "      <td>2953</td>\n",
       "      <td>156</td>\n",
       "      <td>380(38.7)</td>\n",
       "      <td>7.0</td>\n",
       "    </tr>\n",
       "  </tbody>\n",
       "</table>\n",
       "</div>"
      ],
      "text/plain": [
       "                                         name  year  ...     torque seats\n",
       "885  Ford Endeavour Hurricane Limited Edition  2013  ...  380(38.7)   7.0\n",
       "\n",
       "[1 rows x 12 columns]"
      ]
     },
     "execution_count": 55,
     "metadata": {
      "tags": []
     },
     "output_type": "execute_result"
    }
   ],
   "source": [
    "df_test[df_test['torque'] == '380(38.7)']"
   ]
  },
  {
   "cell_type": "markdown",
   "metadata": {
    "id": "3fPNDEkcyB1U"
   },
   "source": [
    "Nao podemos eliminar linhas da base de teste\n"
   ]
  },
  {
   "cell_type": "code",
   "execution_count": null,
   "metadata": {
    "colab": {
     "base_uri": "https://localhost:8080/",
     "height": 80
    },
    "id": "7HKaZDOutACC",
    "outputId": "1e9ccc6c-c15d-44f8-b01e-2e515d9e7831"
   },
   "outputs": [
    {
     "data": {
      "text/html": [
       "<div>\n",
       "<style scoped>\n",
       "    .dataframe tbody tr th:only-of-type {\n",
       "        vertical-align: middle;\n",
       "    }\n",
       "\n",
       "    .dataframe tbody tr th {\n",
       "        vertical-align: top;\n",
       "    }\n",
       "\n",
       "    .dataframe thead th {\n",
       "        text-align: right;\n",
       "    }\n",
       "</style>\n",
       "<table border=\"1\" class=\"dataframe\">\n",
       "  <thead>\n",
       "    <tr style=\"text-align: right;\">\n",
       "      <th></th>\n",
       "      <th>name</th>\n",
       "      <th>year</th>\n",
       "      <th>km_driven</th>\n",
       "      <th>fuel</th>\n",
       "      <th>seller_type</th>\n",
       "      <th>transmission</th>\n",
       "      <th>owner</th>\n",
       "      <th>mileage</th>\n",
       "      <th>engine</th>\n",
       "      <th>max_power</th>\n",
       "      <th>torque</th>\n",
       "      <th>seats</th>\n",
       "    </tr>\n",
       "  </thead>\n",
       "  <tbody>\n",
       "    <tr>\n",
       "      <th>885</th>\n",
       "      <td>Ford Endeavour Hurricane Limited Edition</td>\n",
       "      <td>2013</td>\n",
       "      <td>110000</td>\n",
       "      <td>Diesel</td>\n",
       "      <td>Individual</td>\n",
       "      <td>Automatic</td>\n",
       "      <td>Third</td>\n",
       "      <td>12.8</td>\n",
       "      <td>2953</td>\n",
       "      <td>156</td>\n",
       "      <td>380(38.7)</td>\n",
       "      <td>7.0</td>\n",
       "    </tr>\n",
       "  </tbody>\n",
       "</table>\n",
       "</div>"
      ],
      "text/plain": [
       "                                         name  year  ...     torque seats\n",
       "885  Ford Endeavour Hurricane Limited Edition  2013  ...  380(38.7)   7.0\n",
       "\n",
       "[1 rows x 12 columns]"
      ]
     },
     "execution_count": 56,
     "metadata": {
      "tags": []
     },
     "output_type": "execute_result"
    }
   ],
   "source": [
    "df_test[df_test['torque'] == '380(38.7)']"
   ]
  },
  {
   "cell_type": "code",
   "execution_count": null,
   "metadata": {
    "id": "GMBQG03SzPAW"
   },
   "outputs": [],
   "source": [
    "df_test.torque.replace('380(38.7)', '380', inplace= True)"
   ]
  },
  {
   "cell_type": "code",
   "execution_count": null,
   "metadata": {
    "colab": {
     "base_uri": "https://localhost:8080/",
     "height": 49
    },
    "id": "MZEIkXmWs9No",
    "outputId": "28560560-4a0a-4c39-9ca4-fc3631b8848f"
   },
   "outputs": [
    {
     "data": {
      "text/html": [
       "<div>\n",
       "<style scoped>\n",
       "    .dataframe tbody tr th:only-of-type {\n",
       "        vertical-align: middle;\n",
       "    }\n",
       "\n",
       "    .dataframe tbody tr th {\n",
       "        vertical-align: top;\n",
       "    }\n",
       "\n",
       "    .dataframe thead th {\n",
       "        text-align: right;\n",
       "    }\n",
       "</style>\n",
       "<table border=\"1\" class=\"dataframe\">\n",
       "  <thead>\n",
       "    <tr style=\"text-align: right;\">\n",
       "      <th></th>\n",
       "      <th>name</th>\n",
       "      <th>year</th>\n",
       "      <th>km_driven</th>\n",
       "      <th>fuel</th>\n",
       "      <th>seller_type</th>\n",
       "      <th>transmission</th>\n",
       "      <th>owner</th>\n",
       "      <th>mileage</th>\n",
       "      <th>engine</th>\n",
       "      <th>max_power</th>\n",
       "      <th>torque</th>\n",
       "      <th>seats</th>\n",
       "    </tr>\n",
       "  </thead>\n",
       "  <tbody>\n",
       "  </tbody>\n",
       "</table>\n",
       "</div>"
      ],
      "text/plain": [
       "Empty DataFrame\n",
       "Columns: [name, year, km_driven, fuel, seller_type, transmission, owner, mileage, engine, max_power, torque, seats]\n",
       "Index: []"
      ]
     },
     "execution_count": 58,
     "metadata": {
      "tags": []
     },
     "output_type": "execute_result"
    }
   ],
   "source": [
    "df_test[df_test['torque'] == '380(38.7)']"
   ]
  },
  {
   "cell_type": "markdown",
   "metadata": {
    "id": "dgAw8_SktMk4"
   },
   "source": [
    "### Analisando nome dos carros"
   ]
  },
  {
   "cell_type": "code",
   "execution_count": null,
   "metadata": {
    "id": "CgRJNSmz-tGZ"
   },
   "outputs": [],
   "source": [
    "#Colocando a marca e modelo do carro em um dicionario juntamente com sua frequência no conjunto \n",
    "import collections\n",
    "agrupamento = df1['name']\n",
    "counter=collections.Counter(agrupamento)"
   ]
  },
  {
   "cell_type": "code",
   "execution_count": null,
   "metadata": {
    "colab": {
     "base_uri": "https://localhost:8080/"
    },
    "id": "ytRnpNuj_fhA",
    "outputId": "dd1a59f2-3e5f-47d3-e3fb-14dd06f06a61"
   },
   "outputs": [
    {
     "name": "stdout",
     "output_type": "stream",
     "text": [
      "Quantidade de modelos de carros distintos:  1706\n",
      "A maior quantidade de um único modelo de carro:  92\n"
     ]
    }
   ],
   "source": [
    "#Colocando a frequencia em uma lista para poder contar a qtd de itens diferentes\n",
    "contador = []\n",
    "for i in sorted(counter, key = counter.get, reverse = True):\n",
    "    contador.append(counter[i])\n",
    "print(\"Quantidade de modelos de carros distintos: \",len(contador))\n",
    "print(\"A maior quantidade de um único modelo de carro: \",max(contador))"
   ]
  },
  {
   "cell_type": "markdown",
   "metadata": {
    "id": "0f3mIjEDdie7"
   },
   "source": [
    "Como o nome dos carros é muito variado, não é interessante estar presente no modelo, porém, a informação da marca do carro pode ser importante, assim como outras informações oriundas da própria base."
   ]
  },
  {
   "cell_type": "markdown",
   "metadata": {
    "id": "mRrCRfsLd18B"
   },
   "source": [
    "# Feature engineering"
   ]
  },
  {
   "cell_type": "markdown",
   "metadata": {
    "id": "sbV_L_k5qi2w"
   },
   "source": [
    "## Criando a feature marca"
   ]
  },
  {
   "cell_type": "code",
   "execution_count": null,
   "metadata": {
    "id": "TwQOwSUnnoC_"
   },
   "outputs": [],
   "source": [
    "#Criando a coluna marca\n",
    "df1['brand'] = df1['name'].str.split(' ').str[0]\n",
    "\n",
    "#para a base de teste\n",
    "df_test['brand'] = df_test['name'].str.split(' ').str[0]"
   ]
  },
  {
   "cell_type": "code",
   "execution_count": null,
   "metadata": {
    "colab": {
     "base_uri": "https://localhost:8080/"
    },
    "id": "P7fQUSM60PJP",
    "outputId": "65ac56c1-2770-4116-f349-ca9bda84668c"
   },
   "outputs": [
    {
     "data": {
      "text/plain": [
       "array(['Maruti', 'BMW', 'Tata', 'Toyota', 'Hyundai', 'Chevrolet', 'Honda',\n",
       "       'Jaguar', 'Renault', 'Mahindra', 'Volkswagen', 'Ford', 'Skoda',\n",
       "       'Datsun', 'Fiat', 'Volvo', 'Nissan', 'Mercedes-Benz', 'Kia',\n",
       "       'Jeep', 'Audi', 'Isuzu', 'Lexus', 'Land', 'Force', 'Mitsubishi',\n",
       "       'Ambassador', 'Daewoo', 'MG', 'Ashok'], dtype=object)"
      ]
     },
     "execution_count": 62,
     "metadata": {
      "tags": []
     },
     "output_type": "execute_result"
    }
   ],
   "source": [
    "df1['brand'].unique()"
   ]
  },
  {
   "cell_type": "code",
   "execution_count": null,
   "metadata": {
    "colab": {
     "base_uri": "https://localhost:8080/"
    },
    "id": "TX_PMhJb0LBo",
    "outputId": "cbd5435f-44f9-44d4-e3fb-6637494942c6"
   },
   "outputs": [
    {
     "data": {
      "text/plain": [
       "array(['Tata', 'Maruti', 'Mahindra', 'Hyundai', 'Volvo', 'Jaguar',\n",
       "       'Chevrolet', 'Jeep', 'Honda', 'Toyota', 'Kia', 'Ford', 'Lexus',\n",
       "       'Skoda', 'BMW', 'Fiat', 'Renault', 'Nissan', 'Datsun',\n",
       "       'Mercedes-Benz', 'Volkswagen', 'Opel', 'Mitsubishi', 'Ambassador',\n",
       "       'Audi', 'Land', 'Isuzu', 'Force'], dtype=object)"
      ]
     },
     "execution_count": 63,
     "metadata": {
      "tags": []
     },
     "output_type": "execute_result"
    }
   ],
   "source": [
    "df_test['brand'].unique()"
   ]
  },
  {
   "cell_type": "markdown",
   "metadata": {
    "id": "KVJN1Gybqnn-"
   },
   "source": [
    "## Criando a coluna idade do carro"
   ]
  },
  {
   "cell_type": "code",
   "execution_count": null,
   "metadata": {
    "id": "5zSaXZGGoBrr"
   },
   "outputs": [],
   "source": [
    "#Criando a coluna idade do carro\n",
    "df1['age'] = 2021 - df1.year\n",
    "\n",
    "#para a base de teste\n",
    "df_test['age'] = 2021 - df_test.year"
   ]
  },
  {
   "cell_type": "markdown",
   "metadata": {
    "id": "3_6Au6o-q_U7"
   },
   "source": [
    "## Retirando a coluna name e year"
   ]
  },
  {
   "cell_type": "code",
   "execution_count": null,
   "metadata": {
    "id": "hNozwzdSogMy"
   },
   "outputs": [],
   "source": [
    "del df1[\"name\"] #retirando a coluna name\n",
    "del df1[\"year\"] #retirando a coluna year\n",
    "del df1[\"torque\"] #retirando a coluna year ## 0.9705529686331869 (sem torque) gradiente\n",
    "#del df1[\"seats\"] #retirando a coluna year ## 0.9719490890165687 (sem seats e torque) gradiente\n",
    "#del df1[\"engine\"] #retirando a coluna year ### 0.9723490022839645 (sem engine, seats e torque) gradiente\n",
    "\n",
    "\n",
    "del df_test[\"name\"] #retirando a coluna name\n",
    "del df_test[\"year\"] #retirando a coluna year\n",
    "del df_test[\"torque\"] #retirando a coluna torque\n",
    "#del df_test[\"seats\"] #retirando a coluna year\n",
    "#del df_test[\"engine\"] #retirando a coluna year"
   ]
  },
  {
   "cell_type": "markdown",
   "metadata": {
    "id": "bTGXKQpVrKB2"
   },
   "source": [
    "## Adequando o tipo de dado de algumas variáveis"
   ]
  },
  {
   "cell_type": "code",
   "execution_count": null,
   "metadata": {
    "id": "TGUv4w3NrE_T"
   },
   "outputs": [],
   "source": [
    "#Mudando o tipo de dado de algumas variáveis\n",
    "df1['mileage'] = pd.to_numeric(df1['mileage'])\n",
    "df1['max_power'] = pd.to_numeric(df1['max_power'])\n",
    "df1['engine'] = pd.to_numeric(df1['engine']) \n",
    "df1['seats'] = pd.to_numeric(df1['seats']) \n",
    "#df1['torque'] = pd.to_numeric(df1['torque'])  \n",
    "\n",
    "#Base de Teste\n",
    "df_test['mileage'] = pd.to_numeric(df_test['mileage'])\n",
    "df_test['max_power'] = pd.to_numeric(df_test['max_power'])\n",
    "df_test['engine'] = pd.to_numeric(df_test['engine'])\n",
    "df_test['seats'] = pd.to_numeric(df_test['seats']) \n",
    "#df_test['torque'] = pd.to_numeric(df_test['torque']) "
   ]
  },
  {
   "cell_type": "markdown",
   "metadata": {
    "id": "aHiZuHmTz4AS"
   },
   "source": [
    "# Transformar as variaveis categoricas para a regressão"
   ]
  },
  {
   "cell_type": "markdown",
   "metadata": {
    "id": "PA4-FryE4wwt"
   },
   "source": [
    "## Substituicao variaveis categoricas por rótulos numéricos\n"
   ]
  },
  {
   "cell_type": "code",
   "execution_count": null,
   "metadata": {
    "id": "0Ee4glR8IbfB"
   },
   "outputs": [],
   "source": [
    "from sklearn import preprocessing\n",
    "le = preprocessing.LabelEncoder()\n",
    "#base de treino\n",
    "for i in range(0, len(df1.columns.values)):\n",
    "  if df1.dtypes[i] == 'O':\n",
    "    df1.iloc[:, i] = le.fit_transform(df1.iloc[:, i]).astype('str')\n",
    "\n",
    "#Na base de test\n",
    "for i in range(0, len(df_test.columns.values)):\n",
    "  if df_test.dtypes[i] == 'O':\n",
    "    df_test.iloc[:, i] = le.fit_transform(df_test.iloc[:, i]).astype('str')"
   ]
  },
  {
   "cell_type": "code",
   "execution_count": null,
   "metadata": {
    "colab": {
     "base_uri": "https://localhost:8080/"
    },
    "id": "wLSbwCkY8IuW",
    "outputId": "fc85f43b-276c-43ee-bc1b-85d831c8b5b4"
   },
   "outputs": [
    {
     "name": "stdout",
     "output_type": "stream",
     "text": [
      "<class 'pandas.core.frame.DataFrame'>\n",
      "Int64Index: 5530 entries, 1 to 5688\n",
      "Data columns (total 12 columns):\n",
      " #   Column         Non-Null Count  Dtype  \n",
      "---  ------         --------------  -----  \n",
      " 0   selling_price  5530 non-null   int64  \n",
      " 1   km_driven      5530 non-null   int64  \n",
      " 2   fuel           5530 non-null   object \n",
      " 3   seller_type    5530 non-null   object \n",
      " 4   transmission   5530 non-null   object \n",
      " 5   owner          5530 non-null   object \n",
      " 6   mileage        5530 non-null   float64\n",
      " 7   engine         5530 non-null   int64  \n",
      " 8   max_power      5530 non-null   float64\n",
      " 9   seats          5530 non-null   float64\n",
      " 10  brand          5530 non-null   object \n",
      " 11  age            5530 non-null   int64  \n",
      "dtypes: float64(3), int64(4), object(5)\n",
      "memory usage: 561.6+ KB\n"
     ]
    }
   ],
   "source": [
    "df1.info()"
   ]
  },
  {
   "cell_type": "code",
   "execution_count": null,
   "metadata": {
    "colab": {
     "base_uri": "https://localhost:8080/",
     "height": 204
    },
    "id": "hKDzE8yj9I3N",
    "outputId": "5e844c57-e8a8-47b4-d118-6da1238d7e24"
   },
   "outputs": [
    {
     "data": {
      "text/html": [
       "<div>\n",
       "<style scoped>\n",
       "    .dataframe tbody tr th:only-of-type {\n",
       "        vertical-align: middle;\n",
       "    }\n",
       "\n",
       "    .dataframe tbody tr th {\n",
       "        vertical-align: top;\n",
       "    }\n",
       "\n",
       "    .dataframe thead th {\n",
       "        text-align: right;\n",
       "    }\n",
       "</style>\n",
       "<table border=\"1\" class=\"dataframe\">\n",
       "  <thead>\n",
       "    <tr style=\"text-align: right;\">\n",
       "      <th></th>\n",
       "      <th>selling_price</th>\n",
       "      <th>km_driven</th>\n",
       "      <th>fuel</th>\n",
       "      <th>seller_type</th>\n",
       "      <th>transmission</th>\n",
       "      <th>owner</th>\n",
       "      <th>mileage</th>\n",
       "      <th>engine</th>\n",
       "      <th>max_power</th>\n",
       "      <th>seats</th>\n",
       "      <th>brand</th>\n",
       "      <th>age</th>\n",
       "    </tr>\n",
       "  </thead>\n",
       "  <tbody>\n",
       "    <tr>\n",
       "      <th>1</th>\n",
       "      <td>459999</td>\n",
       "      <td>87000</td>\n",
       "      <td>1</td>\n",
       "      <td>1</td>\n",
       "      <td>1</td>\n",
       "      <td>0</td>\n",
       "      <td>20.77</td>\n",
       "      <td>1248</td>\n",
       "      <td>88.76</td>\n",
       "      <td>7.0</td>\n",
       "      <td>20</td>\n",
       "      <td>9</td>\n",
       "    </tr>\n",
       "    <tr>\n",
       "      <th>2</th>\n",
       "      <td>1100000</td>\n",
       "      <td>102000</td>\n",
       "      <td>1</td>\n",
       "      <td>0</td>\n",
       "      <td>0</td>\n",
       "      <td>0</td>\n",
       "      <td>19.62</td>\n",
       "      <td>1995</td>\n",
       "      <td>187.74</td>\n",
       "      <td>5.0</td>\n",
       "      <td>3</td>\n",
       "      <td>11</td>\n",
       "    </tr>\n",
       "    <tr>\n",
       "      <th>3</th>\n",
       "      <td>229999</td>\n",
       "      <td>212000</td>\n",
       "      <td>1</td>\n",
       "      <td>1</td>\n",
       "      <td>1</td>\n",
       "      <td>4</td>\n",
       "      <td>11.57</td>\n",
       "      <td>2179</td>\n",
       "      <td>138.10</td>\n",
       "      <td>7.0</td>\n",
       "      <td>26</td>\n",
       "      <td>12</td>\n",
       "    </tr>\n",
       "    <tr>\n",
       "      <th>4</th>\n",
       "      <td>800000</td>\n",
       "      <td>125000</td>\n",
       "      <td>1</td>\n",
       "      <td>1</td>\n",
       "      <td>1</td>\n",
       "      <td>2</td>\n",
       "      <td>11.50</td>\n",
       "      <td>2982</td>\n",
       "      <td>171.00</td>\n",
       "      <td>7.0</td>\n",
       "      <td>27</td>\n",
       "      <td>11</td>\n",
       "    </tr>\n",
       "    <tr>\n",
       "      <th>5</th>\n",
       "      <td>180000</td>\n",
       "      <td>25000</td>\n",
       "      <td>3</td>\n",
       "      <td>1</td>\n",
       "      <td>1</td>\n",
       "      <td>2</td>\n",
       "      <td>19.70</td>\n",
       "      <td>796</td>\n",
       "      <td>46.30</td>\n",
       "      <td>5.0</td>\n",
       "      <td>20</td>\n",
       "      <td>11</td>\n",
       "    </tr>\n",
       "  </tbody>\n",
       "</table>\n",
       "</div>"
      ],
      "text/plain": [
       "   selling_price  km_driven fuel seller_type  ... max_power seats  brand  age\n",
       "1         459999      87000    1           1  ...     88.76   7.0     20    9\n",
       "2        1100000     102000    1           0  ...    187.74   5.0      3   11\n",
       "3         229999     212000    1           1  ...    138.10   7.0     26   12\n",
       "4         800000     125000    1           1  ...    171.00   7.0     27   11\n",
       "5         180000      25000    3           1  ...     46.30   5.0     20   11\n",
       "\n",
       "[5 rows x 12 columns]"
      ]
     },
     "execution_count": 69,
     "metadata": {
      "tags": []
     },
     "output_type": "execute_result"
    }
   ],
   "source": [
    "df1.head(5)"
   ]
  },
  {
   "cell_type": "markdown",
   "metadata": {
    "id": "R0QjbNF25Ok-"
   },
   "source": [
    "Temos agora todas as variaveis numericas para utilizar na nossa regressao"
   ]
  },
  {
   "cell_type": "code",
   "execution_count": null,
   "metadata": {
    "colab": {
     "base_uri": "https://localhost:8080/",
     "height": 407
    },
    "id": "v_gj0KH_5R8T",
    "outputId": "06b9f4ed-7c7d-4999-c796-7d241102f83e"
   },
   "outputs": [
    {
     "data": {
      "image/png": "[encoded data removed]",
      "text/plain": [
       "<Figure size 1152x432 with 2 Axes>"
      ]
     },
     "metadata": {
      "tags": []
     },
     "output_type": "display_data"
    }
   ],
   "source": [
    "plt.figure(figsize=(16, 6))\n",
    "# define the mask to set the values in the upper triangle to True\n",
    "mask = np.triu(np.ones_like(df1.corr(), dtype=np.bool))\n",
    "heatmap = sns.heatmap(df1.corr(), mask=mask, vmin=-1, vmax=1, annot=True, cmap='BrBG')\n",
    "heatmap.set_title('Correlation Heatmap', fontdict={'fontsize':18}, pad=16);"
   ]
  },
  {
   "cell_type": "markdown",
   "metadata": {
    "id": "We1FtfYS6cmW"
   },
   "source": [
    "Correlacoes muito altas entre variaveis do treino poderiam ser reduntantes, observamos que isso nao ocorre"
   ]
  },
  {
   "cell_type": "markdown",
   "metadata": {
    "id": "VUI9wNF-t52a"
   },
   "source": [
    "## Analise das variaveis quantitativas\n",
    "\n"
   ]
  },
  {
   "cell_type": "code",
   "execution_count": null,
   "metadata": {
    "colab": {
     "base_uri": "https://localhost:8080/",
     "height": 1000
    },
    "id": "VUSsXDLnEK9R",
    "outputId": "a8c66c0e-c57e-4fe0-bba4-f9a22f92c988"
   },
   "outputs": [
    {
     "data": {
      "image/png": "[encoded data removed]",
      "text/plain": [
       "<Figure size 432x288 with 2 Axes>"
      ]
     },
     "metadata": {
      "tags": []
     },
     "output_type": "display_data"
    },
    {
     "data": {
      "image/png": "[encoded data removed]",
      "text/plain": [
       "<Figure size 432x288 with 2 Axes>"
      ]
     },
     "metadata": {
      "tags": []
     },
     "output_type": "display_data"
    },
    {
     "data": {
      "image/png": "[encoded data removed]",
      "text/plain": [
       "<Figure size 432x288 with 2 Axes>"
      ]
     },
     "metadata": {
      "tags": []
     },
     "output_type": "display_data"
    },
    {
     "data": {
      "image/png": "[encoded data removed]",
      "text/plain": [
       "<Figure size 432x288 with 2 Axes>"
      ]
     },
     "metadata": {
      "tags": []
     },
     "output_type": "display_data"
    },
    {
     "data": {
      "image/png": "[encoded data removed]",
      "text/plain": [
       "<Figure size 432x288 with 2 Axes>"
      ]
     },
     "metadata": {
      "tags": []
     },
     "output_type": "display_data"
    },
    {
     "data": {
      "image/png": "[encoded data removed]",
      "text/plain": [
       "<Figure size 432x288 with 2 Axes>"
      ]
     },
     "metadata": {
      "tags": []
     },
     "output_type": "display_data"
    },
    {
     "data": {
      "image/png": "[encoded data removed]",
      "text/plain": [
       "<Figure size 432x288 with 2 Axes>"
      ]
     },
     "metadata": {
      "tags": []
     },
     "output_type": "display_data"
    }
   ],
   "source": [
    "c = ['selling_price','km_driven','mileage','engine', 'max_power', 'seats', 'age']\n",
    "\n",
    "for i in c:\n",
    "\n",
    "  sns.set(style=\"ticks\")\n",
    "\n",
    "  x = df1[i]\n",
    "  coluna = i\n",
    "  mu = round(x.mean(),2) # mean of distribution\n",
    "  sigma = round(x.std(),2)  # standard deviation of distribution\n",
    "\n",
    "  f, (ax_box, ax_hist) = plt.subplots(2)\n",
    "\n",
    "  sns.boxplot(x=x, ax=ax_box)\n",
    "  sns.histplot(x=x, ax=ax_hist)\n",
    "\n",
    "  ax_box.set(yticks=[])\n",
    "  sns.despine(ax=ax_hist)\n",
    "  sns.despine(ax=ax_box, left=True)\n",
    "  ax_box.set_title('Boxplot e Histograma de {}\\n $\\mu={}$, $\\sigma={}$'.format(coluna, mu,sigma))\n",
    "\n",
    "plt.show()"
   ]
  },
  {
   "cell_type": "markdown",
   "metadata": {
    "id": "1N0OOpfAPInk"
   },
   "source": [
    "Nota se que a variavel que devemos prever, selling price tem uma altissima variancia e quase todas as variaveis quantitativas possuem outliers"
   ]
  },
  {
   "cell_type": "markdown",
   "metadata": {
    "id": "COvVJeHx7O7J"
   },
   "source": [
    "# Preparacao dos dados"
   ]
  },
  {
   "cell_type": "markdown",
   "metadata": {
    "id": "Ix5D0hVs7Sat"
   },
   "source": [
    "antes de fazer a feature selection vamos normalizar e separar o que deve ser predito das variaveis <br>\n",
    "duvida: deve ser normalizado antes da feature selection?"
   ]
  },
  {
   "cell_type": "code",
   "execution_count": null,
   "metadata": {
    "colab": {
     "base_uri": "https://localhost:8080/",
     "height": 204
    },
    "id": "ZgSy4H1A6bix",
    "outputId": "7fbd4c89-9af6-4192-b1fa-ccfb0408f4d3"
   },
   "outputs": [
    {
     "data": {
      "text/html": [
       "<div>\n",
       "<style scoped>\n",
       "    .dataframe tbody tr th:only-of-type {\n",
       "        vertical-align: middle;\n",
       "    }\n",
       "\n",
       "    .dataframe tbody tr th {\n",
       "        vertical-align: top;\n",
       "    }\n",
       "\n",
       "    .dataframe thead th {\n",
       "        text-align: right;\n",
       "    }\n",
       "</style>\n",
       "<table border=\"1\" class=\"dataframe\">\n",
       "  <thead>\n",
       "    <tr style=\"text-align: right;\">\n",
       "      <th></th>\n",
       "      <th>selling_price</th>\n",
       "      <th>km_driven</th>\n",
       "      <th>fuel</th>\n",
       "      <th>seller_type</th>\n",
       "      <th>transmission</th>\n",
       "      <th>owner</th>\n",
       "      <th>mileage</th>\n",
       "      <th>engine</th>\n",
       "      <th>max_power</th>\n",
       "      <th>seats</th>\n",
       "      <th>brand</th>\n",
       "      <th>age</th>\n",
       "    </tr>\n",
       "  </thead>\n",
       "  <tbody>\n",
       "    <tr>\n",
       "      <th>1</th>\n",
       "      <td>459999</td>\n",
       "      <td>87000</td>\n",
       "      <td>1</td>\n",
       "      <td>1</td>\n",
       "      <td>1</td>\n",
       "      <td>0</td>\n",
       "      <td>20.77</td>\n",
       "      <td>1248</td>\n",
       "      <td>88.76</td>\n",
       "      <td>7.0</td>\n",
       "      <td>20</td>\n",
       "      <td>9</td>\n",
       "    </tr>\n",
       "    <tr>\n",
       "      <th>2</th>\n",
       "      <td>1100000</td>\n",
       "      <td>102000</td>\n",
       "      <td>1</td>\n",
       "      <td>0</td>\n",
       "      <td>0</td>\n",
       "      <td>0</td>\n",
       "      <td>19.62</td>\n",
       "      <td>1995</td>\n",
       "      <td>187.74</td>\n",
       "      <td>5.0</td>\n",
       "      <td>3</td>\n",
       "      <td>11</td>\n",
       "    </tr>\n",
       "    <tr>\n",
       "      <th>3</th>\n",
       "      <td>229999</td>\n",
       "      <td>212000</td>\n",
       "      <td>1</td>\n",
       "      <td>1</td>\n",
       "      <td>1</td>\n",
       "      <td>4</td>\n",
       "      <td>11.57</td>\n",
       "      <td>2179</td>\n",
       "      <td>138.10</td>\n",
       "      <td>7.0</td>\n",
       "      <td>26</td>\n",
       "      <td>12</td>\n",
       "    </tr>\n",
       "    <tr>\n",
       "      <th>4</th>\n",
       "      <td>800000</td>\n",
       "      <td>125000</td>\n",
       "      <td>1</td>\n",
       "      <td>1</td>\n",
       "      <td>1</td>\n",
       "      <td>2</td>\n",
       "      <td>11.50</td>\n",
       "      <td>2982</td>\n",
       "      <td>171.00</td>\n",
       "      <td>7.0</td>\n",
       "      <td>27</td>\n",
       "      <td>11</td>\n",
       "    </tr>\n",
       "    <tr>\n",
       "      <th>5</th>\n",
       "      <td>180000</td>\n",
       "      <td>25000</td>\n",
       "      <td>3</td>\n",
       "      <td>1</td>\n",
       "      <td>1</td>\n",
       "      <td>2</td>\n",
       "      <td>19.70</td>\n",
       "      <td>796</td>\n",
       "      <td>46.30</td>\n",
       "      <td>5.0</td>\n",
       "      <td>20</td>\n",
       "      <td>11</td>\n",
       "    </tr>\n",
       "  </tbody>\n",
       "</table>\n",
       "</div>"
      ],
      "text/plain": [
       "   selling_price  km_driven fuel seller_type  ... max_power seats  brand  age\n",
       "1         459999      87000    1           1  ...     88.76   7.0     20    9\n",
       "2        1100000     102000    1           0  ...    187.74   5.0      3   11\n",
       "3         229999     212000    1           1  ...    138.10   7.0     26   12\n",
       "4         800000     125000    1           1  ...    171.00   7.0     27   11\n",
       "5         180000      25000    3           1  ...     46.30   5.0     20   11\n",
       "\n",
       "[5 rows x 12 columns]"
      ]
     },
     "execution_count": 72,
     "metadata": {
      "tags": []
     },
     "output_type": "execute_result"
    }
   ],
   "source": [
    "df1.head()"
   ]
  },
  {
   "cell_type": "code",
   "execution_count": null,
   "metadata": {
    "id": "LQQKL0gmd18L"
   },
   "outputs": [],
   "source": [
    "colunas = df1.iloc[:,1:].columns"
   ]
  },
  {
   "cell_type": "code",
   "execution_count": null,
   "metadata": {
    "colab": {
     "base_uri": "https://localhost:8080/"
    },
    "id": "_SeReaNcd18L",
    "outputId": "f1f6102a-b648-4da9-b871-bfb84d6f7e56"
   },
   "outputs": [
    {
     "data": {
      "text/plain": [
       "Index(['km_driven', 'fuel', 'seller_type', 'transmission', 'owner', 'mileage',\n",
       "       'engine', 'max_power', 'seats', 'brand', 'age'],\n",
       "      dtype='object')"
      ]
     },
     "execution_count": 74,
     "metadata": {
      "tags": []
     },
     "output_type": "execute_result"
    }
   ],
   "source": [
    "colunas"
   ]
  },
  {
   "cell_type": "markdown",
   "metadata": {
    "id": "ext0cWqB8cgt"
   },
   "source": [
    "## Padronizacao"
   ]
  },
  {
   "cell_type": "markdown",
   "metadata": {
    "id": "CZ4C5y6O9aA2"
   },
   "source": [
    "Vamos padronizar a base a ser predita tbm"
   ]
  },
  {
   "cell_type": "markdown",
   "metadata": {
    "id": "IsvhHjXn-o5R"
   },
   "source": [
    "Transformar para formato numpy para nao termos erro na normalizacao"
   ]
  },
  {
   "cell_type": "code",
   "execution_count": null,
   "metadata": {
    "id": "ACl7ENAn-n9A"
   },
   "outputs": [],
   "source": [
    "data = df1.to_numpy()\n",
    "nrow,ncol = df1.shape\n",
    "y = data[:,:1]\n",
    "X = data[:,1:]"
   ]
  },
  {
   "cell_type": "code",
   "execution_count": null,
   "metadata": {
    "id": "iJsZnUw78OMB"
   },
   "outputs": [],
   "source": [
    "from sklearn.preprocessing import StandardScaler\n",
    "from sklearn.preprocessing import MinMaxScaler\n",
    "\n",
    "scaler_train = StandardScaler()\n",
    "#scaler_train = MinMaxScaler()\n",
    "X = scaler_train.fit_transform(X)\n",
    "\n",
    "#Padronizando os precos tbm\n",
    "#scaler_train = StandardScaler()\n",
    "#scaler_train = MinMaxScaler()\n",
    "#y = scaler_train.fit_transform(y)\n",
    "\n",
    "#Vamos padronizar o teste tbm\n",
    "scaler_train = StandardScaler()\n",
    "#scaler_train = MinMaxScaler()\n",
    "df_test1 = scaler_train.fit_transform(df_test)"
   ]
  },
  {
   "cell_type": "code",
   "execution_count": null,
   "metadata": {
    "colab": {
     "base_uri": "https://localhost:8080/"
    },
    "id": "NLazgycV_lMt",
    "outputId": "a5ce6fec-1ce7-47f3-c70b-0e20bca0c086"
   },
   "outputs": [
    {
     "name": "stdout",
     "output_type": "stream",
     "text": [
      "(5530, 1)\n",
      "(5530, 11)\n"
     ]
    }
   ],
   "source": [
    "print(y.shape)\n",
    "print(X.shape)"
   ]
  },
  {
   "cell_type": "markdown",
   "metadata": {
    "id": "JYaEaiFVABkO"
   },
   "source": [
    "## Separacao treino e teste"
   ]
  },
  {
   "cell_type": "code",
   "execution_count": null,
   "metadata": {
    "id": "YXq9T9u6_nPr"
   },
   "outputs": [],
   "source": [
    "from sklearn.model_selection import train_test_split\n",
    "\n",
    "X_train, X_test, y_train, y_test = train_test_split(X, y, test_size = 0.2, random_state = 4)"
   ]
  },
  {
   "cell_type": "markdown",
   "metadata": {
    "id": "JjpYugqyXiqi"
   },
   "source": [
    "# Catboost"
   ]
  },
  {
   "cell_type": "code",
   "execution_count": null,
   "metadata": {
    "id": "d7sVQJfTd18O"
   },
   "outputs": [],
   "source": [
    "from catboost import CatBoostRegressor\n",
    "from sklearn.model_selection import GridSearchCV"
   ]
  },
  {
   "cell_type": "code",
   "execution_count": null,
   "metadata": {
    "id": "-09m2Xk4VaE5"
   },
   "outputs": [],
   "source": [
    " parameters = {'depth'         : [6,8,10],\n",
    "                  'learning_rate' : [0.01, 0.05, 0.1],\n",
    "                  'iterations'    : [30, 50, 100]\n",
    "                 }\n",
    "model_CBR = CatBoostRegressor(logging_level='Silent')\n",
    "\n",
    "eval_set=[(X_train, y_train), (X_test, y_test)]"
   ]
  },
  {
   "cell_type": "code",
   "execution_count": null,
   "metadata": {
    "colab": {
     "base_uri": "https://localhost:8080/"
    },
    "id": "0YdBmrweVXEL",
    "outputId": "3972120d-5206-49d7-8b7e-357a8c2b5888"
   },
   "outputs": [
    {
     "name": "stdout",
     "output_type": "stream",
     "text": [
      "Melhor modelo: <catboost.core.CatBoostRegressor object at 0x7f99b675db50>\n",
      "Melhor score: 0.9645632608480236\n",
      "CPU times: user 2.41 s, sys: 213 ms, total: 2.62 s\n",
      "Wall time: 1min 56s\n"
     ]
    }
   ],
   "source": [
    "%%time\n",
    "\n",
    "grid = GridSearchCV(estimator=model_CBR, param_grid = parameters, cv = 10, n_jobs=-1, scoring='r2')\n",
    "grid.fit(X_train, y_train, eval_set=eval_set, early_stopping_rounds=10)\n",
    "#grid.fit(X_train, y_train)\n",
    "\n",
    "\n",
    "\n",
    "print(\"Melhor modelo: {}\".format(grid.best_estimator_))\n",
    "print(\"Melhor score: {}\".format(grid.best_score_))"
   ]
  },
  {
   "cell_type": "code",
   "execution_count": null,
   "metadata": {
    "colab": {
     "base_uri": "https://localhost:8080/"
    },
    "id": "IU8Un4NLdD1q",
    "outputId": "624e751a-7ca1-472a-fd94-52649df8585f"
   },
   "outputs": [
    {
     "name": "stdout",
     "output_type": "stream",
     "text": [
      "0.9547105241909506\n"
     ]
    }
   ],
   "source": [
    "from sklearn.metrics import r2_score\n",
    "y_predict = grid.predict(X_test)\n",
    "\n",
    "#rmse = np.sqrt(mean_squared_error(y_test,y_linear_pred))\n",
    "r2 = r2_score(y_test,y_predict)\n",
    "print(r2)"
   ]
  },
  {
   "cell_type": "markdown",
   "metadata": {
    "id": "LTxJ8eIPd18Q"
   },
   "source": [
    "# Feature Selection"
   ]
  },
  {
   "cell_type": "markdown",
   "metadata": {
    "id": "RAfusSJJd18Q"
   },
   "source": [
    "https://www.analyseup.com/learn-python-for-data-science/python-random-forest-feature-importance-plot.html"
   ]
  },
  {
   "cell_type": "code",
   "execution_count": null,
   "metadata": {
    "id": "DB-oGTwUd18R"
   },
   "outputs": [],
   "source": [
    "def plot_feature_importance(importance,names,model_type):\n",
    "    \n",
    "    #Create arrays from feature importance and feature names\n",
    "    feature_importance = np.array(importance)\n",
    "    feature_names = np.array(names)\n",
    "    \n",
    "    #Create a DataFrame using a Dictionary\n",
    "    data={'feature_names':feature_names,'feature_importance':feature_importance}\n",
    "    fi_df = pd.DataFrame(data)\n",
    "    \n",
    "    #Sort the DataFrame in order decreasing feature importance\n",
    "    fi_df.sort_values(by=['feature_importance'], ascending=False,inplace=True)\n",
    "    \n",
    "    #Define size of bar plot\n",
    "    plt.figure(figsize=(10,8))\n",
    "    #Plot Searborn bar chart\n",
    "    sns.barplot(x=fi_df['feature_importance'], y=fi_df['feature_names'])\n",
    "    #Add chart labels\n",
    "    plt.title(model_type + 'FEATURE IMPORTANCE')\n",
    "    plt.xlabel('FEATURE IMPORTANCE')\n",
    "    plt.ylabel('FEATURE NAMES')"
   ]
  },
  {
   "cell_type": "code",
   "execution_count": null,
   "metadata": {
    "colab": {
     "base_uri": "https://localhost:8080/",
     "height": 518
    },
    "id": "1MBOGDiYd18R",
    "outputId": "f9bd20d3-d7ee-4be8-aa9f-eddcb40308ff"
   },
   "outputs": [
    {
     "data": {
      "image/png": "[encoded data removed]",
      "text/plain": [
       "<Figure size 720x576 with 1 Axes>"
      ]
     },
     "metadata": {
      "tags": []
     },
     "output_type": "display_data"
    }
   ],
   "source": [
    "plot_feature_importance(grid.best_estimator_.get_feature_importance(),colunas,'CATBOOST ')"
   ]
  },
  {
   "cell_type": "markdown",
   "metadata": {
    "id": "18Bt_fdad18S"
   },
   "source": [
    "## Vamos tirar as colunas com menos importancia"
   ]
  },
  {
   "cell_type": "code",
   "execution_count": null,
   "metadata": {
    "id": "_pPo9ZGVd18S"
   },
   "outputs": [],
   "source": [
    "df1.head()\n",
    "c = ['owner', 'seats', 'seller_type']\n",
    "df2 = df1.drop(labels = c, axis = 1)\n",
    "\n",
    "df_test2 = df_test.drop(labels = c, axis = 1)"
   ]
  },
  {
   "cell_type": "code",
   "execution_count": null,
   "metadata": {
    "colab": {
     "base_uri": "https://localhost:8080/",
     "height": 419
    },
    "id": "-Vtj_hPed18T",
    "outputId": "09a8690d-fdd8-470f-eb60-a1db5b23939e"
   },
   "outputs": [
    {
     "data": {
      "text/html": [
       "<div>\n",
       "<style scoped>\n",
       "    .dataframe tbody tr th:only-of-type {\n",
       "        vertical-align: middle;\n",
       "    }\n",
       "\n",
       "    .dataframe tbody tr th {\n",
       "        vertical-align: top;\n",
       "    }\n",
       "\n",
       "    .dataframe thead th {\n",
       "        text-align: right;\n",
       "    }\n",
       "</style>\n",
       "<table border=\"1\" class=\"dataframe\">\n",
       "  <thead>\n",
       "    <tr style=\"text-align: right;\">\n",
       "      <th></th>\n",
       "      <th>selling_price</th>\n",
       "      <th>km_driven</th>\n",
       "      <th>fuel</th>\n",
       "      <th>transmission</th>\n",
       "      <th>mileage</th>\n",
       "      <th>engine</th>\n",
       "      <th>max_power</th>\n",
       "      <th>brand</th>\n",
       "      <th>age</th>\n",
       "    </tr>\n",
       "  </thead>\n",
       "  <tbody>\n",
       "    <tr>\n",
       "      <th>1</th>\n",
       "      <td>459999</td>\n",
       "      <td>87000</td>\n",
       "      <td>1</td>\n",
       "      <td>1</td>\n",
       "      <td>20.77</td>\n",
       "      <td>1248</td>\n",
       "      <td>88.76</td>\n",
       "      <td>20</td>\n",
       "      <td>9</td>\n",
       "    </tr>\n",
       "    <tr>\n",
       "      <th>2</th>\n",
       "      <td>1100000</td>\n",
       "      <td>102000</td>\n",
       "      <td>1</td>\n",
       "      <td>0</td>\n",
       "      <td>19.62</td>\n",
       "      <td>1995</td>\n",
       "      <td>187.74</td>\n",
       "      <td>3</td>\n",
       "      <td>11</td>\n",
       "    </tr>\n",
       "    <tr>\n",
       "      <th>3</th>\n",
       "      <td>229999</td>\n",
       "      <td>212000</td>\n",
       "      <td>1</td>\n",
       "      <td>1</td>\n",
       "      <td>11.57</td>\n",
       "      <td>2179</td>\n",
       "      <td>138.10</td>\n",
       "      <td>26</td>\n",
       "      <td>12</td>\n",
       "    </tr>\n",
       "    <tr>\n",
       "      <th>4</th>\n",
       "      <td>800000</td>\n",
       "      <td>125000</td>\n",
       "      <td>1</td>\n",
       "      <td>1</td>\n",
       "      <td>11.50</td>\n",
       "      <td>2982</td>\n",
       "      <td>171.00</td>\n",
       "      <td>27</td>\n",
       "      <td>11</td>\n",
       "    </tr>\n",
       "    <tr>\n",
       "      <th>5</th>\n",
       "      <td>180000</td>\n",
       "      <td>25000</td>\n",
       "      <td>3</td>\n",
       "      <td>1</td>\n",
       "      <td>19.70</td>\n",
       "      <td>796</td>\n",
       "      <td>46.30</td>\n",
       "      <td>20</td>\n",
       "      <td>11</td>\n",
       "    </tr>\n",
       "    <tr>\n",
       "      <th>...</th>\n",
       "      <td>...</td>\n",
       "      <td>...</td>\n",
       "      <td>...</td>\n",
       "      <td>...</td>\n",
       "      <td>...</td>\n",
       "      <td>...</td>\n",
       "      <td>...</td>\n",
       "      <td>...</td>\n",
       "      <td>...</td>\n",
       "    </tr>\n",
       "    <tr>\n",
       "      <th>5684</th>\n",
       "      <td>550000</td>\n",
       "      <td>20000</td>\n",
       "      <td>3</td>\n",
       "      <td>1</td>\n",
       "      <td>18.90</td>\n",
       "      <td>1197</td>\n",
       "      <td>82.00</td>\n",
       "      <td>11</td>\n",
       "      <td>4</td>\n",
       "    </tr>\n",
       "    <tr>\n",
       "      <th>5685</th>\n",
       "      <td>360000</td>\n",
       "      <td>81000</td>\n",
       "      <td>1</td>\n",
       "      <td>1</td>\n",
       "      <td>19.01</td>\n",
       "      <td>1461</td>\n",
       "      <td>108.45</td>\n",
       "      <td>24</td>\n",
       "      <td>8</td>\n",
       "    </tr>\n",
       "    <tr>\n",
       "      <th>5686</th>\n",
       "      <td>310000</td>\n",
       "      <td>70000</td>\n",
       "      <td>1</td>\n",
       "      <td>1</td>\n",
       "      <td>19.30</td>\n",
       "      <td>1248</td>\n",
       "      <td>73.90</td>\n",
       "      <td>20</td>\n",
       "      <td>10</td>\n",
       "    </tr>\n",
       "    <tr>\n",
       "      <th>5687</th>\n",
       "      <td>650000</td>\n",
       "      <td>57000</td>\n",
       "      <td>1</td>\n",
       "      <td>1</td>\n",
       "      <td>23.65</td>\n",
       "      <td>1248</td>\n",
       "      <td>88.50</td>\n",
       "      <td>20</td>\n",
       "      <td>6</td>\n",
       "    </tr>\n",
       "    <tr>\n",
       "      <th>5688</th>\n",
       "      <td>420000</td>\n",
       "      <td>90000</td>\n",
       "      <td>1</td>\n",
       "      <td>1</td>\n",
       "      <td>24.40</td>\n",
       "      <td>1120</td>\n",
       "      <td>71.01</td>\n",
       "      <td>11</td>\n",
       "      <td>7</td>\n",
       "    </tr>\n",
       "  </tbody>\n",
       "</table>\n",
       "<p>5530 rows × 9 columns</p>\n",
       "</div>"
      ],
      "text/plain": [
       "      selling_price  km_driven fuel transmission  ...  engine  max_power  brand age\n",
       "1            459999      87000    1            1  ...    1248      88.76     20   9\n",
       "2           1100000     102000    1            0  ...    1995     187.74      3  11\n",
       "3            229999     212000    1            1  ...    2179     138.10     26  12\n",
       "4            800000     125000    1            1  ...    2982     171.00     27  11\n",
       "5            180000      25000    3            1  ...     796      46.30     20  11\n",
       "...             ...        ...  ...          ...  ...     ...        ...    ...  ..\n",
       "5684         550000      20000    3            1  ...    1197      82.00     11   4\n",
       "5685         360000      81000    1            1  ...    1461     108.45     24   8\n",
       "5686         310000      70000    1            1  ...    1248      73.90     20  10\n",
       "5687         650000      57000    1            1  ...    1248      88.50     20   6\n",
       "5688         420000      90000    1            1  ...    1120      71.01     11   7\n",
       "\n",
       "[5530 rows x 9 columns]"
      ]
     },
     "execution_count": 85,
     "metadata": {
      "tags": []
     },
     "output_type": "execute_result"
    }
   ],
   "source": [
    "df2"
   ]
  },
  {
   "cell_type": "code",
   "execution_count": null,
   "metadata": {
    "id": "BtCfx2SUd18T"
   },
   "outputs": [],
   "source": [
    "from sklearn.preprocessing import StandardScaler\n",
    "from sklearn.preprocessing import MinMaxScaler\n",
    "\n",
    "data = df2.to_numpy()\n",
    "nrow,ncol = df2.shape\n",
    "y = data[:,:1]\n",
    "X = data[:,1:]\n",
    "\n",
    "scaler_train = StandardScaler()\n",
    "#scaler_train = MinMaxScaler()\n",
    "X = scaler_train.fit_transform(X)\n",
    "\n",
    "#Vamos padronizar o teste tbm\n",
    "scaler_train = StandardScaler()\n",
    "#scaler_train = MinMaxScaler()\n",
    "df_test2 = scaler_train.fit_transform(df_test2)"
   ]
  },
  {
   "cell_type": "code",
   "execution_count": null,
   "metadata": {
    "id": "SWexPDOSd18T"
   },
   "outputs": [],
   "source": [
    "from sklearn.model_selection import train_test_split\n",
    "\n",
    "X_train, X_test, y_train, y_test = train_test_split(X, y, test_size = 0.2, random_state = 4)"
   ]
  },
  {
   "cell_type": "code",
   "execution_count": null,
   "metadata": {
    "id": "C4brA94xd18U"
   },
   "outputs": [],
   "source": [
    "parameters = {'depth'         : [6,8,10],\n",
    "                  'learning_rate' : [0.01, 0.05, 0.1],\n",
    "                  'iterations'    : [30, 50, 100]\n",
    "                 }\n",
    "model_CBR = CatBoostRegressor()\n",
    "\n",
    "eval_set=[(X_train, y_train), (X_test, y_test)]"
   ]
  },
  {
   "cell_type": "code",
   "execution_count": null,
   "metadata": {
    "colab": {
     "base_uri": "https://localhost:8080/"
    },
    "id": "_vwzeXXid18U",
    "outputId": "1d1613d5-b01b-422e-8fdf-61f836fdf0e2"
   },
   "outputs": [
    {
     "name": "stdout",
     "output_type": "stream",
     "text": [
      "0:\tlearn: 725099.3360888\ttest: 725099.3360888\ttest1: 725838.2268251\tbest: 725838.2268251 (0)\ttotal: 5.88ms\tremaining: 582ms\n",
      "1:\tlearn: 667962.7502607\ttest: 667962.7502607\ttest1: 670005.4649577\tbest: 670005.4649577 (1)\ttotal: 10.5ms\tremaining: 513ms\n",
      "2:\tlearn: 618026.2240742\ttest: 618026.2240742\ttest1: 621886.9502452\tbest: 621886.9502452 (2)\ttotal: 14.7ms\tremaining: 477ms\n",
      "3:\tlearn: 570637.0627416\ttest: 570637.0627416\ttest1: 578186.2612178\tbest: 578186.2612178 (3)\ttotal: 19ms\tremaining: 456ms\n",
      "4:\tlearn: 527755.3300552\ttest: 527755.3300552\ttest1: 536947.9038419\tbest: 536947.9038419 (4)\ttotal: 23.2ms\tremaining: 441ms\n",
      "5:\tlearn: 490277.1990580\ttest: 490277.1990580\ttest1: 502595.3096877\tbest: 502595.3096877 (5)\ttotal: 27.4ms\tremaining: 428ms\n",
      "6:\tlearn: 453374.2521619\ttest: 453374.2521619\ttest1: 467777.7143207\tbest: 467777.7143207 (6)\ttotal: 31.6ms\tremaining: 420ms\n",
      "7:\tlearn: 420792.5779912\ttest: 420792.5779912\ttest1: 437861.6946392\tbest: 437861.6946392 (7)\ttotal: 35.8ms\tremaining: 412ms\n",
      "8:\tlearn: 393043.0440251\ttest: 393043.0440251\ttest1: 411090.6830783\tbest: 411090.6830783 (8)\ttotal: 40.1ms\tremaining: 406ms\n",
      "9:\tlearn: 367221.8236830\ttest: 367221.8236830\ttest1: 386919.3392056\tbest: 386919.3392056 (9)\ttotal: 44.2ms\tremaining: 398ms\n",
      "10:\tlearn: 343181.0694443\ttest: 343181.0694443\ttest1: 364792.0635716\tbest: 364792.0635716 (10)\ttotal: 48.3ms\tremaining: 391ms\n",
      "11:\tlearn: 322896.6381826\ttest: 322896.6381826\ttest1: 345040.7307973\tbest: 345040.7307973 (11)\ttotal: 52.6ms\tremaining: 385ms\n",
      "12:\tlearn: 302845.9618204\ttest: 302845.9618204\ttest1: 326860.5565415\tbest: 326860.5565415 (12)\ttotal: 56.7ms\tremaining: 380ms\n",
      "13:\tlearn: 286641.4715800\ttest: 286641.4715800\ttest1: 312219.6312316\tbest: 312219.6312316 (13)\ttotal: 60.8ms\tremaining: 374ms\n",
      "14:\tlearn: 270952.0744893\ttest: 270952.0744893\ttest1: 297170.7323797\tbest: 297170.7323797 (14)\ttotal: 65ms\tremaining: 368ms\n",
      "15:\tlearn: 258475.3925918\ttest: 258475.3925918\ttest1: 286340.8212579\tbest: 286340.8212579 (15)\ttotal: 69.2ms\tremaining: 363ms\n",
      "16:\tlearn: 246371.0312132\ttest: 246371.0312132\ttest1: 275079.9896599\tbest: 275079.9896599 (16)\ttotal: 73.4ms\tremaining: 359ms\n",
      "17:\tlearn: 233887.0889817\ttest: 233887.0889817\ttest1: 264771.1551038\tbest: 264771.1551038 (17)\ttotal: 77.5ms\tremaining: 353ms\n",
      "18:\tlearn: 222216.5469460\ttest: 222216.5469460\ttest1: 255136.6229553\tbest: 255136.6229553 (18)\ttotal: 81.7ms\tremaining: 348ms\n",
      "19:\tlearn: 212494.4651008\ttest: 212494.4651008\ttest1: 246835.1105830\tbest: 246835.1105830 (19)\ttotal: 85.7ms\tremaining: 343ms\n",
      "20:\tlearn: 204382.3914991\ttest: 204382.3914991\ttest1: 240594.7171910\tbest: 240594.7171910 (20)\ttotal: 89.9ms\tremaining: 338ms\n",
      "21:\tlearn: 197076.2687288\ttest: 197076.2687288\ttest1: 234047.3517937\tbest: 234047.3517937 (21)\ttotal: 94ms\tremaining: 333ms\n",
      "22:\tlearn: 190717.9316182\ttest: 190717.9316182\ttest1: 229118.7773587\tbest: 229118.7773587 (22)\ttotal: 98.2ms\tremaining: 329ms\n",
      "23:\tlearn: 184265.7333922\ttest: 184265.7333922\ttest1: 224184.7455733\tbest: 224184.7455733 (23)\ttotal: 103ms\tremaining: 325ms\n",
      "24:\tlearn: 179223.7916875\ttest: 179223.7916875\ttest1: 219812.4763748\tbest: 219812.4763748 (24)\ttotal: 107ms\tremaining: 321ms\n",
      "25:\tlearn: 174527.9822117\ttest: 174527.9822117\ttest1: 214888.9196695\tbest: 214888.9196695 (25)\ttotal: 111ms\tremaining: 316ms\n",
      "26:\tlearn: 170404.2989815\ttest: 170404.2989815\ttest1: 211053.6780763\tbest: 211053.6780763 (26)\ttotal: 115ms\tremaining: 311ms\n",
      "27:\tlearn: 166863.7350093\ttest: 166863.7350093\ttest1: 208784.3367464\tbest: 208784.3367464 (27)\ttotal: 119ms\tremaining: 306ms\n",
      "28:\tlearn: 163260.1751759\ttest: 163260.1751759\ttest1: 205808.8396433\tbest: 205808.8396433 (28)\ttotal: 123ms\tremaining: 302ms\n",
      "29:\tlearn: 158926.3923587\ttest: 158926.3923587\ttest1: 202478.9809685\tbest: 202478.9809685 (29)\ttotal: 127ms\tremaining: 297ms\n",
      "30:\tlearn: 155785.3469715\ttest: 155785.3469715\ttest1: 200400.2700177\tbest: 200400.2700177 (30)\ttotal: 132ms\tremaining: 293ms\n",
      "31:\tlearn: 152749.5027848\ttest: 152749.5027848\ttest1: 198254.6641147\tbest: 198254.6641147 (31)\ttotal: 136ms\tremaining: 288ms\n",
      "32:\tlearn: 150483.6658493\ttest: 150483.6658493\ttest1: 196047.9345613\tbest: 196047.9345613 (32)\ttotal: 140ms\tremaining: 284ms\n",
      "33:\tlearn: 148229.8724341\ttest: 148229.8724341\ttest1: 194514.8600443\tbest: 194514.8600443 (33)\ttotal: 144ms\tremaining: 279ms\n",
      "34:\tlearn: 146027.7013355\ttest: 146027.7013355\ttest1: 192266.2622987\tbest: 192266.2622987 (34)\ttotal: 148ms\tremaining: 275ms\n",
      "35:\tlearn: 144245.4701191\ttest: 144245.4701191\ttest1: 191552.0168309\tbest: 191552.0168309 (35)\ttotal: 152ms\tremaining: 270ms\n",
      "36:\tlearn: 142413.2536117\ttest: 142413.2536117\ttest1: 190117.7821396\tbest: 190117.7821396 (36)\ttotal: 157ms\tremaining: 267ms\n",
      "37:\tlearn: 140688.3204281\ttest: 140688.3204281\ttest1: 188455.4328949\tbest: 188455.4328949 (37)\ttotal: 162ms\tremaining: 264ms\n",
      "38:\tlearn: 139066.2852420\ttest: 139066.2852420\ttest1: 187131.2301431\tbest: 187131.2301431 (38)\ttotal: 166ms\tremaining: 260ms\n",
      "39:\tlearn: 137603.2707736\ttest: 137603.2707736\ttest1: 185678.7582810\tbest: 185678.7582810 (39)\ttotal: 170ms\tremaining: 255ms\n",
      "40:\tlearn: 136068.0198434\ttest: 136068.0198434\ttest1: 184205.7321537\tbest: 184205.7321537 (40)\ttotal: 174ms\tremaining: 251ms\n",
      "41:\tlearn: 134378.2331538\ttest: 134378.2331538\ttest1: 183290.2839965\tbest: 183290.2839965 (41)\ttotal: 178ms\tremaining: 246ms\n",
      "42:\tlearn: 132782.4541325\ttest: 132782.4541325\ttest1: 182169.0617821\tbest: 182169.0617821 (42)\ttotal: 182ms\tremaining: 242ms\n",
      "43:\tlearn: 131790.3338328\ttest: 131790.3338328\ttest1: 181371.1566799\tbest: 181371.1566799 (43)\ttotal: 187ms\tremaining: 237ms\n",
      "44:\tlearn: 130880.2599549\ttest: 130880.2599549\ttest1: 180683.8795768\tbest: 180683.8795768 (44)\ttotal: 191ms\tremaining: 233ms\n",
      "45:\tlearn: 129808.2123748\ttest: 129808.2123748\ttest1: 180036.1907090\tbest: 180036.1907090 (45)\ttotal: 195ms\tremaining: 229ms\n",
      "46:\tlearn: 129303.5785381\ttest: 129303.5785381\ttest1: 179738.2600447\tbest: 179738.2600447 (46)\ttotal: 206ms\tremaining: 232ms\n",
      "47:\tlearn: 128048.3689670\ttest: 128048.3689670\ttest1: 178556.9712466\tbest: 178556.9712466 (47)\ttotal: 211ms\tremaining: 228ms\n",
      "48:\tlearn: 127037.1538879\ttest: 127037.1538879\ttest1: 178171.7057705\tbest: 178171.7057705 (48)\ttotal: 215ms\tremaining: 224ms\n",
      "49:\tlearn: 126176.0556530\ttest: 126176.0556530\ttest1: 177706.5702217\tbest: 177706.5702217 (49)\ttotal: 219ms\tremaining: 219ms\n",
      "50:\tlearn: 125570.3422714\ttest: 125570.3422714\ttest1: 177407.1423650\tbest: 177407.1423650 (50)\ttotal: 223ms\tremaining: 214ms\n",
      "51:\tlearn: 124650.7426271\ttest: 124650.7426271\ttest1: 176796.2265874\tbest: 176796.2265874 (51)\ttotal: 227ms\tremaining: 209ms\n",
      "52:\tlearn: 123882.3428112\ttest: 123882.3428112\ttest1: 176625.5441358\tbest: 176625.5441358 (52)\ttotal: 231ms\tremaining: 205ms\n",
      "53:\tlearn: 122924.4547779\ttest: 122924.4547779\ttest1: 175859.5014073\tbest: 175859.5014073 (53)\ttotal: 235ms\tremaining: 201ms\n",
      "54:\tlearn: 122129.0599356\ttest: 122129.0599356\ttest1: 175180.7398020\tbest: 175180.7398020 (54)\ttotal: 239ms\tremaining: 196ms\n",
      "55:\tlearn: 121511.6989019\ttest: 121511.6989019\ttest1: 174846.2723380\tbest: 174846.2723380 (55)\ttotal: 244ms\tremaining: 191ms\n",
      "56:\tlearn: 120589.4171994\ttest: 120589.4171994\ttest1: 174736.4785205\tbest: 174736.4785205 (56)\ttotal: 248ms\tremaining: 187ms\n",
      "57:\tlearn: 120008.4701474\ttest: 120008.4701474\ttest1: 174249.8404187\tbest: 174249.8404187 (57)\ttotal: 252ms\tremaining: 183ms\n",
      "58:\tlearn: 119430.6644494\ttest: 119430.6644494\ttest1: 174265.5090162\tbest: 174249.8404187 (57)\ttotal: 257ms\tremaining: 178ms\n",
      "59:\tlearn: 118630.3058181\ttest: 118630.3058181\ttest1: 173976.2184429\tbest: 173976.2184429 (59)\ttotal: 261ms\tremaining: 174ms\n",
      "60:\tlearn: 118182.1997115\ttest: 118182.1997115\ttest1: 173876.2073501\tbest: 173876.2073501 (60)\ttotal: 265ms\tremaining: 169ms\n",
      "61:\tlearn: 117570.8979635\ttest: 117570.8979635\ttest1: 173793.8082586\tbest: 173793.8082586 (61)\ttotal: 269ms\tremaining: 165ms\n",
      "62:\tlearn: 116938.2068202\ttest: 116938.2068202\ttest1: 173418.3256343\tbest: 173418.3256343 (62)\ttotal: 273ms\tremaining: 160ms\n",
      "63:\tlearn: 116403.4637366\ttest: 116403.4637366\ttest1: 173307.5139834\tbest: 173307.5139834 (63)\ttotal: 277ms\tremaining: 156ms\n",
      "64:\tlearn: 115943.1552822\ttest: 115943.1552822\ttest1: 172843.7260659\tbest: 172843.7260659 (64)\ttotal: 282ms\tremaining: 152ms\n",
      "65:\tlearn: 115501.0159642\ttest: 115501.0159642\ttest1: 172739.4278919\tbest: 172739.4278919 (65)\ttotal: 286ms\tremaining: 147ms\n",
      "66:\tlearn: 114896.8633806\ttest: 114896.8633806\ttest1: 172469.6259225\tbest: 172469.6259225 (66)\ttotal: 290ms\tremaining: 143ms\n",
      "67:\tlearn: 114371.1003208\ttest: 114371.1003208\ttest1: 172089.9094769\tbest: 172089.9094769 (67)\ttotal: 294ms\tremaining: 138ms\n",
      "68:\tlearn: 113769.1552686\ttest: 113769.1552686\ttest1: 171975.3847819\tbest: 171975.3847819 (68)\ttotal: 298ms\tremaining: 134ms\n",
      "69:\tlearn: 113367.6082125\ttest: 113367.6082125\ttest1: 171941.0547624\tbest: 171941.0547624 (69)\ttotal: 302ms\tremaining: 130ms\n",
      "70:\tlearn: 112807.8812827\ttest: 112807.8812827\ttest1: 171750.1811411\tbest: 171750.1811411 (70)\ttotal: 306ms\tremaining: 125ms\n",
      "71:\tlearn: 112486.8281573\ttest: 112486.8281573\ttest1: 171731.0786620\tbest: 171731.0786620 (71)\ttotal: 311ms\tremaining: 121ms\n",
      "72:\tlearn: 111984.3409624\ttest: 111984.3409624\ttest1: 171211.1273708\tbest: 171211.1273708 (72)\ttotal: 315ms\tremaining: 116ms\n",
      "73:\tlearn: 111271.7262892\ttest: 111271.7262892\ttest1: 171116.4885800\tbest: 171116.4885800 (73)\ttotal: 319ms\tremaining: 112ms\n",
      "74:\tlearn: 110412.4742720\ttest: 110412.4742720\ttest1: 170661.2066491\tbest: 170661.2066491 (74)\ttotal: 323ms\tremaining: 108ms\n",
      "75:\tlearn: 109833.7743343\ttest: 109833.7743343\ttest1: 170522.0560090\tbest: 170522.0560090 (75)\ttotal: 327ms\tremaining: 103ms\n",
      "76:\tlearn: 109327.5292193\ttest: 109327.5292193\ttest1: 170162.1461219\tbest: 170162.1461219 (76)\ttotal: 331ms\tremaining: 98.9ms\n",
      "77:\tlearn: 108938.8797941\ttest: 108938.8797941\ttest1: 170065.9735423\tbest: 170065.9735423 (77)\ttotal: 335ms\tremaining: 94.6ms\n",
      "78:\tlearn: 108377.0521836\ttest: 108377.0521836\ttest1: 169758.9858351\tbest: 169758.9858351 (78)\ttotal: 340ms\tremaining: 90.3ms\n",
      "79:\tlearn: 107920.0212175\ttest: 107920.0212175\ttest1: 169823.8961036\tbest: 169758.9858351 (78)\ttotal: 344ms\tremaining: 86ms\n",
      "80:\tlearn: 107605.6619060\ttest: 107605.6619060\ttest1: 169663.5161577\tbest: 169663.5161577 (80)\ttotal: 348ms\tremaining: 81.6ms\n",
      "81:\tlearn: 107217.1526180\ttest: 107217.1526180\ttest1: 169521.3574243\tbest: 169521.3574243 (81)\ttotal: 352ms\tremaining: 77.3ms\n",
      "82:\tlearn: 106703.3143505\ttest: 106703.3143505\ttest1: 169183.0635164\tbest: 169183.0635164 (82)\ttotal: 356ms\tremaining: 73ms\n",
      "83:\tlearn: 106394.4399996\ttest: 106394.4399996\ttest1: 168881.9310923\tbest: 168881.9310923 (83)\ttotal: 361ms\tremaining: 68.7ms\n",
      "84:\tlearn: 105989.4218876\ttest: 105989.4218876\ttest1: 168980.7043083\tbest: 168881.9310923 (83)\ttotal: 365ms\tremaining: 64.4ms\n",
      "85:\tlearn: 105583.7281376\ttest: 105583.7281376\ttest1: 168676.7258927\tbest: 168676.7258927 (85)\ttotal: 369ms\tremaining: 60ms\n",
      "86:\tlearn: 104871.9827146\ttest: 104871.9827146\ttest1: 168297.8732113\tbest: 168297.8732113 (86)\ttotal: 373ms\tremaining: 55.8ms\n",
      "87:\tlearn: 104424.8228558\ttest: 104424.8228558\ttest1: 168045.4120648\tbest: 168045.4120648 (87)\ttotal: 377ms\tremaining: 51.5ms\n",
      "88:\tlearn: 103889.3089230\ttest: 103889.3089230\ttest1: 167956.6055735\tbest: 167956.6055735 (88)\ttotal: 382ms\tremaining: 47.2ms\n",
      "89:\tlearn: 103616.4776767\ttest: 103616.4776767\ttest1: 167977.5844983\tbest: 167956.6055735 (88)\ttotal: 386ms\tremaining: 42.8ms\n",
      "90:\tlearn: 103253.3979466\ttest: 103253.3979466\ttest1: 167773.6376465\tbest: 167773.6376465 (90)\ttotal: 390ms\tremaining: 38.5ms\n",
      "91:\tlearn: 102986.4402999\ttest: 102986.4402999\ttest1: 167711.6607700\tbest: 167711.6607700 (91)\ttotal: 394ms\tremaining: 34.3ms\n",
      "92:\tlearn: 102701.8595845\ttest: 102701.8595845\ttest1: 167547.6694351\tbest: 167547.6694351 (92)\ttotal: 398ms\tremaining: 29.9ms\n",
      "93:\tlearn: 102343.2845205\ttest: 102343.2845205\ttest1: 167279.3629962\tbest: 167279.3629962 (93)\ttotal: 406ms\tremaining: 25.9ms\n",
      "94:\tlearn: 101981.3584052\ttest: 101981.3584052\ttest1: 167225.8302052\tbest: 167225.8302052 (94)\ttotal: 411ms\tremaining: 21.6ms\n",
      "95:\tlearn: 101336.8314230\ttest: 101336.8314230\ttest1: 166898.4084543\tbest: 166898.4084543 (95)\ttotal: 415ms\tremaining: 17.3ms\n",
      "96:\tlearn: 100996.5880829\ttest: 100996.5880829\ttest1: 166986.0832879\tbest: 166898.4084543 (95)\ttotal: 419ms\tremaining: 12.9ms\n",
      "97:\tlearn: 100782.5086486\ttest: 100782.5086486\ttest1: 166796.3737366\tbest: 166796.3737366 (97)\ttotal: 423ms\tremaining: 8.63ms\n",
      "98:\tlearn: 100484.1626654\ttest: 100484.1626654\ttest1: 166742.1681268\tbest: 166742.1681268 (98)\ttotal: 427ms\tremaining: 4.31ms\n",
      "99:\tlearn: 100220.7995788\ttest: 100220.7995788\ttest1: 166791.4282489\tbest: 166742.1681268 (98)\ttotal: 431ms\tremaining: 0us\n",
      "\n",
      "bestTest = 166742.1681\n",
      "bestIteration = 98\n",
      "\n",
      "Shrink model to first 99 iterations.\n",
      "Melhor modelo: <catboost.core.CatBoostRegressor object at 0x7f99ac2e7750>\n",
      "Melhor score: 0.9645632608480236\n",
      "CPU times: user 2.44 s, sys: 181 ms, total: 2.63 s\n",
      "Wall time: 1min 58s\n"
     ]
    }
   ],
   "source": [
    "%%time\n",
    "\n",
    "grid = GridSearchCV(estimator=model_CBR, param_grid = parameters, cv = 10, n_jobs=-1, scoring='r2')\n",
    "grid.fit(X_train, y_train, eval_set=eval_set, early_stopping_rounds=10)\n",
    "#grid.fit(X_train, y_train)\n",
    "\n",
    "y_predict = grid.predict(X_test)\n",
    "\n",
    "#rmse = np.sqrt(mean_squared_error(y_test,y_linear_pred))\n",
    "#r2 = r2_score(y_test,y_linear_pred)\n",
    "\n",
    "print(\"Melhor modelo: {}\".format(grid.best_estimator_))\n",
    "print(\"Melhor score: {}\".format(grid.best_score_))"
   ]
  },
  {
   "cell_type": "markdown",
   "metadata": {
    "id": "aqDxFIpQ8LdQ"
   },
   "source": [
    "#Gradient Boosting"
   ]
  },
  {
   "cell_type": "code",
   "execution_count": null,
   "metadata": {
    "id": "YWE88gKW7Ysv"
   },
   "outputs": [],
   "source": [
    "from sklearn.ensemble import GradientBoostingRegressor\n",
    "from sklearn.model_selection import GridSearchCV"
   ]
  },
  {
   "cell_type": "code",
   "execution_count": null,
   "metadata": {
    "colab": {
     "base_uri": "https://localhost:8080/"
    },
    "id": "xipv09JM7LhF",
    "outputId": "ebdb542a-9b60-489c-8163-6a3188003372"
   },
   "outputs": [
    {
     "name": "stdout",
     "output_type": "stream",
     "text": [
      "Fitting 10 folds for each of 1 candidates, totalling 10 fits\n"
     ]
    },
    {
     "name": "stderr",
     "output_type": "stream",
     "text": [
      "[Parallel(n_jobs=-1)]: Using backend LokyBackend with 2 concurrent workers.\n",
      "[Parallel(n_jobs=-1)]: Done  10 out of  10 | elapsed:  1.7min finished\n"
     ]
    },
    {
     "name": "stdout",
     "output_type": "stream",
     "text": [
      "Melhor modelo: GradientBoostingRegressor(alpha=0.9, ccp_alpha=0.0, criterion='friedman_mse',\n",
      "                          init=None, learning_rate=0.02, loss='ls', max_depth=4,\n",
      "                          max_features=None, max_leaf_nodes=None,\n",
      "                          min_impurity_decrease=0.0, min_impurity_split=None,\n",
      "                          min_samples_leaf=1, min_samples_split=2,\n",
      "                          min_weight_fraction_leaf=0.0, n_estimators=3000,\n",
      "                          n_iter_no_change=None, presort='deprecated',\n",
      "                          random_state=None, subsample=1.0, tol=0.0001,\n",
      "                          validation_fraction=0.1, verbose=0, warm_start=False)\n",
      "Melhor score: 0.97382757528593\n",
      "CPU times: user 15.4 s, sys: 61.1 ms, total: 15.5 s\n",
      "Wall time: 1min 54s\n"
     ]
    }
   ],
   "source": [
    "%%time\n",
    "\n",
    "parameters = {'max_depth':[4], 'learning_rate':[0.02],\n",
    "             \"n_estimators\":[3000], \"loss\":[\"ls\"], \n",
    "              \"criterion\":[\"friedman_mse\"]}\n",
    "\n",
    "grb_model = GridSearchCV(GradientBoostingRegressor(), parameters,\n",
    "                    cv = 10, scoring = \"r2\", n_jobs = -1, verbose = 3,\n",
    "                    refit = True)\n",
    "\n",
    "grb_model.fit(X_train, y_train.ravel())\n",
    "y_pred_train = grb_model.predict(X_train)\n",
    "\n",
    "\n",
    "print(\"Melhor modelo: {}\".format(grb_model.best_estimator_))\n",
    "print(\"Melhor score: {}\".format(grb_model.best_score_))"
   ]
  },
  {
   "cell_type": "markdown",
   "metadata": {
    "id": "TJt_gxp4fgZ7"
   },
   "source": [
    "# Submetendo a predicao"
   ]
  },
  {
   "cell_type": "code",
   "execution_count": null,
   "metadata": {
    "id": "kVXOOB3TYOnc"
   },
   "outputs": [],
   "source": [
    "y_pred = grid.best_estimator_.predict(df_test2)\n",
    "y_pred = np.array(y_pred, dtype = int)\n",
    "prediction = pd.DataFrame()\n",
    "prediction['Id'] = Id\n",
    "prediction['selling_price'] = y_pred\n",
    "\n",
    "prediction.to_csv('catboost2.csv', index = False)"
   ]
  },
  {
   "cell_type": "code",
   "execution_count": null,
   "metadata": {
    "colab": {
     "base_uri": "https://localhost:8080/",
     "height": 359
    },
    "id": "mG3IJCgwdpde",
    "outputId": "dc3e1aa3-8ac7-44de-a384-b993ccc3a210"
   },
   "outputs": [
    {
     "data": {
      "text/html": [
       "<div>\n",
       "<style scoped>\n",
       "    .dataframe tbody tr th:only-of-type {\n",
       "        vertical-align: middle;\n",
       "    }\n",
       "\n",
       "    .dataframe tbody tr th {\n",
       "        vertical-align: top;\n",
       "    }\n",
       "\n",
       "    .dataframe thead th {\n",
       "        text-align: right;\n",
       "    }\n",
       "</style>\n",
       "<table border=\"1\" class=\"dataframe\">\n",
       "  <thead>\n",
       "    <tr style=\"text-align: right;\">\n",
       "      <th></th>\n",
       "      <th>Id</th>\n",
       "      <th>selling_price</th>\n",
       "    </tr>\n",
       "  </thead>\n",
       "  <tbody>\n",
       "    <tr>\n",
       "      <th>0</th>\n",
       "      <td>1</td>\n",
       "      <td>193067</td>\n",
       "    </tr>\n",
       "    <tr>\n",
       "      <th>1</th>\n",
       "      <td>2</td>\n",
       "      <td>556582</td>\n",
       "    </tr>\n",
       "    <tr>\n",
       "      <th>2</th>\n",
       "      <td>3</td>\n",
       "      <td>616575</td>\n",
       "    </tr>\n",
       "    <tr>\n",
       "      <th>3</th>\n",
       "      <td>4</td>\n",
       "      <td>1429865</td>\n",
       "    </tr>\n",
       "    <tr>\n",
       "      <th>4</th>\n",
       "      <td>5</td>\n",
       "      <td>554934</td>\n",
       "    </tr>\n",
       "    <tr>\n",
       "      <th>5</th>\n",
       "      <td>6</td>\n",
       "      <td>457523</td>\n",
       "    </tr>\n",
       "    <tr>\n",
       "      <th>6</th>\n",
       "      <td>7</td>\n",
       "      <td>652911</td>\n",
       "    </tr>\n",
       "    <tr>\n",
       "      <th>7</th>\n",
       "      <td>8</td>\n",
       "      <td>1964215</td>\n",
       "    </tr>\n",
       "    <tr>\n",
       "      <th>8</th>\n",
       "      <td>9</td>\n",
       "      <td>2390847</td>\n",
       "    </tr>\n",
       "    <tr>\n",
       "      <th>9</th>\n",
       "      <td>10</td>\n",
       "      <td>512478</td>\n",
       "    </tr>\n",
       "  </tbody>\n",
       "</table>\n",
       "</div>"
      ],
      "text/plain": [
       "   Id  selling_price\n",
       "0   1         193067\n",
       "1   2         556582\n",
       "2   3         616575\n",
       "3   4        1429865\n",
       "4   5         554934\n",
       "5   6         457523\n",
       "6   7         652911\n",
       "7   8        1964215\n",
       "8   9        2390847\n",
       "9  10         512478"
      ]
     },
     "execution_count": 93,
     "metadata": {
      "tags": []
     },
     "output_type": "execute_result"
    }
   ],
   "source": [
    "prediction.head(10)"
   ]
  }
 ],
 "metadata": {
  "colab": {
   "name": "Car Price Final 2.ipynb",
   "provenance": []
  },
  "kernelspec": {
   "display_name": "Python 3",
   "language": "python",
   "name": "python3"
  },
  "language_info": {
   "codemirror_mode": {
    "name": "ipython",
    "version": 3
   },
   "file_extension": ".py",
   "mimetype": "text/x-python",
   "name": "python",
   "nbconvert_exporter": "python",
   "pygments_lexer": "ipython3",
   "version": "3.9.5"
  },
  "latex_envs": {
   "LaTeX_envs_menu_present": true,
   "autoclose": false,
   "autocomplete": false,
   "bibliofile": "biblio.bib",
   "cite_by": "apalike",
   "current_citInitial": 1,
   "eqLabelWithNumbers": true,
   "eqNumInitial": 1,
   "hotkeys": {
    "equation": "Ctrl-E",
    "itemize": "Ctrl-I"
   },
   "labels_anchors": false,
   "latex_user_defs": false,
   "report_style_numbering": false,
   "user_envs_cfg": false
  },
  "toc": {
   "base_numbering": 1,
   "nav_menu": {},
   "number_sections": true,
   "sideBar": true,
   "skip_h1_title": false,
   "title_cell": "Table of Contents",
   "title_sidebar": "Contents",
   "toc_cell": false,
   "toc_position": {},
   "toc_section_display": true,
   "toc_window_display": false
  }
 },
 "nbformat": 4,
 "nbformat_minor": 1
}
