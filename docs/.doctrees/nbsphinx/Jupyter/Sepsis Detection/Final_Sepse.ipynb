{
 "cells": [
  {
   "cell_type": "markdown",
   "metadata": {},
   "source": [
    "# Sepsis Detection"
   ]
  },
  {
   "cell_type": "code",
   "execution_count": 1,
   "metadata": {
    "id": "1CpTG2MBKlU1"
   },
   "outputs": [],
   "source": [
    "import numpy as np\n",
    "import pandas as pd\n",
    "import matplotlib.pyplot as plt\n",
    "import seaborn as sns\n",
    "np.random.seed(2021)\n"
   ]
  },
  {
   "cell_type": "code",
   "execution_count": 2,
   "metadata": {
    "id": "0pqhlkWYLRQ-"
   },
   "outputs": [],
   "source": [
    "df_test= pd.read_csv(\"test_data_without_label.csv\")\n",
    "df_train = pd.read_csv(\"training_data.csv\")"
   ]
  },
  {
   "cell_type": "markdown",
   "metadata": {
    "id": "6fEMB5dJL3MD"
   },
   "source": [
    "## Conhecendo os dados\n"
   ]
  },
  {
   "cell_type": "markdown",
   "metadata": {
    "id": "xBXyvTrqL7Fc"
   },
   "source": [
    "ID<br>\n",
    "N° de Atendimento (N° do Paciente)<br>\n",
    "Temperatura<br>\n",
    "Pulso<br>\n",
    "Respiração<br>\n",
    "Pa_min (Pressão Mínima)<br>\n",
    "Pa_max (Pressão Máxima)"
   ]
  },
  {
   "cell_type": "code",
   "execution_count": 3,
   "metadata": {
    "colab": {
     "base_uri": "https://localhost:8080/",
     "height": 204
    },
    "id": "ZFzlc3jtLtxA",
    "outputId": "3885e14f-1695-48f9-a334-1f4fa306a2ed"
   },
   "outputs": [
    {
     "data": {
      "text/html": [
       "<div>\n",
       "<style scoped>\n",
       "    .dataframe tbody tr th:only-of-type {\n",
       "        vertical-align: middle;\n",
       "    }\n",
       "\n",
       "    .dataframe tbody tr th {\n",
       "        vertical-align: top;\n",
       "    }\n",
       "\n",
       "    .dataframe thead th {\n",
       "        text-align: right;\n",
       "    }\n",
       "</style>\n",
       "<table border=\"1\" class=\"dataframe\">\n",
       "  <thead>\n",
       "    <tr style=\"text-align: right;\">\n",
       "      <th></th>\n",
       "      <th>id</th>\n",
       "      <th>num_atend</th>\n",
       "      <th>temperatura</th>\n",
       "      <th>pulso</th>\n",
       "      <th>respiracao</th>\n",
       "      <th>pa_min</th>\n",
       "      <th>pa_max</th>\n",
       "      <th>sepse</th>\n",
       "    </tr>\n",
       "  </thead>\n",
       "  <tbody>\n",
       "    <tr>\n",
       "      <th>0</th>\n",
       "      <td>1</td>\n",
       "      <td>6066066</td>\n",
       "      <td>36.0</td>\n",
       "      <td>117.0</td>\n",
       "      <td>NaN</td>\n",
       "      <td>113.0</td>\n",
       "      <td>72.0</td>\n",
       "      <td>1</td>\n",
       "    </tr>\n",
       "    <tr>\n",
       "      <th>1</th>\n",
       "      <td>2</td>\n",
       "      <td>6019916</td>\n",
       "      <td>36.0</td>\n",
       "      <td>105.0</td>\n",
       "      <td>NaN</td>\n",
       "      <td>NaN</td>\n",
       "      <td>NaN</td>\n",
       "      <td>1</td>\n",
       "    </tr>\n",
       "    <tr>\n",
       "      <th>2</th>\n",
       "      <td>3</td>\n",
       "      <td>6000000</td>\n",
       "      <td>38.0</td>\n",
       "      <td>118.0</td>\n",
       "      <td>NaN</td>\n",
       "      <td>110.0</td>\n",
       "      <td>70.0</td>\n",
       "      <td>1</td>\n",
       "    </tr>\n",
       "    <tr>\n",
       "      <th>3</th>\n",
       "      <td>4</td>\n",
       "      <td>5993343</td>\n",
       "      <td>37.0</td>\n",
       "      <td>136.0</td>\n",
       "      <td>NaN</td>\n",
       "      <td>NaN</td>\n",
       "      <td>NaN</td>\n",
       "      <td>1</td>\n",
       "    </tr>\n",
       "    <tr>\n",
       "      <th>4</th>\n",
       "      <td>5</td>\n",
       "      <td>6001799</td>\n",
       "      <td>37.0</td>\n",
       "      <td>104.0</td>\n",
       "      <td>NaN</td>\n",
       "      <td>NaN</td>\n",
       "      <td>NaN</td>\n",
       "      <td>1</td>\n",
       "    </tr>\n",
       "  </tbody>\n",
       "</table>\n",
       "</div>"
      ],
      "text/plain": [
       "   id  num_atend  temperatura  pulso  respiracao  pa_min  pa_max  sepse\n",
       "0   1    6066066         36.0  117.0         NaN   113.0    72.0      1\n",
       "1   2    6019916         36.0  105.0         NaN     NaN     NaN      1\n",
       "2   3    6000000         38.0  118.0         NaN   110.0    70.0      1\n",
       "3   4    5993343         37.0  136.0         NaN     NaN     NaN      1\n",
       "4   5    6001799         37.0  104.0         NaN     NaN     NaN      1"
      ]
     },
     "execution_count": 3,
     "metadata": {},
     "output_type": "execute_result"
    }
   ],
   "source": [
    "df_train.head()"
   ]
  },
  {
   "cell_type": "code",
   "execution_count": 4,
   "metadata": {
    "id": "BiBvuZcPPdg-"
   },
   "outputs": [],
   "source": [
    "id = df_test.id #sera utilizado para prever depois\n",
    "\n",
    "df_train.drop(['id', 'num_atend'], axis=1, inplace= True)\n",
    "\n",
    "df_test.drop(['id', 'num_atend'], axis=1, inplace= True)"
   ]
  },
  {
   "cell_type": "code",
   "execution_count": 5,
   "metadata": {
    "colab": {
     "base_uri": "https://localhost:8080/",
     "height": 284
    },
    "id": "h7zNVT9BO_tg",
    "outputId": "47b405bd-2304-4d5e-9203-b46fa0c5f3f0"
   },
   "outputs": [
    {
     "data": {
      "image/png": "[encoded data removed]",
      "text/plain": [
       "<Figure size 432x288 with 1 Axes>"
      ]
     },
     "metadata": {
      "needs_background": "light"
     },
     "output_type": "display_data"
    }
   ],
   "source": [
    "y = df_train.sepse.value_counts()/df_train.sepse.value_counts().sum() #frequencia absoluta\n",
    "plt.bar(['0','1'],y)\n",
    "plt.title('Frequencia absoluta de Sepse')\n",
    "plt.show()"
   ]
  },
  {
   "cell_type": "markdown",
   "metadata": {
    "id": "Rq97bUIvMgR3"
   },
   "source": [
    "## Pre processamento"
   ]
  },
  {
   "cell_type": "code",
   "execution_count": 6,
   "metadata": {
    "colab": {
     "base_uri": "https://localhost:8080/"
    },
    "id": "3TaUFzkjMhgf",
    "outputId": "d409deb9-fd8a-498b-908f-e46cb96af5bb"
   },
   "outputs": [
    {
     "name": "stdout",
     "output_type": "stream",
     "text": [
      "Porcentagem de linhas duplicadas: 70.31\n"
     ]
    }
   ],
   "source": [
    "nLinhas , nColunas = df_train.shape\n",
    "\n",
    "dupl = df_train.duplicated().sum()/nLinhas\n",
    "\n",
    "print('Porcentagem de linhas duplicadas:', round(dupl*100,2))"
   ]
  },
  {
   "cell_type": "code",
   "execution_count": 7,
   "metadata": {
    "colab": {
     "base_uri": "https://localhost:8080/",
     "height": 252
    },
    "id": "f98ldTEfMh3F",
    "outputId": "8ad619dd-192d-45e9-b0d7-da77a1580f7f"
   },
   "outputs": [
    {
     "name": "stdout",
     "output_type": "stream",
     "text": [
      "Frequencia treino:\n"
     ]
    },
    {
     "data": {
      "text/html": [
       "<div>\n",
       "<style scoped>\n",
       "    .dataframe tbody tr th:only-of-type {\n",
       "        vertical-align: middle;\n",
       "    }\n",
       "\n",
       "    .dataframe tbody tr th {\n",
       "        vertical-align: top;\n",
       "    }\n",
       "\n",
       "    .dataframe thead th {\n",
       "        text-align: right;\n",
       "    }\n",
       "</style>\n",
       "<table border=\"1\" class=\"dataframe\">\n",
       "  <thead>\n",
       "    <tr style=\"text-align: right;\">\n",
       "      <th></th>\n",
       "      <th>Qtd Nan</th>\n",
       "      <th>Qtd Nan %</th>\n",
       "    </tr>\n",
       "  </thead>\n",
       "  <tbody>\n",
       "    <tr>\n",
       "      <th>temperatura</th>\n",
       "      <td>2145</td>\n",
       "      <td>12.66</td>\n",
       "    </tr>\n",
       "    <tr>\n",
       "      <th>pulso</th>\n",
       "      <td>2736</td>\n",
       "      <td>16.14</td>\n",
       "    </tr>\n",
       "    <tr>\n",
       "      <th>respiracao</th>\n",
       "      <td>13734</td>\n",
       "      <td>81.03</td>\n",
       "    </tr>\n",
       "    <tr>\n",
       "      <th>pa_min</th>\n",
       "      <td>8466</td>\n",
       "      <td>49.95</td>\n",
       "    </tr>\n",
       "    <tr>\n",
       "      <th>pa_max</th>\n",
       "      <td>8468</td>\n",
       "      <td>49.96</td>\n",
       "    </tr>\n",
       "    <tr>\n",
       "      <th>sepse</th>\n",
       "      <td>0</td>\n",
       "      <td>0.00</td>\n",
       "    </tr>\n",
       "  </tbody>\n",
       "</table>\n",
       "</div>"
      ],
      "text/plain": [
       "             Qtd Nan  Qtd Nan %\n",
       "temperatura     2145      12.66\n",
       "pulso           2736      16.14\n",
       "respiracao     13734      81.03\n",
       "pa_min          8466      49.95\n",
       "pa_max          8468      49.96\n",
       "sepse              0       0.00"
      ]
     },
     "execution_count": 7,
     "metadata": {},
     "output_type": "execute_result"
    }
   ],
   "source": [
    "#Verificado a quantidade de NaN por atributo\n",
    "nan_train= pd.DataFrame()\n",
    "nan_train['Qtd Nan'] = df_train.isna().sum()\n",
    "nan_train['Qtd Nan %'] = round(100*df_train.isna().sum()/len(df_train),2)\n",
    "print('Frequencia treino:')\n",
    "nan_train.head(6)"
   ]
  },
  {
   "cell_type": "code",
   "execution_count": 8,
   "metadata": {
    "colab": {
     "base_uri": "https://localhost:8080/",
     "height": 221
    },
    "id": "I-ZDOJeNMp_9",
    "outputId": "8fefacb9-891c-4f50-9c5c-6447cac1bed9"
   },
   "outputs": [
    {
     "name": "stdout",
     "output_type": "stream",
     "text": [
      "Frequencia teste:\n"
     ]
    },
    {
     "data": {
      "text/html": [
       "<div>\n",
       "<style scoped>\n",
       "    .dataframe tbody tr th:only-of-type {\n",
       "        vertical-align: middle;\n",
       "    }\n",
       "\n",
       "    .dataframe tbody tr th {\n",
       "        vertical-align: top;\n",
       "    }\n",
       "\n",
       "    .dataframe thead th {\n",
       "        text-align: right;\n",
       "    }\n",
       "</style>\n",
       "<table border=\"1\" class=\"dataframe\">\n",
       "  <thead>\n",
       "    <tr style=\"text-align: right;\">\n",
       "      <th></th>\n",
       "      <th>Qtd Nan</th>\n",
       "      <th>Qtd Nan %</th>\n",
       "    </tr>\n",
       "  </thead>\n",
       "  <tbody>\n",
       "    <tr>\n",
       "      <th>temperatura</th>\n",
       "      <td>903</td>\n",
       "      <td>12.37</td>\n",
       "    </tr>\n",
       "    <tr>\n",
       "      <th>pulso</th>\n",
       "      <td>1183</td>\n",
       "      <td>16.21</td>\n",
       "    </tr>\n",
       "    <tr>\n",
       "      <th>respiracao</th>\n",
       "      <td>6174</td>\n",
       "      <td>84.58</td>\n",
       "    </tr>\n",
       "    <tr>\n",
       "      <th>pa_min</th>\n",
       "      <td>3864</td>\n",
       "      <td>52.93</td>\n",
       "    </tr>\n",
       "    <tr>\n",
       "      <th>pa_max</th>\n",
       "      <td>3865</td>\n",
       "      <td>52.95</td>\n",
       "    </tr>\n",
       "  </tbody>\n",
       "</table>\n",
       "</div>"
      ],
      "text/plain": [
       "             Qtd Nan  Qtd Nan %\n",
       "temperatura      903      12.37\n",
       "pulso           1183      16.21\n",
       "respiracao      6174      84.58\n",
       "pa_min          3864      52.93\n",
       "pa_max          3865      52.95"
      ]
     },
     "execution_count": 8,
     "metadata": {},
     "output_type": "execute_result"
    }
   ],
   "source": [
    "#Verificado a quantidade de NaN por atributo\n",
    "nan_test= pd.DataFrame()\n",
    "nan_test['Qtd Nan'] = df_test.isna().sum()\n",
    "nan_test['Qtd Nan %'] = round(100*df_test.isna().sum()/len(df_test),2)\n",
    "print('Frequencia teste:')\n",
    "nan_test.head(6)"
   ]
  },
  {
   "cell_type": "markdown",
   "metadata": {
    "id": "HlhSQ0UUhn4r"
   },
   "source": [
    "Pelo fato de haver uma quantidade grande de dados faltantes no conjunto de treino e teste, decidimos por utilizar o KNN Imputer para atribuirmos valores aos dados faltantes. O KNN Imputer, como o nome já informa, preenche os valores ausentes usando a abordagem k-vizinhos mais próximos."
   ]
  },
  {
   "cell_type": "markdown",
   "metadata": {
    "id": "Y2ELbkwwiqcG"
   },
   "source": [
    "Antes de aplicarmos tal método de preenchimento, iremos verificar e tratar os atributos da base."
   ]
  },
  {
   "cell_type": "markdown",
   "metadata": {
    "id": "9fWPknVhUuyM"
   },
   "source": [
    "### Tratando o campo temperatura"
   ]
  },
  {
   "cell_type": "code",
   "execution_count": 9,
   "metadata": {
    "id": "G_mzXSAv6T8Y"
   },
   "outputs": [],
   "source": [
    "treino = df_train.copy()\n",
    "teste = df_test.copy()"
   ]
  },
  {
   "cell_type": "code",
   "execution_count": 10,
   "metadata": {
    "colab": {
     "base_uri": "https://localhost:8080/"
    },
    "id": "7vbEP-ceULWt",
    "outputId": "26afac32-3efe-4161-d106-cb8f85f7255b"
   },
   "outputs": [
    {
     "data": {
      "text/plain": [
       "array([  36. ,   38. ,   37. ,   35. ,   32. ,    nan,   39. ,   35.8,\n",
       "          0. ,   34. ,   36.7,   35.6,  356. ,   40. ,  131. ,   36.8,\n",
       "         35.1,   36.1,   35.4,   33.6,   37.6,   36.6,   35.5,   36.5,\n",
       "       3602. ,   37.2,    6. ,  378. ,   36.9,  -35. ,   36.2,   36.3,\n",
       "         37.7,   33. ,   85. ,  336. ,  368. ,   37.5,   35.3,   35.7,\n",
       "         35.9,   36.4])"
      ]
     },
     "execution_count": 10,
     "metadata": {},
     "output_type": "execute_result"
    }
   ],
   "source": [
    "treino.temperatura.unique()"
   ]
  },
  {
   "cell_type": "code",
   "execution_count": 11,
   "metadata": {
    "colab": {
     "base_uri": "https://localhost:8080/"
    },
    "id": "nudz60jfAYcs",
    "outputId": "fb58e7ae-51bb-4676-9f1c-7c9c8729dd2c"
   },
   "outputs": [
    {
     "data": {
      "text/plain": [
       "array([ 36. ,  37. ,   nan,  39. ,  36.6,  38. ,  36.7,  35. ,  36.3,\n",
       "        37.2,  34. ,  33. ,   0. ,  37.5,  35.8,  37.7,  36.8,  35.3,\n",
       "        36.1,  35.4,  35.5,  36.5,  37.6,  36.2,  35.1,  35.6,  36.9,\n",
       "       378. ,  36.4, -35. ,  40. ,  35.7,  35.9,  33.6])"
      ]
     },
     "execution_count": 11,
     "metadata": {},
     "output_type": "execute_result"
    }
   ],
   "source": [
    "teste.temperatura.unique()"
   ]
  },
  {
   "cell_type": "markdown",
   "metadata": {
    "id": "Kd1cuqCbUzed"
   },
   "source": [
    "Alguns valores como 3602, 378, por exemplo, entende-se que foi algum erro na hora de passar os dados para a planilha, todavia, iremos atribuir nan a esses vaores."
   ]
  },
  {
   "cell_type": "code",
   "execution_count": 12,
   "metadata": {
    "id": "X7vpm4C0VFVa"
   },
   "outputs": [],
   "source": [
    "inf = 9e999 #Tranforma em infinito\n",
    "treino.temperatura.replace({3602:inf-inf, 378:inf-inf, 336:inf-inf, 368:inf-inf, 356:inf-inf}, inplace=True)\n",
    "teste.temperatura.replace(378, np.nan, inplace=True)"
   ]
  },
  {
   "cell_type": "code",
   "execution_count": 13,
   "metadata": {
    "id": "vFFmKhjS4fNu"
   },
   "outputs": [],
   "source": [
    "treino.temperatura = treino.temperatura.apply(abs)\n",
    "teste.temperatura = teste.temperatura.apply(abs)"
   ]
  },
  {
   "cell_type": "markdown",
   "metadata": {
    "id": "vwBNNFpb5LAi"
   },
   "source": [
    "Substituir temperatura nula por nan"
   ]
  },
  {
   "cell_type": "code",
   "execution_count": 14,
   "metadata": {
    "colab": {
     "base_uri": "https://localhost:8080/",
     "height": 419
    },
    "id": "h3-Si2HV4ml-",
    "outputId": "a15461c1-0811-4cf3-c67e-14d99dde9178"
   },
   "outputs": [
    {
     "data": {
      "text/html": [
       "<div>\n",
       "<style scoped>\n",
       "    .dataframe tbody tr th:only-of-type {\n",
       "        vertical-align: middle;\n",
       "    }\n",
       "\n",
       "    .dataframe tbody tr th {\n",
       "        vertical-align: top;\n",
       "    }\n",
       "\n",
       "    .dataframe thead th {\n",
       "        text-align: right;\n",
       "    }\n",
       "</style>\n",
       "<table border=\"1\" class=\"dataframe\">\n",
       "  <thead>\n",
       "    <tr style=\"text-align: right;\">\n",
       "      <th></th>\n",
       "      <th>temperatura</th>\n",
       "      <th>pulso</th>\n",
       "      <th>respiracao</th>\n",
       "      <th>pa_min</th>\n",
       "      <th>pa_max</th>\n",
       "      <th>sepse</th>\n",
       "    </tr>\n",
       "  </thead>\n",
       "  <tbody>\n",
       "    <tr>\n",
       "      <th>151</th>\n",
       "      <td>0.0</td>\n",
       "      <td>121.0</td>\n",
       "      <td>NaN</td>\n",
       "      <td>180.0</td>\n",
       "      <td>90.0</td>\n",
       "      <td>1</td>\n",
       "    </tr>\n",
       "    <tr>\n",
       "      <th>1155</th>\n",
       "      <td>0.0</td>\n",
       "      <td>77.0</td>\n",
       "      <td>NaN</td>\n",
       "      <td>129.0</td>\n",
       "      <td>85.0</td>\n",
       "      <td>0</td>\n",
       "    </tr>\n",
       "    <tr>\n",
       "      <th>2115</th>\n",
       "      <td>0.0</td>\n",
       "      <td>84.0</td>\n",
       "      <td>NaN</td>\n",
       "      <td>109.0</td>\n",
       "      <td>81.0</td>\n",
       "      <td>0</td>\n",
       "    </tr>\n",
       "    <tr>\n",
       "      <th>2121</th>\n",
       "      <td>0.0</td>\n",
       "      <td>98.0</td>\n",
       "      <td>NaN</td>\n",
       "      <td>145.0</td>\n",
       "      <td>91.0</td>\n",
       "      <td>0</td>\n",
       "    </tr>\n",
       "    <tr>\n",
       "      <th>2328</th>\n",
       "      <td>0.0</td>\n",
       "      <td>94.0</td>\n",
       "      <td>NaN</td>\n",
       "      <td>130.0</td>\n",
       "      <td>81.0</td>\n",
       "      <td>0</td>\n",
       "    </tr>\n",
       "    <tr>\n",
       "      <th>...</th>\n",
       "      <td>...</td>\n",
       "      <td>...</td>\n",
       "      <td>...</td>\n",
       "      <td>...</td>\n",
       "      <td>...</td>\n",
       "      <td>...</td>\n",
       "    </tr>\n",
       "    <tr>\n",
       "      <th>16268</th>\n",
       "      <td>0.0</td>\n",
       "      <td>87.0</td>\n",
       "      <td>18.0</td>\n",
       "      <td>90.0</td>\n",
       "      <td>57.0</td>\n",
       "      <td>0</td>\n",
       "    </tr>\n",
       "    <tr>\n",
       "      <th>16278</th>\n",
       "      <td>0.0</td>\n",
       "      <td>87.0</td>\n",
       "      <td>18.0</td>\n",
       "      <td>90.0</td>\n",
       "      <td>57.0</td>\n",
       "      <td>0</td>\n",
       "    </tr>\n",
       "    <tr>\n",
       "      <th>16462</th>\n",
       "      <td>0.0</td>\n",
       "      <td>87.0</td>\n",
       "      <td>18.0</td>\n",
       "      <td>90.0</td>\n",
       "      <td>57.0</td>\n",
       "      <td>0</td>\n",
       "    </tr>\n",
       "    <tr>\n",
       "      <th>16513</th>\n",
       "      <td>0.0</td>\n",
       "      <td>87.0</td>\n",
       "      <td>18.0</td>\n",
       "      <td>90.0</td>\n",
       "      <td>57.0</td>\n",
       "      <td>0</td>\n",
       "    </tr>\n",
       "    <tr>\n",
       "      <th>16752</th>\n",
       "      <td>0.0</td>\n",
       "      <td>87.0</td>\n",
       "      <td>18.0</td>\n",
       "      <td>90.0</td>\n",
       "      <td>57.0</td>\n",
       "      <td>0</td>\n",
       "    </tr>\n",
       "  </tbody>\n",
       "</table>\n",
       "<p>194 rows × 6 columns</p>\n",
       "</div>"
      ],
      "text/plain": [
       "       temperatura  pulso  respiracao  pa_min  pa_max  sepse\n",
       "151            0.0  121.0         NaN   180.0    90.0      1\n",
       "1155           0.0   77.0         NaN   129.0    85.0      0\n",
       "2115           0.0   84.0         NaN   109.0    81.0      0\n",
       "2121           0.0   98.0         NaN   145.0    91.0      0\n",
       "2328           0.0   94.0         NaN   130.0    81.0      0\n",
       "...            ...    ...         ...     ...     ...    ...\n",
       "16268          0.0   87.0        18.0    90.0    57.0      0\n",
       "16278          0.0   87.0        18.0    90.0    57.0      0\n",
       "16462          0.0   87.0        18.0    90.0    57.0      0\n",
       "16513          0.0   87.0        18.0    90.0    57.0      0\n",
       "16752          0.0   87.0        18.0    90.0    57.0      0\n",
       "\n",
       "[194 rows x 6 columns]"
      ]
     },
     "execution_count": 14,
     "metadata": {},
     "output_type": "execute_result"
    }
   ],
   "source": [
    "treino.query('temperatura == 0')"
   ]
  },
  {
   "cell_type": "code",
   "execution_count": 15,
   "metadata": {
    "id": "HJNGH7b35hFP"
   },
   "outputs": [],
   "source": [
    "treino.temperatura.replace(0, np.nan, inplace=True)\n",
    "teste.temperatura.replace(0, np.nan, inplace=True)"
   ]
  },
  {
   "cell_type": "markdown",
   "metadata": {
    "id": "3VD1YuWV50wz"
   },
   "source": [
    "Substituir temperatura menor que 20 e maior ou igual a 45 por NaN"
   ]
  },
  {
   "cell_type": "code",
   "execution_count": 16,
   "metadata": {
    "colab": {
     "base_uri": "https://localhost:8080/",
     "height": 204
    },
    "id": "vqywDzh45rb_",
    "outputId": "cc182a13-9668-4847-f8d4-04606cbe1966"
   },
   "outputs": [
    {
     "data": {
      "text/html": [
       "<div>\n",
       "<style scoped>\n",
       "    .dataframe tbody tr th:only-of-type {\n",
       "        vertical-align: middle;\n",
       "    }\n",
       "\n",
       "    .dataframe tbody tr th {\n",
       "        vertical-align: top;\n",
       "    }\n",
       "\n",
       "    .dataframe thead th {\n",
       "        text-align: right;\n",
       "    }\n",
       "</style>\n",
       "<table border=\"1\" class=\"dataframe\">\n",
       "  <thead>\n",
       "    <tr style=\"text-align: right;\">\n",
       "      <th></th>\n",
       "      <th>temperatura</th>\n",
       "      <th>pulso</th>\n",
       "      <th>respiracao</th>\n",
       "      <th>pa_min</th>\n",
       "      <th>pa_max</th>\n",
       "      <th>sepse</th>\n",
       "    </tr>\n",
       "  </thead>\n",
       "  <tbody>\n",
       "    <tr>\n",
       "      <th>577</th>\n",
       "      <td>131.0</td>\n",
       "      <td>106.0</td>\n",
       "      <td>NaN</td>\n",
       "      <td>NaN</td>\n",
       "      <td>NaN</td>\n",
       "      <td>1</td>\n",
       "    </tr>\n",
       "    <tr>\n",
       "      <th>1843</th>\n",
       "      <td>6.0</td>\n",
       "      <td>101.0</td>\n",
       "      <td>NaN</td>\n",
       "      <td>158.0</td>\n",
       "      <td>89.0</td>\n",
       "      <td>0</td>\n",
       "    </tr>\n",
       "    <tr>\n",
       "      <th>4451</th>\n",
       "      <td>6.0</td>\n",
       "      <td>87.0</td>\n",
       "      <td>NaN</td>\n",
       "      <td>131.0</td>\n",
       "      <td>80.0</td>\n",
       "      <td>0</td>\n",
       "    </tr>\n",
       "    <tr>\n",
       "      <th>7123</th>\n",
       "      <td>85.0</td>\n",
       "      <td>85.0</td>\n",
       "      <td>NaN</td>\n",
       "      <td>NaN</td>\n",
       "      <td>NaN</td>\n",
       "      <td>0</td>\n",
       "    </tr>\n",
       "    <tr>\n",
       "      <th>11772</th>\n",
       "      <td>85.0</td>\n",
       "      <td>85.0</td>\n",
       "      <td>NaN</td>\n",
       "      <td>NaN</td>\n",
       "      <td>NaN</td>\n",
       "      <td>0</td>\n",
       "    </tr>\n",
       "  </tbody>\n",
       "</table>\n",
       "</div>"
      ],
      "text/plain": [
       "       temperatura  pulso  respiracao  pa_min  pa_max  sepse\n",
       "577          131.0  106.0         NaN     NaN     NaN      1\n",
       "1843           6.0  101.0         NaN   158.0    89.0      0\n",
       "4451           6.0   87.0         NaN   131.0    80.0      0\n",
       "7123          85.0   85.0         NaN     NaN     NaN      0\n",
       "11772         85.0   85.0         NaN     NaN     NaN      0"
      ]
     },
     "execution_count": 16,
     "metadata": {},
     "output_type": "execute_result"
    }
   ],
   "source": [
    "treino.query('temperatura < 20 or temperatura >= 45')"
   ]
  },
  {
   "cell_type": "code",
   "execution_count": 17,
   "metadata": {
    "id": "J8_mGsl056jH"
   },
   "outputs": [],
   "source": [
    "treino['temperatura'].values[treino['temperatura'].values < 20] = inf-inf\n",
    "treino['temperatura'].values[treino['temperatura'].values >= 45] = inf-inf\n",
    "\n",
    "teste['temperatura'].values[teste['temperatura'].values < 20] = inf-inf\n",
    "teste['temperatura'].values[teste['temperatura'].values >= 45] = inf-inf"
   ]
  },
  {
   "cell_type": "code",
   "execution_count": 18,
   "metadata": {
    "colab": {
     "base_uri": "https://localhost:8080/"
    },
    "id": "JaHDmeRqcIBW",
    "outputId": "c5a8b8c2-b031-4678-b1e7-a617a68077bf"
   },
   "outputs": [
    {
     "data": {
      "text/plain": [
       "array([36. , 38. , 37. , 35. , 32. ,  nan, 39. , 35.8, 34. , 36.7, 35.6,\n",
       "       40. , 36.8, 35.1, 36.1, 35.4, 33.6, 37.6, 36.6, 35.5, 36.5, 37.2,\n",
       "       36.9, 36.2, 36.3, 37.7, 33. , 37.5, 35.3, 35.7, 35.9, 36.4])"
      ]
     },
     "execution_count": 18,
     "metadata": {},
     "output_type": "execute_result"
    }
   ],
   "source": [
    "treino.temperatura.unique()"
   ]
  },
  {
   "cell_type": "code",
   "execution_count": 19,
   "metadata": {
    "colab": {
     "base_uri": "https://localhost:8080/"
    },
    "id": "enrTvyvgBBMQ",
    "outputId": "32518b21-0d2c-4efe-ffe5-c287fd298a73"
   },
   "outputs": [
    {
     "data": {
      "text/plain": [
       "array([36. , 37. ,  nan, 39. , 36.6, 38. , 36.7, 35. , 36.3, 37.2, 34. ,\n",
       "       33. , 37.5, 35.8, 37.7, 36.8, 35.3, 36.1, 35.4, 35.5, 36.5, 37.6,\n",
       "       36.2, 35.1, 35.6, 36.9, 36.4, 40. , 35.7, 35.9, 33.6])"
      ]
     },
     "execution_count": 19,
     "metadata": {},
     "output_type": "execute_result"
    }
   ],
   "source": [
    "teste.temperatura.unique()"
   ]
  },
  {
   "cell_type": "code",
   "execution_count": 20,
   "metadata": {
    "colab": {
     "base_uri": "https://localhost:8080/"
    },
    "id": "kEUZyuL2c17z",
    "outputId": "fea4112c-f4f3-4c45-d7c0-882388b989b4"
   },
   "outputs": [
    {
     "data": {
      "text/plain": [
       "count    14596.000000\n",
       "mean        36.187188\n",
       "std          0.922318\n",
       "min         32.000000\n",
       "25%         36.000000\n",
       "50%         36.000000\n",
       "75%         36.700000\n",
       "max         40.000000\n",
       "Name: temperatura, dtype: float64"
      ]
     },
     "execution_count": 20,
     "metadata": {},
     "output_type": "execute_result"
    }
   ],
   "source": [
    "treino.temperatura.describe()"
   ]
  },
  {
   "cell_type": "markdown",
   "metadata": {
    "id": "dLhbB8KT9M8c"
   },
   "source": [
    "### Tratando o campo pulso"
   ]
  },
  {
   "cell_type": "code",
   "execution_count": 21,
   "metadata": {
    "colab": {
     "base_uri": "https://localhost:8080/"
    },
    "id": "JVIyNBjI9Mex",
    "outputId": "f3bfac25-d898-452e-8c68-37a50840469e"
   },
   "outputs": [
    {
     "data": {
      "text/plain": [
       "array([ 117.,  105.,  118.,  136.,  104.,   83.,   91.,   99.,   67.,\n",
       "        116.,  107.,   72.,   85.,   68.,  102.,  110.,   66.,  139.,\n",
       "         74.,  101.,  120.,   71.,  144.,   nan,   96.,  108.,   92.,\n",
       "         98.,   94.,  100.,  114.,   78.,   87.,   97.,  106.,  111.,\n",
       "        115.,  112.,   64.,   90.,  103.,   76.,  124.,   80.,  119.,\n",
       "        140.,   75.,  137.,   82.,  125.,  134.,  109.,  122.,   79.,\n",
       "         95.,  121.,  130.,   65.,   69.,  113.,   73.,   77.,  131.,\n",
       "         88.,   81.,   93.,  126.,   84.,   56.,  128.,  170.,   60.,\n",
       "         38.,  154.,  123.,  138.,  155.,   86.,  127.,   70.,   52.,\n",
       "         89.,  132.,  152.,   62.,  135.,   61.,  149.,  179.,  150.,\n",
       "        183.,   51.,  165.,   63.,  143.,   44.,  129.,  151.,  156.,\n",
       "        158.,   55.,   59.,  153.,  174.,  186.,   42.,   40.,  145.,\n",
       "         32.,  133.,   43.,  142.,   54.,  160.,   53.,   58.,   57.,\n",
       "       1000.,   50.,   46.,  168.,   30.,   47.,   49.,  175.,   11.,\n",
       "         10.,  166.,  147.,    0.,   41.,  163.,   48.,  177.,  192.,\n",
       "        157.,  841.,  148.,  180.,  200.,   36.,  159.,  162.])"
      ]
     },
     "execution_count": 21,
     "metadata": {},
     "output_type": "execute_result"
    }
   ],
   "source": [
    "treino.pulso.unique() #batimento cardíaco"
   ]
  },
  {
   "cell_type": "code",
   "execution_count": 22,
   "metadata": {
    "colab": {
     "base_uri": "https://localhost:8080/"
    },
    "id": "IeoyGVC3BeBd",
    "outputId": "dfa70521-35eb-4cfc-85c6-99f69bdc75a3"
   },
   "outputs": [
    {
     "data": {
      "text/plain": [
       "array([  93.,  107.,   90.,   69.,   71.,   nan,  104.,  103.,   99.,\n",
       "         75.,   82.,   73.,   84.,   51.,   98.,   77.,   76.,   66.,\n",
       "         80.,  110.,   97.,   64.,  100.,  138.,   81.,   91.,   74.,\n",
       "         89.,   96.,   87.,  135.,   56.,   95.,  102.,   88.,  111.,\n",
       "        101.,   86.,   68.,   78.,   83.,   94.,  128.,   85.,   62.,\n",
       "        122.,  119.,  126.,   42.,   72.,   79.,   61.,   92.,   70.,\n",
       "        112.,  118.,  120.,   57.,   54.,  140.,  105.,  113.,  114.,\n",
       "        106.,  131.,   67.,   55.,  115.,   63.,   65.,  125.,  121.,\n",
       "        155.,  144.,  130.,  123.,  109.,   10.,  142.,  116.,  169.,\n",
       "        129.,  136.,  108.,  117.,   60.,  127.,  133.,   44.,   59.,\n",
       "        137.,   52.,  124.,  180.,  139.,   35.,   50.,   58.,   38.,\n",
       "        177.,  156.,  145.,   47.,  168.,  132., 1116.,  163.,   43.,\n",
       "         53.,   46.,   49.,  178.,  165.,  134.,  149.,  704.,    0.,\n",
       "         11.,  150.,  170.,  148.,  151.,  166.,  147.,  143.,  160.,\n",
       "        159.,  158.,  174.,  153.,  157.,  162.,  179.,  183.,  152.,\n",
       "         23.])"
      ]
     },
     "execution_count": 22,
     "metadata": {},
     "output_type": "execute_result"
    }
   ],
   "source": [
    "teste.pulso.unique()"
   ]
  },
  {
   "cell_type": "code",
   "execution_count": 23,
   "metadata": {
    "colab": {
     "base_uri": "https://localhost:8080/",
     "height": 173
    },
    "id": "1uYmTtHs97sH",
    "outputId": "25e25c26-3e37-478e-eda5-e89e240d7788"
   },
   "outputs": [
    {
     "data": {
      "text/html": [
       "<div>\n",
       "<style scoped>\n",
       "    .dataframe tbody tr th:only-of-type {\n",
       "        vertical-align: middle;\n",
       "    }\n",
       "\n",
       "    .dataframe tbody tr th {\n",
       "        vertical-align: top;\n",
       "    }\n",
       "\n",
       "    .dataframe thead th {\n",
       "        text-align: right;\n",
       "    }\n",
       "</style>\n",
       "<table border=\"1\" class=\"dataframe\">\n",
       "  <thead>\n",
       "    <tr style=\"text-align: right;\">\n",
       "      <th></th>\n",
       "      <th>temperatura</th>\n",
       "      <th>pulso</th>\n",
       "      <th>respiracao</th>\n",
       "      <th>pa_min</th>\n",
       "      <th>pa_max</th>\n",
       "      <th>sepse</th>\n",
       "    </tr>\n",
       "  </thead>\n",
       "  <tbody>\n",
       "    <tr>\n",
       "      <th>1616</th>\n",
       "      <td>36.0</td>\n",
       "      <td>1000.0</td>\n",
       "      <td>NaN</td>\n",
       "      <td>120.0</td>\n",
       "      <td>66.0</td>\n",
       "      <td>0</td>\n",
       "    </tr>\n",
       "    <tr>\n",
       "      <th>6326</th>\n",
       "      <td>36.0</td>\n",
       "      <td>841.0</td>\n",
       "      <td>NaN</td>\n",
       "      <td>128.0</td>\n",
       "      <td>74.0</td>\n",
       "      <td>0</td>\n",
       "    </tr>\n",
       "    <tr>\n",
       "      <th>8027</th>\n",
       "      <td>36.0</td>\n",
       "      <td>200.0</td>\n",
       "      <td>NaN</td>\n",
       "      <td>NaN</td>\n",
       "      <td>NaN</td>\n",
       "      <td>0</td>\n",
       "    </tr>\n",
       "    <tr>\n",
       "      <th>14473</th>\n",
       "      <td>36.0</td>\n",
       "      <td>841.0</td>\n",
       "      <td>NaN</td>\n",
       "      <td>128.0</td>\n",
       "      <td>74.0</td>\n",
       "      <td>0</td>\n",
       "    </tr>\n",
       "  </tbody>\n",
       "</table>\n",
       "</div>"
      ],
      "text/plain": [
       "       temperatura   pulso  respiracao  pa_min  pa_max  sepse\n",
       "1616          36.0  1000.0         NaN   120.0    66.0      0\n",
       "6326          36.0   841.0         NaN   128.0    74.0      0\n",
       "8027          36.0   200.0         NaN     NaN     NaN      0\n",
       "14473         36.0   841.0         NaN   128.0    74.0      0"
      ]
     },
     "execution_count": 23,
     "metadata": {},
     "output_type": "execute_result"
    }
   ],
   "source": [
    "treino.query('pulso >= 200') #vamos considerar maior ou igual a 200 nan"
   ]
  },
  {
   "cell_type": "code",
   "execution_count": 24,
   "metadata": {
    "id": "jlNzj7Wx_1tc"
   },
   "outputs": [],
   "source": [
    "treino['pulso'].values[treino['pulso'].values >= 200] = inf-inf\n",
    "teste['pulso'].values[teste['pulso'].values >= 200] = inf-inf"
   ]
  },
  {
   "cell_type": "code",
   "execution_count": 25,
   "metadata": {
    "colab": {
     "base_uri": "https://localhost:8080/",
     "height": 483
    },
    "id": "A8VOhSK2AThE",
    "outputId": "823811db-5d64-49dc-c3fd-8368c552e6b1"
   },
   "outputs": [
    {
     "data": {
      "text/html": [
       "<div>\n",
       "<style scoped>\n",
       "    .dataframe tbody tr th:only-of-type {\n",
       "        vertical-align: middle;\n",
       "    }\n",
       "\n",
       "    .dataframe tbody tr th {\n",
       "        vertical-align: top;\n",
       "    }\n",
       "\n",
       "    .dataframe thead th {\n",
       "        text-align: right;\n",
       "    }\n",
       "</style>\n",
       "<table border=\"1\" class=\"dataframe\">\n",
       "  <thead>\n",
       "    <tr style=\"text-align: right;\">\n",
       "      <th></th>\n",
       "      <th>temperatura</th>\n",
       "      <th>pulso</th>\n",
       "      <th>respiracao</th>\n",
       "      <th>pa_min</th>\n",
       "      <th>pa_max</th>\n",
       "      <th>sepse</th>\n",
       "    </tr>\n",
       "  </thead>\n",
       "  <tbody>\n",
       "    <tr>\n",
       "      <th>4172</th>\n",
       "      <td>36.0</td>\n",
       "      <td>0.0</td>\n",
       "      <td>NaN</td>\n",
       "      <td>NaN</td>\n",
       "      <td>NaN</td>\n",
       "      <td>0</td>\n",
       "    </tr>\n",
       "    <tr>\n",
       "      <th>5523</th>\n",
       "      <td>NaN</td>\n",
       "      <td>0.0</td>\n",
       "      <td>NaN</td>\n",
       "      <td>NaN</td>\n",
       "      <td>NaN</td>\n",
       "      <td>0</td>\n",
       "    </tr>\n",
       "    <tr>\n",
       "      <th>5912</th>\n",
       "      <td>35.0</td>\n",
       "      <td>0.0</td>\n",
       "      <td>NaN</td>\n",
       "      <td>NaN</td>\n",
       "      <td>NaN</td>\n",
       "      <td>0</td>\n",
       "    </tr>\n",
       "    <tr>\n",
       "      <th>6087</th>\n",
       "      <td>35.0</td>\n",
       "      <td>0.0</td>\n",
       "      <td>NaN</td>\n",
       "      <td>NaN</td>\n",
       "      <td>NaN</td>\n",
       "      <td>0</td>\n",
       "    </tr>\n",
       "    <tr>\n",
       "      <th>6952</th>\n",
       "      <td>37.0</td>\n",
       "      <td>0.0</td>\n",
       "      <td>NaN</td>\n",
       "      <td>NaN</td>\n",
       "      <td>NaN</td>\n",
       "      <td>0</td>\n",
       "    </tr>\n",
       "    <tr>\n",
       "      <th>7058</th>\n",
       "      <td>34.0</td>\n",
       "      <td>0.0</td>\n",
       "      <td>NaN</td>\n",
       "      <td>NaN</td>\n",
       "      <td>NaN</td>\n",
       "      <td>0</td>\n",
       "    </tr>\n",
       "    <tr>\n",
       "      <th>7910</th>\n",
       "      <td>37.0</td>\n",
       "      <td>0.0</td>\n",
       "      <td>NaN</td>\n",
       "      <td>NaN</td>\n",
       "      <td>NaN</td>\n",
       "      <td>0</td>\n",
       "    </tr>\n",
       "    <tr>\n",
       "      <th>10652</th>\n",
       "      <td>38.0</td>\n",
       "      <td>0.0</td>\n",
       "      <td>NaN</td>\n",
       "      <td>NaN</td>\n",
       "      <td>NaN</td>\n",
       "      <td>0</td>\n",
       "    </tr>\n",
       "    <tr>\n",
       "      <th>11120</th>\n",
       "      <td>36.0</td>\n",
       "      <td>0.0</td>\n",
       "      <td>NaN</td>\n",
       "      <td>NaN</td>\n",
       "      <td>NaN</td>\n",
       "      <td>0</td>\n",
       "    </tr>\n",
       "    <tr>\n",
       "      <th>11156</th>\n",
       "      <td>NaN</td>\n",
       "      <td>0.0</td>\n",
       "      <td>NaN</td>\n",
       "      <td>90.0</td>\n",
       "      <td>48.0</td>\n",
       "      <td>0</td>\n",
       "    </tr>\n",
       "    <tr>\n",
       "      <th>11942</th>\n",
       "      <td>34.0</td>\n",
       "      <td>0.0</td>\n",
       "      <td>NaN</td>\n",
       "      <td>NaN</td>\n",
       "      <td>NaN</td>\n",
       "      <td>0</td>\n",
       "    </tr>\n",
       "    <tr>\n",
       "      <th>13009</th>\n",
       "      <td>NaN</td>\n",
       "      <td>0.0</td>\n",
       "      <td>NaN</td>\n",
       "      <td>NaN</td>\n",
       "      <td>NaN</td>\n",
       "      <td>0</td>\n",
       "    </tr>\n",
       "    <tr>\n",
       "      <th>15104</th>\n",
       "      <td>NaN</td>\n",
       "      <td>0.0</td>\n",
       "      <td>NaN</td>\n",
       "      <td>NaN</td>\n",
       "      <td>NaN</td>\n",
       "      <td>0</td>\n",
       "    </tr>\n",
       "    <tr>\n",
       "      <th>15441</th>\n",
       "      <td>37.0</td>\n",
       "      <td>0.0</td>\n",
       "      <td>NaN</td>\n",
       "      <td>NaN</td>\n",
       "      <td>NaN</td>\n",
       "      <td>0</td>\n",
       "    </tr>\n",
       "  </tbody>\n",
       "</table>\n",
       "</div>"
      ],
      "text/plain": [
       "       temperatura  pulso  respiracao  pa_min  pa_max  sepse\n",
       "4172          36.0    0.0         NaN     NaN     NaN      0\n",
       "5523           NaN    0.0         NaN     NaN     NaN      0\n",
       "5912          35.0    0.0         NaN     NaN     NaN      0\n",
       "6087          35.0    0.0         NaN     NaN     NaN      0\n",
       "6952          37.0    0.0         NaN     NaN     NaN      0\n",
       "7058          34.0    0.0         NaN     NaN     NaN      0\n",
       "7910          37.0    0.0         NaN     NaN     NaN      0\n",
       "10652         38.0    0.0         NaN     NaN     NaN      0\n",
       "11120         36.0    0.0         NaN     NaN     NaN      0\n",
       "11156          NaN    0.0         NaN    90.0    48.0      0\n",
       "11942         34.0    0.0         NaN     NaN     NaN      0\n",
       "13009          NaN    0.0         NaN     NaN     NaN      0\n",
       "15104          NaN    0.0         NaN     NaN     NaN      0\n",
       "15441         37.0    0.0         NaN     NaN     NaN      0"
      ]
     },
     "execution_count": 25,
     "metadata": {},
     "output_type": "execute_result"
    }
   ],
   "source": [
    "treino.query('pulso == 0') #vamos considerar valor médio arredondado"
   ]
  },
  {
   "cell_type": "code",
   "execution_count": 26,
   "metadata": {
    "id": "ta0DhOlj-2Ba"
   },
   "outputs": [],
   "source": [
    "treino.pulso.replace(0, np.nan, inplace=True)\n",
    "teste.pulso.replace(0, np.nan, inplace=True)"
   ]
  },
  {
   "cell_type": "code",
   "execution_count": 27,
   "metadata": {
    "colab": {
     "base_uri": "https://localhost:8080/"
    },
    "id": "POka3YI6CIXC",
    "outputId": "b8fca6ad-2725-4eb5-c7dc-07f14c520b82"
   },
   "outputs": [
    {
     "data": {
      "text/plain": [
       "array([117., 105., 118., 136., 104.,  83.,  91.,  99.,  67., 116., 107.,\n",
       "        72.,  85.,  68., 102., 110.,  66., 139.,  74., 101., 120.,  71.,\n",
       "       144.,  nan,  96., 108.,  92.,  98.,  94., 100., 114.,  78.,  87.,\n",
       "        97., 106., 111., 115., 112.,  64.,  90., 103.,  76., 124.,  80.,\n",
       "       119., 140.,  75., 137.,  82., 125., 134., 109., 122.,  79.,  95.,\n",
       "       121., 130.,  65.,  69., 113.,  73.,  77., 131.,  88.,  81.,  93.,\n",
       "       126.,  84.,  56., 128., 170.,  60.,  38., 154., 123., 138., 155.,\n",
       "        86., 127.,  70.,  52.,  89., 132., 152.,  62., 135.,  61., 149.,\n",
       "       179., 150., 183.,  51., 165.,  63., 143.,  44., 129., 151., 156.,\n",
       "       158.,  55.,  59., 153., 174., 186.,  42.,  40., 145.,  32., 133.,\n",
       "        43., 142.,  54., 160.,  53.,  58.,  57.,  50.,  46., 168.,  30.,\n",
       "        47.,  49., 175.,  11.,  10., 166., 147.,  41., 163.,  48., 177.,\n",
       "       192., 157., 148., 180.,  36., 159., 162.])"
      ]
     },
     "execution_count": 27,
     "metadata": {},
     "output_type": "execute_result"
    }
   ],
   "source": [
    "treino.pulso.unique()"
   ]
  },
  {
   "cell_type": "code",
   "execution_count": 28,
   "metadata": {
    "colab": {
     "base_uri": "https://localhost:8080/",
     "height": 419
    },
    "id": "1FLgXNF5qN32",
    "outputId": "f806f9fd-6d31-45ad-bfda-47925e700a62"
   },
   "outputs": [
    {
     "data": {
      "text/html": [
       "<div>\n",
       "<style scoped>\n",
       "    .dataframe tbody tr th:only-of-type {\n",
       "        vertical-align: middle;\n",
       "    }\n",
       "\n",
       "    .dataframe tbody tr th {\n",
       "        vertical-align: top;\n",
       "    }\n",
       "\n",
       "    .dataframe thead th {\n",
       "        text-align: right;\n",
       "    }\n",
       "</style>\n",
       "<table border=\"1\" class=\"dataframe\">\n",
       "  <thead>\n",
       "    <tr style=\"text-align: right;\">\n",
       "      <th></th>\n",
       "      <th>temperatura</th>\n",
       "      <th>pulso</th>\n",
       "      <th>respiracao</th>\n",
       "      <th>pa_min</th>\n",
       "      <th>pa_max</th>\n",
       "      <th>sepse</th>\n",
       "    </tr>\n",
       "  </thead>\n",
       "  <tbody>\n",
       "    <tr>\n",
       "      <th>0</th>\n",
       "      <td>36.0</td>\n",
       "      <td>117.0</td>\n",
       "      <td>NaN</td>\n",
       "      <td>113.0</td>\n",
       "      <td>72.0</td>\n",
       "      <td>1</td>\n",
       "    </tr>\n",
       "    <tr>\n",
       "      <th>2</th>\n",
       "      <td>38.0</td>\n",
       "      <td>118.0</td>\n",
       "      <td>NaN</td>\n",
       "      <td>110.0</td>\n",
       "      <td>70.0</td>\n",
       "      <td>1</td>\n",
       "    </tr>\n",
       "    <tr>\n",
       "      <th>3</th>\n",
       "      <td>37.0</td>\n",
       "      <td>136.0</td>\n",
       "      <td>NaN</td>\n",
       "      <td>NaN</td>\n",
       "      <td>NaN</td>\n",
       "      <td>1</td>\n",
       "    </tr>\n",
       "    <tr>\n",
       "      <th>9</th>\n",
       "      <td>37.0</td>\n",
       "      <td>116.0</td>\n",
       "      <td>NaN</td>\n",
       "      <td>111.0</td>\n",
       "      <td>70.0</td>\n",
       "      <td>1</td>\n",
       "    </tr>\n",
       "    <tr>\n",
       "      <th>15</th>\n",
       "      <td>37.0</td>\n",
       "      <td>110.0</td>\n",
       "      <td>NaN</td>\n",
       "      <td>NaN</td>\n",
       "      <td>NaN</td>\n",
       "      <td>1</td>\n",
       "    </tr>\n",
       "    <tr>\n",
       "      <th>...</th>\n",
       "      <td>...</td>\n",
       "      <td>...</td>\n",
       "      <td>...</td>\n",
       "      <td>...</td>\n",
       "      <td>...</td>\n",
       "      <td>...</td>\n",
       "    </tr>\n",
       "    <tr>\n",
       "      <th>10317</th>\n",
       "      <td>36.0</td>\n",
       "      <td>116.0</td>\n",
       "      <td>NaN</td>\n",
       "      <td>123.0</td>\n",
       "      <td>77.0</td>\n",
       "      <td>1</td>\n",
       "    </tr>\n",
       "    <tr>\n",
       "      <th>10322</th>\n",
       "      <td>NaN</td>\n",
       "      <td>131.0</td>\n",
       "      <td>39.0</td>\n",
       "      <td>82.0</td>\n",
       "      <td>37.0</td>\n",
       "      <td>1</td>\n",
       "    </tr>\n",
       "    <tr>\n",
       "      <th>10324</th>\n",
       "      <td>36.8</td>\n",
       "      <td>121.0</td>\n",
       "      <td>12.0</td>\n",
       "      <td>138.0</td>\n",
       "      <td>89.0</td>\n",
       "      <td>1</td>\n",
       "    </tr>\n",
       "    <tr>\n",
       "      <th>10325</th>\n",
       "      <td>36.8</td>\n",
       "      <td>110.0</td>\n",
       "      <td>19.0</td>\n",
       "      <td>141.0</td>\n",
       "      <td>61.0</td>\n",
       "      <td>1</td>\n",
       "    </tr>\n",
       "    <tr>\n",
       "      <th>10336</th>\n",
       "      <td>36.6</td>\n",
       "      <td>138.0</td>\n",
       "      <td>20.0</td>\n",
       "      <td>119.0</td>\n",
       "      <td>75.0</td>\n",
       "      <td>1</td>\n",
       "    </tr>\n",
       "  </tbody>\n",
       "</table>\n",
       "<p>742 rows × 6 columns</p>\n",
       "</div>"
      ],
      "text/plain": [
       "       temperatura  pulso  respiracao  pa_min  pa_max  sepse\n",
       "0             36.0  117.0         NaN   113.0    72.0      1\n",
       "2             38.0  118.0         NaN   110.0    70.0      1\n",
       "3             37.0  136.0         NaN     NaN     NaN      1\n",
       "9             37.0  116.0         NaN   111.0    70.0      1\n",
       "15            37.0  110.0         NaN     NaN     NaN      1\n",
       "...            ...    ...         ...     ...     ...    ...\n",
       "10317         36.0  116.0         NaN   123.0    77.0      1\n",
       "10322          NaN  131.0        39.0    82.0    37.0      1\n",
       "10324         36.8  121.0        12.0   138.0    89.0      1\n",
       "10325         36.8  110.0        19.0   141.0    61.0      1\n",
       "10336         36.6  138.0        20.0   119.0    75.0      1\n",
       "\n",
       "[742 rows x 6 columns]"
      ]
     },
     "execution_count": 28,
     "metadata": {},
     "output_type": "execute_result"
    }
   ],
   "source": [
    "treino.query('pulso >= 110 and sepse == 1') "
   ]
  },
  {
   "cell_type": "markdown",
   "metadata": {
    "id": "hLrx608GKqij"
   },
   "source": [
    "### Tratando o campo respiração"
   ]
  },
  {
   "cell_type": "markdown",
   "metadata": {
    "id": "l1YryOdmL7-p"
   },
   "source": [
    "![frequenciarespiratoria.PNG](data:image/png;base64,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)"
   ]
  },
  {
   "cell_type": "code",
   "execution_count": 29,
   "metadata": {
    "colab": {
     "base_uri": "https://localhost:8080/"
    },
    "id": "01Fzf3eGKqK0",
    "outputId": "95991511-e470-4ee2-f6e1-1f2b068ad5d2"
   },
   "outputs": [
    {
     "data": {
      "text/plain": [
       "array([nan, 15., 33., 17., 22., 19., 16., 12., 23., 26., 27., 28., 10.,\n",
       "       39., 20., 21., 24., 14., 11., 40., 25., 18., 13.,  0., 29.])"
      ]
     },
     "execution_count": 29,
     "metadata": {},
     "output_type": "execute_result"
    }
   ],
   "source": [
    "treino.respiracao.unique()"
   ]
  },
  {
   "cell_type": "code",
   "execution_count": 30,
   "metadata": {
    "colab": {
     "base_uri": "https://localhost:8080/",
     "height": 111
    },
    "id": "zhc5fyRwNEFa",
    "outputId": "999e7055-32df-43da-8c9a-8fc4d31bc1a1"
   },
   "outputs": [
    {
     "data": {
      "text/html": [
       "<div>\n",
       "<style scoped>\n",
       "    .dataframe tbody tr th:only-of-type {\n",
       "        vertical-align: middle;\n",
       "    }\n",
       "\n",
       "    .dataframe tbody tr th {\n",
       "        vertical-align: top;\n",
       "    }\n",
       "\n",
       "    .dataframe thead th {\n",
       "        text-align: right;\n",
       "    }\n",
       "</style>\n",
       "<table border=\"1\" class=\"dataframe\">\n",
       "  <thead>\n",
       "    <tr style=\"text-align: right;\">\n",
       "      <th></th>\n",
       "      <th>temperatura</th>\n",
       "      <th>pulso</th>\n",
       "      <th>respiracao</th>\n",
       "      <th>pa_min</th>\n",
       "      <th>pa_max</th>\n",
       "      <th>sepse</th>\n",
       "    </tr>\n",
       "  </thead>\n",
       "  <tbody>\n",
       "    <tr>\n",
       "      <th>5308</th>\n",
       "      <td>36.7</td>\n",
       "      <td>103.0</td>\n",
       "      <td>0.0</td>\n",
       "      <td>121.0</td>\n",
       "      <td>70.0</td>\n",
       "      <td>0</td>\n",
       "    </tr>\n",
       "    <tr>\n",
       "      <th>13783</th>\n",
       "      <td>36.7</td>\n",
       "      <td>103.0</td>\n",
       "      <td>0.0</td>\n",
       "      <td>121.0</td>\n",
       "      <td>70.0</td>\n",
       "      <td>0</td>\n",
       "    </tr>\n",
       "  </tbody>\n",
       "</table>\n",
       "</div>"
      ],
      "text/plain": [
       "       temperatura  pulso  respiracao  pa_min  pa_max  sepse\n",
       "5308          36.7  103.0         0.0   121.0    70.0      0\n",
       "13783         36.7  103.0         0.0   121.0    70.0      0"
      ]
     },
     "execution_count": 30,
     "metadata": {},
     "output_type": "execute_result"
    }
   ],
   "source": [
    "treino.query('respiracao == 0') #zero igual a nan"
   ]
  },
  {
   "cell_type": "code",
   "execution_count": 31,
   "metadata": {
    "id": "AAKbroooNQea"
   },
   "outputs": [],
   "source": [
    "treino.respiracao.replace(0, np.nan, inplace=True)\n",
    "teste.respiracao.replace(0, np.nan, inplace=True)"
   ]
  },
  {
   "cell_type": "markdown",
   "metadata": {
    "id": "AGWvPyxDMZ5U"
   },
   "source": [
    "### Tratando o campo pressão minima e máxima"
   ]
  },
  {
   "cell_type": "markdown",
   "metadata": {
    "id": "13DX24wWn6PT"
   },
   "source": [
    "![image.png](data:image/png;base64,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)"
   ]
  },
  {
   "cell_type": "markdown",
   "metadata": {
    "id": "NveAD2IoGmW_"
   },
   "source": [
    "Através dos valores, entendemos que pressão mínima da base é a sistólica e pressão máxima, Diastólica."
   ]
  },
  {
   "cell_type": "code",
   "execution_count": 32,
   "metadata": {
    "colab": {
     "base_uri": "https://localhost:8080/"
    },
    "id": "LmwrVmmJMpV1",
    "outputId": "88660508-384b-499d-bd93-8ddcb1af72e3"
   },
   "outputs": [
    {
     "data": {
      "text/plain": [
       "array([ 113.,   nan,  110.,  153.,  111.,  126.,  107.,  185.,  127.,\n",
       "        133.,   97.,  191.,  130.,  170.,  143.,  147.,  120.,   90.,\n",
       "        122.,  138.,  152.,  137.,  142.,  119.,  125.,  115.,  204.,\n",
       "        150.,  128.,  117.,  118.,  160.,  100.,  155.,  149.,  114.,\n",
       "        159.,  123.,  108.,  102.,  145.,  180.,  136.,  140.,  169.,\n",
       "        178.,  144.,  103.,  105.,  109.,   88.,  134.,  101.,  164.,\n",
       "        167.,   89.,  135.,  132.,  148.,  139.,  131.,   94.,  200.,\n",
       "        182.,   86.,   81.,  146.,  186.,  121.,  106.,   93.,  112.,\n",
       "        189.,  154.,  187.,  163.,  129.,  124.,  141.,  116.,   10.,\n",
       "         98.,  156.,  166.,  151.,  175.,   92.,   79.,  104.,  212.,\n",
       "         85.,  220.,   91.,  209.,   95.,  165.,  157.,  161.,  171.,\n",
       "        158.,   82.,   74.,  168.,  173.,   96.,  179.,  162.,  172.,\n",
       "         99.,   75.,  219.,  184.,  190.,  197.,  230.,  177.,  202.,\n",
       "        174.,   15.,  224.,  208.,  236.,   40.,  198.,  199.,  203.,\n",
       "         12.,  215.,  201.,   11.,  217.,  192.,  181.,  210.,  195.,\n",
       "        183.,  188.,   19.,  176.,  225.,  233.,  193.,   16.,  231.,\n",
       "         80.,   14.,  213.,  211.,   18.,  194.,   69.,  222.,   83.,\n",
       "         73.,   67.,  242.,  245.,    0.,   17., 1460.,   20.])"
      ]
     },
     "execution_count": 32,
     "metadata": {},
     "output_type": "execute_result"
    }
   ],
   "source": [
    "treino.pa_min.unique()"
   ]
  },
  {
   "cell_type": "code",
   "execution_count": 33,
   "metadata": {
    "colab": {
     "base_uri": "https://localhost:8080/",
     "height": 111
    },
    "id": "c_G2SaouP71e",
    "outputId": "a270b354-2534-4adc-f894-5acb846ef270"
   },
   "outputs": [
    {
     "data": {
      "text/html": [
       "<div>\n",
       "<style scoped>\n",
       "    .dataframe tbody tr th:only-of-type {\n",
       "        vertical-align: middle;\n",
       "    }\n",
       "\n",
       "    .dataframe tbody tr th {\n",
       "        vertical-align: top;\n",
       "    }\n",
       "\n",
       "    .dataframe thead th {\n",
       "        text-align: right;\n",
       "    }\n",
       "</style>\n",
       "<table border=\"1\" class=\"dataframe\">\n",
       "  <thead>\n",
       "    <tr style=\"text-align: right;\">\n",
       "      <th></th>\n",
       "      <th>temperatura</th>\n",
       "      <th>pulso</th>\n",
       "      <th>respiracao</th>\n",
       "      <th>pa_min</th>\n",
       "      <th>pa_max</th>\n",
       "      <th>sepse</th>\n",
       "    </tr>\n",
       "  </thead>\n",
       "  <tbody>\n",
       "    <tr>\n",
       "      <th>11982</th>\n",
       "      <td>NaN</td>\n",
       "      <td>63.0</td>\n",
       "      <td>15.0</td>\n",
       "      <td>0.0</td>\n",
       "      <td>0.0</td>\n",
       "      <td>0</td>\n",
       "    </tr>\n",
       "    <tr>\n",
       "      <th>13753</th>\n",
       "      <td>NaN</td>\n",
       "      <td>63.0</td>\n",
       "      <td>15.0</td>\n",
       "      <td>0.0</td>\n",
       "      <td>0.0</td>\n",
       "      <td>0</td>\n",
       "    </tr>\n",
       "  </tbody>\n",
       "</table>\n",
       "</div>"
      ],
      "text/plain": [
       "       temperatura  pulso  respiracao  pa_min  pa_max  sepse\n",
       "11982          NaN   63.0        15.0     0.0     0.0      0\n",
       "13753          NaN   63.0        15.0     0.0     0.0      0"
      ]
     },
     "execution_count": 33,
     "metadata": {},
     "output_type": "execute_result"
    }
   ],
   "source": [
    "treino.query('pa_min == 0') #zero igual a nan"
   ]
  },
  {
   "cell_type": "code",
   "execution_count": 34,
   "metadata": {
    "id": "e4RNXEYrQHZI"
   },
   "outputs": [],
   "source": [
    "treino.pa_min.replace(0, np.nan, inplace=True)\n",
    "teste.pa_min.replace(0, np.nan, inplace=True)"
   ]
  },
  {
   "cell_type": "code",
   "execution_count": 35,
   "metadata": {
    "colab": {
     "base_uri": "https://localhost:8080/",
     "height": 607
    },
    "id": "Adr1WAHuQPog",
    "outputId": "e384a97b-5faf-425a-d06f-c7c87b096093"
   },
   "outputs": [
    {
     "data": {
      "text/html": [
       "<div>\n",
       "<style scoped>\n",
       "    .dataframe tbody tr th:only-of-type {\n",
       "        vertical-align: middle;\n",
       "    }\n",
       "\n",
       "    .dataframe tbody tr th {\n",
       "        vertical-align: top;\n",
       "    }\n",
       "\n",
       "    .dataframe thead th {\n",
       "        text-align: right;\n",
       "    }\n",
       "</style>\n",
       "<table border=\"1\" class=\"dataframe\">\n",
       "  <thead>\n",
       "    <tr style=\"text-align: right;\">\n",
       "      <th></th>\n",
       "      <th>temperatura</th>\n",
       "      <th>pulso</th>\n",
       "      <th>respiracao</th>\n",
       "      <th>pa_min</th>\n",
       "      <th>pa_max</th>\n",
       "      <th>sepse</th>\n",
       "    </tr>\n",
       "  </thead>\n",
       "  <tbody>\n",
       "    <tr>\n",
       "      <th>1566</th>\n",
       "      <td>36.0</td>\n",
       "      <td>100.0</td>\n",
       "      <td>NaN</td>\n",
       "      <td>230.0</td>\n",
       "      <td>120.0</td>\n",
       "      <td>0</td>\n",
       "    </tr>\n",
       "    <tr>\n",
       "      <th>1765</th>\n",
       "      <td>35.0</td>\n",
       "      <td>85.0</td>\n",
       "      <td>NaN</td>\n",
       "      <td>224.0</td>\n",
       "      <td>101.0</td>\n",
       "      <td>0</td>\n",
       "    </tr>\n",
       "    <tr>\n",
       "      <th>2452</th>\n",
       "      <td>NaN</td>\n",
       "      <td>175.0</td>\n",
       "      <td>NaN</td>\n",
       "      <td>236.0</td>\n",
       "      <td>116.0</td>\n",
       "      <td>0</td>\n",
       "    </tr>\n",
       "    <tr>\n",
       "      <th>3083</th>\n",
       "      <td>36.0</td>\n",
       "      <td>75.0</td>\n",
       "      <td>NaN</td>\n",
       "      <td>230.0</td>\n",
       "      <td>100.0</td>\n",
       "      <td>0</td>\n",
       "    </tr>\n",
       "    <tr>\n",
       "      <th>3153</th>\n",
       "      <td>36.0</td>\n",
       "      <td>84.0</td>\n",
       "      <td>NaN</td>\n",
       "      <td>230.0</td>\n",
       "      <td>112.0</td>\n",
       "      <td>0</td>\n",
       "    </tr>\n",
       "    <tr>\n",
       "      <th>4751</th>\n",
       "      <td>35.0</td>\n",
       "      <td>68.0</td>\n",
       "      <td>NaN</td>\n",
       "      <td>225.0</td>\n",
       "      <td>97.0</td>\n",
       "      <td>0</td>\n",
       "    </tr>\n",
       "    <tr>\n",
       "      <th>4987</th>\n",
       "      <td>36.0</td>\n",
       "      <td>83.0</td>\n",
       "      <td>NaN</td>\n",
       "      <td>233.0</td>\n",
       "      <td>105.0</td>\n",
       "      <td>0</td>\n",
       "    </tr>\n",
       "    <tr>\n",
       "      <th>5273</th>\n",
       "      <td>36.0</td>\n",
       "      <td>80.0</td>\n",
       "      <td>NaN</td>\n",
       "      <td>231.0</td>\n",
       "      <td>140.0</td>\n",
       "      <td>0</td>\n",
       "    </tr>\n",
       "    <tr>\n",
       "      <th>7658</th>\n",
       "      <td>35.0</td>\n",
       "      <td>90.0</td>\n",
       "      <td>NaN</td>\n",
       "      <td>222.0</td>\n",
       "      <td>118.0</td>\n",
       "      <td>0</td>\n",
       "    </tr>\n",
       "    <tr>\n",
       "      <th>8749</th>\n",
       "      <td>NaN</td>\n",
       "      <td>85.0</td>\n",
       "      <td>NaN</td>\n",
       "      <td>242.0</td>\n",
       "      <td>122.0</td>\n",
       "      <td>0</td>\n",
       "    </tr>\n",
       "    <tr>\n",
       "      <th>10457</th>\n",
       "      <td>35.0</td>\n",
       "      <td>88.0</td>\n",
       "      <td>NaN</td>\n",
       "      <td>245.0</td>\n",
       "      <td>100.0</td>\n",
       "      <td>0</td>\n",
       "    </tr>\n",
       "    <tr>\n",
       "      <th>11334</th>\n",
       "      <td>36.0</td>\n",
       "      <td>83.0</td>\n",
       "      <td>NaN</td>\n",
       "      <td>233.0</td>\n",
       "      <td>105.0</td>\n",
       "      <td>0</td>\n",
       "    </tr>\n",
       "    <tr>\n",
       "      <th>11792</th>\n",
       "      <td>35.0</td>\n",
       "      <td>88.0</td>\n",
       "      <td>NaN</td>\n",
       "      <td>245.0</td>\n",
       "      <td>100.0</td>\n",
       "      <td>0</td>\n",
       "    </tr>\n",
       "    <tr>\n",
       "      <th>14329</th>\n",
       "      <td>36.0</td>\n",
       "      <td>100.0</td>\n",
       "      <td>NaN</td>\n",
       "      <td>230.0</td>\n",
       "      <td>120.0</td>\n",
       "      <td>0</td>\n",
       "    </tr>\n",
       "    <tr>\n",
       "      <th>14534</th>\n",
       "      <td>36.0</td>\n",
       "      <td>90.0</td>\n",
       "      <td>NaN</td>\n",
       "      <td>1460.0</td>\n",
       "      <td>100.0</td>\n",
       "      <td>0</td>\n",
       "    </tr>\n",
       "    <tr>\n",
       "      <th>15247</th>\n",
       "      <td>35.0</td>\n",
       "      <td>88.0</td>\n",
       "      <td>NaN</td>\n",
       "      <td>245.0</td>\n",
       "      <td>100.0</td>\n",
       "      <td>0</td>\n",
       "    </tr>\n",
       "    <tr>\n",
       "      <th>16735</th>\n",
       "      <td>36.0</td>\n",
       "      <td>84.0</td>\n",
       "      <td>NaN</td>\n",
       "      <td>230.0</td>\n",
       "      <td>112.0</td>\n",
       "      <td>0</td>\n",
       "    </tr>\n",
       "    <tr>\n",
       "      <th>16838</th>\n",
       "      <td>35.0</td>\n",
       "      <td>88.0</td>\n",
       "      <td>NaN</td>\n",
       "      <td>245.0</td>\n",
       "      <td>100.0</td>\n",
       "      <td>0</td>\n",
       "    </tr>\n",
       "  </tbody>\n",
       "</table>\n",
       "</div>"
      ],
      "text/plain": [
       "       temperatura  pulso  respiracao  pa_min  pa_max  sepse\n",
       "1566          36.0  100.0         NaN   230.0   120.0      0\n",
       "1765          35.0   85.0         NaN   224.0   101.0      0\n",
       "2452           NaN  175.0         NaN   236.0   116.0      0\n",
       "3083          36.0   75.0         NaN   230.0   100.0      0\n",
       "3153          36.0   84.0         NaN   230.0   112.0      0\n",
       "4751          35.0   68.0         NaN   225.0    97.0      0\n",
       "4987          36.0   83.0         NaN   233.0   105.0      0\n",
       "5273          36.0   80.0         NaN   231.0   140.0      0\n",
       "7658          35.0   90.0         NaN   222.0   118.0      0\n",
       "8749           NaN   85.0         NaN   242.0   122.0      0\n",
       "10457         35.0   88.0         NaN   245.0   100.0      0\n",
       "11334         36.0   83.0         NaN   233.0   105.0      0\n",
       "11792         35.0   88.0         NaN   245.0   100.0      0\n",
       "14329         36.0  100.0         NaN   230.0   120.0      0\n",
       "14534         36.0   90.0         NaN  1460.0   100.0      0\n",
       "15247         35.0   88.0         NaN   245.0   100.0      0\n",
       "16735         36.0   84.0         NaN   230.0   112.0      0\n",
       "16838         35.0   88.0         NaN   245.0   100.0      0"
      ]
     },
     "execution_count": 35,
     "metadata": {},
     "output_type": "execute_result"
    }
   ],
   "source": [
    "treino.query('pa_min > 220') #recebe nan"
   ]
  },
  {
   "cell_type": "code",
   "execution_count": 36,
   "metadata": {
    "id": "p54aMfdHRPBk"
   },
   "outputs": [],
   "source": [
    "treino['pa_min'].values[treino['pa_min'].values > 220] = inf-inf\n",
    "teste['pa_min'].values[teste['pa_min'].values > 220] = inf-inf"
   ]
  },
  {
   "cell_type": "code",
   "execution_count": 37,
   "metadata": {
    "colab": {
     "base_uri": "https://localhost:8080/",
     "height": 1000
    },
    "id": "6VwqbRv1RbKw",
    "outputId": "5e29532e-81b4-4b11-e28d-ad8a3a2167c8"
   },
   "outputs": [
    {
     "data": {
      "text/html": [
       "<div>\n",
       "<style scoped>\n",
       "    .dataframe tbody tr th:only-of-type {\n",
       "        vertical-align: middle;\n",
       "    }\n",
       "\n",
       "    .dataframe tbody tr th {\n",
       "        vertical-align: top;\n",
       "    }\n",
       "\n",
       "    .dataframe thead th {\n",
       "        text-align: right;\n",
       "    }\n",
       "</style>\n",
       "<table border=\"1\" class=\"dataframe\">\n",
       "  <thead>\n",
       "    <tr style=\"text-align: right;\">\n",
       "      <th></th>\n",
       "      <th>temperatura</th>\n",
       "      <th>pulso</th>\n",
       "      <th>respiracao</th>\n",
       "      <th>pa_min</th>\n",
       "      <th>pa_max</th>\n",
       "      <th>sepse</th>\n",
       "    </tr>\n",
       "  </thead>\n",
       "  <tbody>\n",
       "    <tr>\n",
       "      <th>442</th>\n",
       "      <td>37.0</td>\n",
       "      <td>125.0</td>\n",
       "      <td>NaN</td>\n",
       "      <td>10.0</td>\n",
       "      <td>75.0</td>\n",
       "      <td>1</td>\n",
       "    </tr>\n",
       "    <tr>\n",
       "      <th>519</th>\n",
       "      <td>36.0</td>\n",
       "      <td>106.0</td>\n",
       "      <td>NaN</td>\n",
       "      <td>79.0</td>\n",
       "      <td>52.0</td>\n",
       "      <td>1</td>\n",
       "    </tr>\n",
       "    <tr>\n",
       "      <th>884</th>\n",
       "      <td>37.0</td>\n",
       "      <td>117.0</td>\n",
       "      <td>NaN</td>\n",
       "      <td>74.0</td>\n",
       "      <td>56.0</td>\n",
       "      <td>1</td>\n",
       "    </tr>\n",
       "    <tr>\n",
       "      <th>1118</th>\n",
       "      <td>NaN</td>\n",
       "      <td>51.0</td>\n",
       "      <td>NaN</td>\n",
       "      <td>75.0</td>\n",
       "      <td>52.0</td>\n",
       "      <td>0</td>\n",
       "    </tr>\n",
       "    <tr>\n",
       "      <th>1706</th>\n",
       "      <td>36.0</td>\n",
       "      <td>71.0</td>\n",
       "      <td>NaN</td>\n",
       "      <td>15.0</td>\n",
       "      <td>89.0</td>\n",
       "      <td>0</td>\n",
       "    </tr>\n",
       "    <tr>\n",
       "      <th>2474</th>\n",
       "      <td>35.0</td>\n",
       "      <td>74.0</td>\n",
       "      <td>NaN</td>\n",
       "      <td>40.0</td>\n",
       "      <td>69.0</td>\n",
       "      <td>0</td>\n",
       "    </tr>\n",
       "    <tr>\n",
       "      <th>2739</th>\n",
       "      <td>36.0</td>\n",
       "      <td>95.0</td>\n",
       "      <td>NaN</td>\n",
       "      <td>12.0</td>\n",
       "      <td>69.0</td>\n",
       "      <td>0</td>\n",
       "    </tr>\n",
       "    <tr>\n",
       "      <th>3108</th>\n",
       "      <td>38.0</td>\n",
       "      <td>85.0</td>\n",
       "      <td>NaN</td>\n",
       "      <td>11.0</td>\n",
       "      <td>75.0</td>\n",
       "      <td>0</td>\n",
       "    </tr>\n",
       "    <tr>\n",
       "      <th>3270</th>\n",
       "      <td>35.0</td>\n",
       "      <td>84.0</td>\n",
       "      <td>NaN</td>\n",
       "      <td>11.0</td>\n",
       "      <td>79.0</td>\n",
       "      <td>0</td>\n",
       "    </tr>\n",
       "    <tr>\n",
       "      <th>3292</th>\n",
       "      <td>35.0</td>\n",
       "      <td>92.0</td>\n",
       "      <td>NaN</td>\n",
       "      <td>15.0</td>\n",
       "      <td>84.0</td>\n",
       "      <td>0</td>\n",
       "    </tr>\n",
       "    <tr>\n",
       "      <th>4278</th>\n",
       "      <td>37.0</td>\n",
       "      <td>117.0</td>\n",
       "      <td>NaN</td>\n",
       "      <td>74.0</td>\n",
       "      <td>56.0</td>\n",
       "      <td>0</td>\n",
       "    </tr>\n",
       "    <tr>\n",
       "      <th>4496</th>\n",
       "      <td>36.0</td>\n",
       "      <td>84.0</td>\n",
       "      <td>NaN</td>\n",
       "      <td>19.0</td>\n",
       "      <td>82.0</td>\n",
       "      <td>0</td>\n",
       "    </tr>\n",
       "    <tr>\n",
       "      <th>4863</th>\n",
       "      <td>36.0</td>\n",
       "      <td>100.0</td>\n",
       "      <td>NaN</td>\n",
       "      <td>12.0</td>\n",
       "      <td>80.0</td>\n",
       "      <td>0</td>\n",
       "    </tr>\n",
       "    <tr>\n",
       "      <th>4961</th>\n",
       "      <td>36.0</td>\n",
       "      <td>67.0</td>\n",
       "      <td>NaN</td>\n",
       "      <td>10.0</td>\n",
       "      <td>71.0</td>\n",
       "      <td>0</td>\n",
       "    </tr>\n",
       "    <tr>\n",
       "      <th>5106</th>\n",
       "      <td>36.0</td>\n",
       "      <td>62.0</td>\n",
       "      <td>NaN</td>\n",
       "      <td>16.0</td>\n",
       "      <td>90.0</td>\n",
       "      <td>0</td>\n",
       "    </tr>\n",
       "    <tr>\n",
       "      <th>5522</th>\n",
       "      <td>36.0</td>\n",
       "      <td>81.0</td>\n",
       "      <td>NaN</td>\n",
       "      <td>14.0</td>\n",
       "      <td>10.0</td>\n",
       "      <td>0</td>\n",
       "    </tr>\n",
       "    <tr>\n",
       "      <th>5636</th>\n",
       "      <td>35.0</td>\n",
       "      <td>90.0</td>\n",
       "      <td>NaN</td>\n",
       "      <td>11.0</td>\n",
       "      <td>75.0</td>\n",
       "      <td>0</td>\n",
       "    </tr>\n",
       "    <tr>\n",
       "      <th>5774</th>\n",
       "      <td>36.0</td>\n",
       "      <td>94.0</td>\n",
       "      <td>NaN</td>\n",
       "      <td>10.0</td>\n",
       "      <td>60.0</td>\n",
       "      <td>0</td>\n",
       "    </tr>\n",
       "    <tr>\n",
       "      <th>6360</th>\n",
       "      <td>36.0</td>\n",
       "      <td>100.0</td>\n",
       "      <td>NaN</td>\n",
       "      <td>18.0</td>\n",
       "      <td>93.0</td>\n",
       "      <td>0</td>\n",
       "    </tr>\n",
       "    <tr>\n",
       "      <th>7089</th>\n",
       "      <td>35.0</td>\n",
       "      <td>89.0</td>\n",
       "      <td>NaN</td>\n",
       "      <td>69.0</td>\n",
       "      <td>60.0</td>\n",
       "      <td>0</td>\n",
       "    </tr>\n",
       "    <tr>\n",
       "      <th>7401</th>\n",
       "      <td>36.0</td>\n",
       "      <td>62.0</td>\n",
       "      <td>NaN</td>\n",
       "      <td>18.0</td>\n",
       "      <td>74.0</td>\n",
       "      <td>0</td>\n",
       "    </tr>\n",
       "    <tr>\n",
       "      <th>7777</th>\n",
       "      <td>33.0</td>\n",
       "      <td>53.0</td>\n",
       "      <td>NaN</td>\n",
       "      <td>73.0</td>\n",
       "      <td>43.0</td>\n",
       "      <td>0</td>\n",
       "    </tr>\n",
       "    <tr>\n",
       "      <th>7843</th>\n",
       "      <td>35.0</td>\n",
       "      <td>180.0</td>\n",
       "      <td>NaN</td>\n",
       "      <td>67.0</td>\n",
       "      <td>43.0</td>\n",
       "      <td>0</td>\n",
       "    </tr>\n",
       "    <tr>\n",
       "      <th>8424</th>\n",
       "      <td>36.0</td>\n",
       "      <td>100.0</td>\n",
       "      <td>NaN</td>\n",
       "      <td>16.0</td>\n",
       "      <td>10.0</td>\n",
       "      <td>0</td>\n",
       "    </tr>\n",
       "    <tr>\n",
       "      <th>9777</th>\n",
       "      <td>37.0</td>\n",
       "      <td>125.0</td>\n",
       "      <td>NaN</td>\n",
       "      <td>10.0</td>\n",
       "      <td>75.0</td>\n",
       "      <td>1</td>\n",
       "    </tr>\n",
       "    <tr>\n",
       "      <th>10069</th>\n",
       "      <td>36.0</td>\n",
       "      <td>106.0</td>\n",
       "      <td>NaN</td>\n",
       "      <td>79.0</td>\n",
       "      <td>52.0</td>\n",
       "      <td>1</td>\n",
       "    </tr>\n",
       "    <tr>\n",
       "      <th>12320</th>\n",
       "      <td>38.0</td>\n",
       "      <td>85.0</td>\n",
       "      <td>NaN</td>\n",
       "      <td>11.0</td>\n",
       "      <td>75.0</td>\n",
       "      <td>0</td>\n",
       "    </tr>\n",
       "    <tr>\n",
       "      <th>13078</th>\n",
       "      <td>36.0</td>\n",
       "      <td>67.0</td>\n",
       "      <td>NaN</td>\n",
       "      <td>10.0</td>\n",
       "      <td>71.0</td>\n",
       "      <td>0</td>\n",
       "    </tr>\n",
       "    <tr>\n",
       "      <th>13548</th>\n",
       "      <td>33.0</td>\n",
       "      <td>53.0</td>\n",
       "      <td>NaN</td>\n",
       "      <td>73.0</td>\n",
       "      <td>43.0</td>\n",
       "      <td>0</td>\n",
       "    </tr>\n",
       "    <tr>\n",
       "      <th>13834</th>\n",
       "      <td>36.0</td>\n",
       "      <td>85.0</td>\n",
       "      <td>NaN</td>\n",
       "      <td>17.0</td>\n",
       "      <td>92.0</td>\n",
       "      <td>0</td>\n",
       "    </tr>\n",
       "    <tr>\n",
       "      <th>14568</th>\n",
       "      <td>36.0</td>\n",
       "      <td>62.0</td>\n",
       "      <td>NaN</td>\n",
       "      <td>18.0</td>\n",
       "      <td>74.0</td>\n",
       "      <td>0</td>\n",
       "    </tr>\n",
       "    <tr>\n",
       "      <th>15837</th>\n",
       "      <td>36.0</td>\n",
       "      <td>71.0</td>\n",
       "      <td>NaN</td>\n",
       "      <td>15.0</td>\n",
       "      <td>89.0</td>\n",
       "      <td>0</td>\n",
       "    </tr>\n",
       "    <tr>\n",
       "      <th>15936</th>\n",
       "      <td>36.0</td>\n",
       "      <td>68.0</td>\n",
       "      <td>NaN</td>\n",
       "      <td>20.0</td>\n",
       "      <td>10.0</td>\n",
       "      <td>0</td>\n",
       "    </tr>\n",
       "  </tbody>\n",
       "</table>\n",
       "</div>"
      ],
      "text/plain": [
       "       temperatura  pulso  respiracao  pa_min  pa_max  sepse\n",
       "442           37.0  125.0         NaN    10.0    75.0      1\n",
       "519           36.0  106.0         NaN    79.0    52.0      1\n",
       "884           37.0  117.0         NaN    74.0    56.0      1\n",
       "1118           NaN   51.0         NaN    75.0    52.0      0\n",
       "1706          36.0   71.0         NaN    15.0    89.0      0\n",
       "2474          35.0   74.0         NaN    40.0    69.0      0\n",
       "2739          36.0   95.0         NaN    12.0    69.0      0\n",
       "3108          38.0   85.0         NaN    11.0    75.0      0\n",
       "3270          35.0   84.0         NaN    11.0    79.0      0\n",
       "3292          35.0   92.0         NaN    15.0    84.0      0\n",
       "4278          37.0  117.0         NaN    74.0    56.0      0\n",
       "4496          36.0   84.0         NaN    19.0    82.0      0\n",
       "4863          36.0  100.0         NaN    12.0    80.0      0\n",
       "4961          36.0   67.0         NaN    10.0    71.0      0\n",
       "5106          36.0   62.0         NaN    16.0    90.0      0\n",
       "5522          36.0   81.0         NaN    14.0    10.0      0\n",
       "5636          35.0   90.0         NaN    11.0    75.0      0\n",
       "5774          36.0   94.0         NaN    10.0    60.0      0\n",
       "6360          36.0  100.0         NaN    18.0    93.0      0\n",
       "7089          35.0   89.0         NaN    69.0    60.0      0\n",
       "7401          36.0   62.0         NaN    18.0    74.0      0\n",
       "7777          33.0   53.0         NaN    73.0    43.0      0\n",
       "7843          35.0  180.0         NaN    67.0    43.0      0\n",
       "8424          36.0  100.0         NaN    16.0    10.0      0\n",
       "9777          37.0  125.0         NaN    10.0    75.0      1\n",
       "10069         36.0  106.0         NaN    79.0    52.0      1\n",
       "12320         38.0   85.0         NaN    11.0    75.0      0\n",
       "13078         36.0   67.0         NaN    10.0    71.0      0\n",
       "13548         33.0   53.0         NaN    73.0    43.0      0\n",
       "13834         36.0   85.0         NaN    17.0    92.0      0\n",
       "14568         36.0   62.0         NaN    18.0    74.0      0\n",
       "15837         36.0   71.0         NaN    15.0    89.0      0\n",
       "15936         36.0   68.0         NaN    20.0    10.0      0"
      ]
     },
     "execution_count": 37,
     "metadata": {},
     "output_type": "execute_result"
    }
   ],
   "source": [
    "treino.query('pa_min < 80')"
   ]
  },
  {
   "cell_type": "code",
   "execution_count": 38,
   "metadata": {
    "colab": {
     "base_uri": "https://localhost:8080/"
    },
    "id": "86vAYmDJMng6",
    "outputId": "69f62307-5e64-4658-8e66-98fe3e239867"
   },
   "outputs": [
    {
     "data": {
      "text/plain": [
       "array([ 72.,  nan,  70., 118.,  56.,  76.,  64.,  75.,  51.,  92., 107.,\n",
       "        87., 112.,  99., 114.,  59.,  46.,  67.,  83.,  82.,  84.,  96.,\n",
       "        78.,  69.,  66., 123.,  68.,  79.,  60., 102.,  80.,  54.,  90.,\n",
       "        73.,  74.,  65.,  77.,  91., 111.,  62.,  93.,  71., 110.,  63.,\n",
       "        53.,  58.,  61.,  81.,  85.,  48.,  89.,  41.,  57., 100.,  55.,\n",
       "        86.,  50.,  88.,  47.,  52.,  97., 140., 101., 126.,  94., 108.,\n",
       "       109., 124.,  95., 106., 113., 115.,  37.,  45., 116.,  98.,  11.,\n",
       "       103., 117., 120., 119., 104.,  20.,  49., 130., 131., 105.,  10.,\n",
       "         8., 121., 133., 150., 135.,  43.,   0., 969., 122.,  44., 883.,\n",
       "       704.])"
      ]
     },
     "execution_count": 38,
     "metadata": {},
     "output_type": "execute_result"
    }
   ],
   "source": [
    "treino.pa_max.unique()"
   ]
  },
  {
   "cell_type": "code",
   "execution_count": 39,
   "metadata": {
    "colab": {
     "base_uri": "https://localhost:8080/",
     "height": 173
    },
    "id": "0MOC4FutSH4d",
    "outputId": "e458f0e2-d457-4333-ca5d-9c1fb2c6c8cf"
   },
   "outputs": [
    {
     "data": {
      "text/html": [
       "<div>\n",
       "<style scoped>\n",
       "    .dataframe tbody tr th:only-of-type {\n",
       "        vertical-align: middle;\n",
       "    }\n",
       "\n",
       "    .dataframe tbody tr th {\n",
       "        vertical-align: top;\n",
       "    }\n",
       "\n",
       "    .dataframe thead th {\n",
       "        text-align: right;\n",
       "    }\n",
       "</style>\n",
       "<table border=\"1\" class=\"dataframe\">\n",
       "  <thead>\n",
       "    <tr style=\"text-align: right;\">\n",
       "      <th></th>\n",
       "      <th>temperatura</th>\n",
       "      <th>pulso</th>\n",
       "      <th>respiracao</th>\n",
       "      <th>pa_min</th>\n",
       "      <th>pa_max</th>\n",
       "      <th>sepse</th>\n",
       "    </tr>\n",
       "  </thead>\n",
       "  <tbody>\n",
       "    <tr>\n",
       "      <th>7847</th>\n",
       "      <td>36.0</td>\n",
       "      <td>94.0</td>\n",
       "      <td>NaN</td>\n",
       "      <td>121.0</td>\n",
       "      <td>0.0</td>\n",
       "      <td>0</td>\n",
       "    </tr>\n",
       "    <tr>\n",
       "      <th>10827</th>\n",
       "      <td>36.0</td>\n",
       "      <td>94.0</td>\n",
       "      <td>NaN</td>\n",
       "      <td>121.0</td>\n",
       "      <td>0.0</td>\n",
       "      <td>0</td>\n",
       "    </tr>\n",
       "    <tr>\n",
       "      <th>11982</th>\n",
       "      <td>NaN</td>\n",
       "      <td>63.0</td>\n",
       "      <td>15.0</td>\n",
       "      <td>NaN</td>\n",
       "      <td>0.0</td>\n",
       "      <td>0</td>\n",
       "    </tr>\n",
       "    <tr>\n",
       "      <th>13753</th>\n",
       "      <td>NaN</td>\n",
       "      <td>63.0</td>\n",
       "      <td>15.0</td>\n",
       "      <td>NaN</td>\n",
       "      <td>0.0</td>\n",
       "      <td>0</td>\n",
       "    </tr>\n",
       "  </tbody>\n",
       "</table>\n",
       "</div>"
      ],
      "text/plain": [
       "       temperatura  pulso  respiracao  pa_min  pa_max  sepse\n",
       "7847          36.0   94.0         NaN   121.0     0.0      0\n",
       "10827         36.0   94.0         NaN   121.0     0.0      0\n",
       "11982          NaN   63.0        15.0     NaN     0.0      0\n",
       "13753          NaN   63.0        15.0     NaN     0.0      0"
      ]
     },
     "execution_count": 39,
     "metadata": {},
     "output_type": "execute_result"
    }
   ],
   "source": [
    "treino.query('pa_max == 0') #zero igual a nan"
   ]
  },
  {
   "cell_type": "code",
   "execution_count": 40,
   "metadata": {
    "id": "3GFDKbI7SVi9"
   },
   "outputs": [],
   "source": [
    "treino.pa_max.replace(0, np.nan, inplace=True)\n",
    "teste.pa_max.replace(0, np.nan, inplace=True)"
   ]
  },
  {
   "cell_type": "code",
   "execution_count": 41,
   "metadata": {
    "colab": {
     "base_uri": "https://localhost:8080/",
     "height": 142
    },
    "id": "-ZfhndkASclt",
    "outputId": "4e75a9ae-47bd-464c-d4d8-53dec3033f40"
   },
   "outputs": [
    {
     "data": {
      "text/html": [
       "<div>\n",
       "<style scoped>\n",
       "    .dataframe tbody tr th:only-of-type {\n",
       "        vertical-align: middle;\n",
       "    }\n",
       "\n",
       "    .dataframe tbody tr th {\n",
       "        vertical-align: top;\n",
       "    }\n",
       "\n",
       "    .dataframe thead th {\n",
       "        text-align: right;\n",
       "    }\n",
       "</style>\n",
       "<table border=\"1\" class=\"dataframe\">\n",
       "  <thead>\n",
       "    <tr style=\"text-align: right;\">\n",
       "      <th></th>\n",
       "      <th>temperatura</th>\n",
       "      <th>pulso</th>\n",
       "      <th>respiracao</th>\n",
       "      <th>pa_min</th>\n",
       "      <th>pa_max</th>\n",
       "      <th>sepse</th>\n",
       "    </tr>\n",
       "  </thead>\n",
       "  <tbody>\n",
       "    <tr>\n",
       "      <th>8605</th>\n",
       "      <td>36.0</td>\n",
       "      <td>100.0</td>\n",
       "      <td>NaN</td>\n",
       "      <td>145.0</td>\n",
       "      <td>969.0</td>\n",
       "      <td>0</td>\n",
       "    </tr>\n",
       "    <tr>\n",
       "      <th>14740</th>\n",
       "      <td>NaN</td>\n",
       "      <td>92.0</td>\n",
       "      <td>NaN</td>\n",
       "      <td>153.0</td>\n",
       "      <td>883.0</td>\n",
       "      <td>0</td>\n",
       "    </tr>\n",
       "    <tr>\n",
       "      <th>15696</th>\n",
       "      <td>NaN</td>\n",
       "      <td>126.0</td>\n",
       "      <td>NaN</td>\n",
       "      <td>197.0</td>\n",
       "      <td>704.0</td>\n",
       "      <td>0</td>\n",
       "    </tr>\n",
       "  </tbody>\n",
       "</table>\n",
       "</div>"
      ],
      "text/plain": [
       "       temperatura  pulso  respiracao  pa_min  pa_max  sepse\n",
       "8605          36.0  100.0         NaN   145.0   969.0      0\n",
       "14740          NaN   92.0         NaN   153.0   883.0      0\n",
       "15696          NaN  126.0         NaN   197.0   704.0      0"
      ]
     },
     "execution_count": 41,
     "metadata": {},
     "output_type": "execute_result"
    }
   ],
   "source": [
    "treino.query('pa_max > 180') #recebe nan"
   ]
  },
  {
   "cell_type": "code",
   "execution_count": 42,
   "metadata": {
    "id": "m4Z9NY2-S3MB"
   },
   "outputs": [],
   "source": [
    "treino['pa_max'].values[treino['pa_max'].values > 180] = inf-inf\n",
    "teste['pa_max'].values[teste['pa_max'].values > 180] = inf-inf"
   ]
  },
  {
   "cell_type": "markdown",
   "metadata": {
    "id": "fG6SooqKjxrV"
   },
   "source": [
    "Também substituímos as variáveis contínuas da pressão por dados categóricos, distribuídos nas faixas da imagem  que trouxemos logo no início, porém os resultados foram piores."
   ]
  },
  {
   "cell_type": "markdown",
   "metadata": {
    "id": "E_JmfjhzTiYD"
   },
   "source": [
    "Medidas para os casos de sepse positiva"
   ]
  },
  {
   "cell_type": "code",
   "execution_count": 43,
   "metadata": {
    "id": "FPBiW5wmTp1v"
   },
   "outputs": [],
   "source": [
    "sepse1 = treino.query('sepse == 1')"
   ]
  },
  {
   "cell_type": "code",
   "execution_count": 44,
   "metadata": {
    "colab": {
     "base_uri": "https://localhost:8080/",
     "height": 297
    },
    "id": "Ovt4dq1FTxx_",
    "outputId": "e339102a-2df0-404c-e0dc-709bc4a25808"
   },
   "outputs": [
    {
     "data": {
      "text/html": [
       "<div>\n",
       "<style scoped>\n",
       "    .dataframe tbody tr th:only-of-type {\n",
       "        vertical-align: middle;\n",
       "    }\n",
       "\n",
       "    .dataframe tbody tr th {\n",
       "        vertical-align: top;\n",
       "    }\n",
       "\n",
       "    .dataframe thead th {\n",
       "        text-align: right;\n",
       "    }\n",
       "</style>\n",
       "<table border=\"1\" class=\"dataframe\">\n",
       "  <thead>\n",
       "    <tr style=\"text-align: right;\">\n",
       "      <th></th>\n",
       "      <th>temperatura</th>\n",
       "      <th>pulso</th>\n",
       "      <th>respiracao</th>\n",
       "      <th>pa_min</th>\n",
       "      <th>pa_max</th>\n",
       "      <th>sepse</th>\n",
       "    </tr>\n",
       "  </thead>\n",
       "  <tbody>\n",
       "    <tr>\n",
       "      <th>count</th>\n",
       "      <td>2336.000000</td>\n",
       "      <td>2406.000000</td>\n",
       "      <td>1046.000000</td>\n",
       "      <td>1692.000000</td>\n",
       "      <td>1691.000000</td>\n",
       "      <td>2575.0</td>\n",
       "    </tr>\n",
       "    <tr>\n",
       "      <th>mean</th>\n",
       "      <td>36.335916</td>\n",
       "      <td>99.599751</td>\n",
       "      <td>20.817400</td>\n",
       "      <td>125.989953</td>\n",
       "      <td>67.604376</td>\n",
       "      <td>1.0</td>\n",
       "    </tr>\n",
       "    <tr>\n",
       "      <th>std</th>\n",
       "      <td>1.136880</td>\n",
       "      <td>20.942447</td>\n",
       "      <td>5.250119</td>\n",
       "      <td>23.701485</td>\n",
       "      <td>16.540542</td>\n",
       "      <td>0.0</td>\n",
       "    </tr>\n",
       "    <tr>\n",
       "      <th>min</th>\n",
       "      <td>32.000000</td>\n",
       "      <td>32.000000</td>\n",
       "      <td>10.000000</td>\n",
       "      <td>10.000000</td>\n",
       "      <td>11.000000</td>\n",
       "      <td>1.0</td>\n",
       "    </tr>\n",
       "    <tr>\n",
       "      <th>25%</th>\n",
       "      <td>35.100000</td>\n",
       "      <td>84.000000</td>\n",
       "      <td>18.000000</td>\n",
       "      <td>111.000000</td>\n",
       "      <td>53.000000</td>\n",
       "      <td>1.0</td>\n",
       "    </tr>\n",
       "    <tr>\n",
       "      <th>50%</th>\n",
       "      <td>36.100000</td>\n",
       "      <td>101.000000</td>\n",
       "      <td>19.000000</td>\n",
       "      <td>124.000000</td>\n",
       "      <td>67.000000</td>\n",
       "      <td>1.0</td>\n",
       "    </tr>\n",
       "    <tr>\n",
       "      <th>75%</th>\n",
       "      <td>37.000000</td>\n",
       "      <td>112.000000</td>\n",
       "      <td>22.000000</td>\n",
       "      <td>143.000000</td>\n",
       "      <td>79.000000</td>\n",
       "      <td>1.0</td>\n",
       "    </tr>\n",
       "    <tr>\n",
       "      <th>max</th>\n",
       "      <td>40.000000</td>\n",
       "      <td>186.000000</td>\n",
       "      <td>40.000000</td>\n",
       "      <td>220.000000</td>\n",
       "      <td>140.000000</td>\n",
       "      <td>1.0</td>\n",
       "    </tr>\n",
       "  </tbody>\n",
       "</table>\n",
       "</div>"
      ],
      "text/plain": [
       "       temperatura        pulso   respiracao       pa_min       pa_max   sepse\n",
       "count  2336.000000  2406.000000  1046.000000  1692.000000  1691.000000  2575.0\n",
       "mean     36.335916    99.599751    20.817400   125.989953    67.604376     1.0\n",
       "std       1.136880    20.942447     5.250119    23.701485    16.540542     0.0\n",
       "min      32.000000    32.000000    10.000000    10.000000    11.000000     1.0\n",
       "25%      35.100000    84.000000    18.000000   111.000000    53.000000     1.0\n",
       "50%      36.100000   101.000000    19.000000   124.000000    67.000000     1.0\n",
       "75%      37.000000   112.000000    22.000000   143.000000    79.000000     1.0\n",
       "max      40.000000   186.000000    40.000000   220.000000   140.000000     1.0"
      ]
     },
     "execution_count": 44,
     "metadata": {},
     "output_type": "execute_result"
    }
   ],
   "source": [
    "sepse1.describe()"
   ]
  },
  {
   "cell_type": "markdown",
   "metadata": {
    "id": "2_4oYkjAjjwN"
   },
   "source": [
    "## Utilizando o KNN imputer para o preenchimento dos dados nan"
   ]
  },
  {
   "cell_type": "code",
   "execution_count": 45,
   "metadata": {
    "id": "uql42hNfjhas"
   },
   "outputs": [],
   "source": [
    "#Divide the features into Independent and Dependent Variable\n",
    "X = treino.drop('sepse' , axis =1)\n",
    "y = treino['sepse']\n",
    "y_completo = y.copy()"
   ]
  },
  {
   "cell_type": "code",
   "execution_count": 46,
   "metadata": {
    "id": "fRKC-aKKijCh"
   },
   "outputs": [],
   "source": [
    "# knn imputation treino\n",
    "from numpy import isnan\n",
    "from sklearn.impute import KNNImputer\n",
    "\n",
    "# define imputer\n",
    "imputer = KNNImputer()\n",
    "# fit on the dataset\n",
    "imputer.fit(X)\n",
    "# transform the dataset\n",
    "Xtrans = imputer.transform(X)"
   ]
  },
  {
   "cell_type": "code",
   "execution_count": 47,
   "metadata": {
    "colab": {
     "base_uri": "https://localhost:8080/"
    },
    "id": "nrQM2xSmbMRW",
    "outputId": "352df3ef-0552-447d-c11f-b5d700897cf9"
   },
   "outputs": [
    {
     "data": {
      "text/plain": [
       "array([[ 36. , 117. ,  18. , 113. ,  72. ],\n",
       "       [ 36. , 105. ,  19. , 134.8,  85.4],\n",
       "       [ 38. , 118. ,  18. , 110. ,  70. ],\n",
       "       ...,\n",
       "       [ 35.4,  69. ,  23.4, 149. ,  93. ],\n",
       "       [ 35.2,  95. ,  19. , 136. ,  82. ],\n",
       "       [ 37. ,  88. ,  20. , 141.8,  63.4]])"
      ]
     },
     "execution_count": 47,
     "metadata": {},
     "output_type": "execute_result"
    }
   ],
   "source": [
    "Xtrans"
   ]
  },
  {
   "cell_type": "code",
   "execution_count": 48,
   "metadata": {
    "id": "CE_7eTrZbU4o"
   },
   "outputs": [],
   "source": [
    "#vontando treino para o tipo dataframe\n",
    "basey = pd.DataFrame()\n",
    "basey['sepse'] = y\n",
    "basex = pd.DataFrame(Xtrans, columns=X.columns)"
   ]
  },
  {
   "cell_type": "code",
   "execution_count": 49,
   "metadata": {
    "id": "B7asQkcQd7eS"
   },
   "outputs": [],
   "source": [
    "#Juntando Treino pós imputação\n",
    "treino_full = pd.concat([basex, basey], axis=1)\n",
    "treino_completo = treino_full"
   ]
  },
  {
   "cell_type": "code",
   "execution_count": 50,
   "metadata": {
    "colab": {
     "base_uri": "https://localhost:8080/",
     "height": 252
    },
    "id": "vnXjCOAqgCoI",
    "outputId": "f5deb5e3-ccb6-497e-bf46-5e09b96eb398"
   },
   "outputs": [
    {
     "name": "stdout",
     "output_type": "stream",
     "text": [
      "Frequencia treino:\n"
     ]
    },
    {
     "data": {
      "text/html": [
       "<div>\n",
       "<style scoped>\n",
       "    .dataframe tbody tr th:only-of-type {\n",
       "        vertical-align: middle;\n",
       "    }\n",
       "\n",
       "    .dataframe tbody tr th {\n",
       "        vertical-align: top;\n",
       "    }\n",
       "\n",
       "    .dataframe thead th {\n",
       "        text-align: right;\n",
       "    }\n",
       "</style>\n",
       "<table border=\"1\" class=\"dataframe\">\n",
       "  <thead>\n",
       "    <tr style=\"text-align: right;\">\n",
       "      <th></th>\n",
       "      <th>Qtd Nan</th>\n",
       "      <th>Qtd Nan %</th>\n",
       "    </tr>\n",
       "  </thead>\n",
       "  <tbody>\n",
       "    <tr>\n",
       "      <th>temperatura</th>\n",
       "      <td>0</td>\n",
       "      <td>0.0</td>\n",
       "    </tr>\n",
       "    <tr>\n",
       "      <th>pulso</th>\n",
       "      <td>0</td>\n",
       "      <td>0.0</td>\n",
       "    </tr>\n",
       "    <tr>\n",
       "      <th>respiracao</th>\n",
       "      <td>0</td>\n",
       "      <td>0.0</td>\n",
       "    </tr>\n",
       "    <tr>\n",
       "      <th>pa_min</th>\n",
       "      <td>0</td>\n",
       "      <td>0.0</td>\n",
       "    </tr>\n",
       "    <tr>\n",
       "      <th>pa_max</th>\n",
       "      <td>0</td>\n",
       "      <td>0.0</td>\n",
       "    </tr>\n",
       "    <tr>\n",
       "      <th>sepse</th>\n",
       "      <td>0</td>\n",
       "      <td>0.0</td>\n",
       "    </tr>\n",
       "  </tbody>\n",
       "</table>\n",
       "</div>"
      ],
      "text/plain": [
       "             Qtd Nan  Qtd Nan %\n",
       "temperatura        0        0.0\n",
       "pulso              0        0.0\n",
       "respiracao         0        0.0\n",
       "pa_min             0        0.0\n",
       "pa_max             0        0.0\n",
       "sepse              0        0.0"
      ]
     },
     "execution_count": 50,
     "metadata": {},
     "output_type": "execute_result"
    }
   ],
   "source": [
    "#Verificado a quantidade de NaN por atributo\n",
    "nan_train= pd.DataFrame()\n",
    "nan_train['Qtd Nan'] = treino_full.isna().sum()\n",
    "nan_train['Qtd Nan %'] = round(100*treino_full.isna().sum()/len(treino_full),2)\n",
    "print('Frequencia treino:')\n",
    "nan_train.head(6)"
   ]
  },
  {
   "cell_type": "code",
   "execution_count": 51,
   "metadata": {
    "colab": {
     "base_uri": "https://localhost:8080/",
     "height": 1000
    },
    "id": "fe9aFAMikgBL",
    "outputId": "2590fea3-78e5-44da-92a4-a21f56267077"
   },
   "outputs": [
    {
     "data": {
      "image/png": "[encoded data removed]",
      "text/plain": [
       "<Figure size 432x288 with 2 Axes>"
      ]
     },
     "metadata": {},
     "output_type": "display_data"
    },
    {
     "data": {
      "image/png": "[encoded data removed]",
      "text/plain": [
       "<Figure size 432x288 with 2 Axes>"
      ]
     },
     "metadata": {},
     "output_type": "display_data"
    },
    {
     "data": {
      "image/png": "[encoded data removed]",
      "text/plain": [
       "<Figure size 432x288 with 2 Axes>"
      ]
     },
     "metadata": {},
     "output_type": "display_data"
    },
    {
     "data": {
      "image/png": "[encoded data removed]",
      "text/plain": [
       "<Figure size 432x288 with 2 Axes>"
      ]
     },
     "metadata": {},
     "output_type": "display_data"
    },
    {
     "data": {
      "image/png": "[encoded data removed]",
      "text/plain": [
       "<Figure size 432x288 with 2 Axes>"
      ]
     },
     "metadata": {},
     "output_type": "display_data"
    }
   ],
   "source": [
    "for i in treino_full.drop('sepse', axis = 1).columns:\n",
    "\n",
    "  sns.set(style=\"ticks\")\n",
    "\n",
    "  x = treino[i]\n",
    "  coluna = i\n",
    "  mu = round(x.mean(),2) # mean of distribution\n",
    "  sigma = round(x.std(),2)  # standard deviation of distribution\n",
    "\n",
    "  f, (ax_box, ax_hist) = plt.subplots(2)\n",
    "\n",
    "  sns.boxplot(x=x, ax=ax_box)\n",
    "  sns.histplot(x=x, ax=ax_hist)\n",
    "\n",
    "  ax_box.set(yticks=[])\n",
    "  sns.despine(ax=ax_hist)\n",
    "  sns.despine(ax=ax_box, left=True)\n",
    "  ax_box.set_title('Boxplot e Histograma de {}\\n $\\mu={}$, $\\sigma={}$'.format(coluna, mu,sigma))\n",
    "\n",
    "plt.show()"
   ]
  },
  {
   "cell_type": "markdown",
   "metadata": {
    "id": "sCMYgs7wpOuM"
   },
   "source": [
    "Pelo fato de termos obervados valores positivos e negativos para a sepse em relação às variáveis pulso, pa_min e pa_max nos valores apresentados como outlier, mas olhando a base antes do preenchiemnto dos nan, decidimos por não aumentar mais os valores a serem considerados como nan. Todavia, fica um ponto de atenção a ser tratado logo na coleta dos dados, pois nesses casos, não da para saber se de fato ocorreu o valor apresentado ou se também foi algum tipo de erro."
   ]
  },
  {
   "cell_type": "code",
   "execution_count": 52,
   "metadata": {
    "colab": {
     "base_uri": "https://localhost:8080/",
     "height": 359
    },
    "id": "x4wmehOspvdI",
    "outputId": "dbdeaf91-4575-4051-b0be-f74565457420"
   },
   "outputs": [
    {
     "data": {
      "text/html": [
       "<div>\n",
       "<style scoped>\n",
       "    .dataframe tbody tr th:only-of-type {\n",
       "        vertical-align: middle;\n",
       "    }\n",
       "\n",
       "    .dataframe tbody tr th {\n",
       "        vertical-align: top;\n",
       "    }\n",
       "\n",
       "    .dataframe thead th {\n",
       "        text-align: right;\n",
       "    }\n",
       "</style>\n",
       "<table border=\"1\" class=\"dataframe\">\n",
       "  <thead>\n",
       "    <tr style=\"text-align: right;\">\n",
       "      <th></th>\n",
       "      <th>temperatura</th>\n",
       "      <th>pulso</th>\n",
       "      <th>respiracao</th>\n",
       "      <th>pa_min</th>\n",
       "      <th>pa_max</th>\n",
       "      <th>sepse</th>\n",
       "    </tr>\n",
       "  </thead>\n",
       "  <tbody>\n",
       "    <tr>\n",
       "      <th>1287</th>\n",
       "      <td>36.0</td>\n",
       "      <td>135.0</td>\n",
       "      <td>NaN</td>\n",
       "      <td>NaN</td>\n",
       "      <td>NaN</td>\n",
       "      <td>0</td>\n",
       "    </tr>\n",
       "    <tr>\n",
       "      <th>1292</th>\n",
       "      <td>38.0</td>\n",
       "      <td>130.0</td>\n",
       "      <td>NaN</td>\n",
       "      <td>126.0</td>\n",
       "      <td>98.0</td>\n",
       "      <td>0</td>\n",
       "    </tr>\n",
       "    <tr>\n",
       "      <th>1303</th>\n",
       "      <td>36.0</td>\n",
       "      <td>144.0</td>\n",
       "      <td>NaN</td>\n",
       "      <td>NaN</td>\n",
       "      <td>NaN</td>\n",
       "      <td>0</td>\n",
       "    </tr>\n",
       "    <tr>\n",
       "      <th>1320</th>\n",
       "      <td>NaN</td>\n",
       "      <td>131.0</td>\n",
       "      <td>NaN</td>\n",
       "      <td>NaN</td>\n",
       "      <td>NaN</td>\n",
       "      <td>0</td>\n",
       "    </tr>\n",
       "    <tr>\n",
       "      <th>1358</th>\n",
       "      <td>35.0</td>\n",
       "      <td>133.0</td>\n",
       "      <td>NaN</td>\n",
       "      <td>NaN</td>\n",
       "      <td>NaN</td>\n",
       "      <td>0</td>\n",
       "    </tr>\n",
       "    <tr>\n",
       "      <th>1480</th>\n",
       "      <td>39.0</td>\n",
       "      <td>140.0</td>\n",
       "      <td>NaN</td>\n",
       "      <td>NaN</td>\n",
       "      <td>NaN</td>\n",
       "      <td>0</td>\n",
       "    </tr>\n",
       "    <tr>\n",
       "      <th>1500</th>\n",
       "      <td>35.0</td>\n",
       "      <td>154.0</td>\n",
       "      <td>NaN</td>\n",
       "      <td>200.0</td>\n",
       "      <td>100.0</td>\n",
       "      <td>0</td>\n",
       "    </tr>\n",
       "    <tr>\n",
       "      <th>1644</th>\n",
       "      <td>36.0</td>\n",
       "      <td>130.0</td>\n",
       "      <td>NaN</td>\n",
       "      <td>123.0</td>\n",
       "      <td>77.0</td>\n",
       "      <td>0</td>\n",
       "    </tr>\n",
       "    <tr>\n",
       "      <th>1679</th>\n",
       "      <td>36.0</td>\n",
       "      <td>138.0</td>\n",
       "      <td>NaN</td>\n",
       "      <td>NaN</td>\n",
       "      <td>NaN</td>\n",
       "      <td>0</td>\n",
       "    </tr>\n",
       "    <tr>\n",
       "      <th>1695</th>\n",
       "      <td>36.0</td>\n",
       "      <td>152.0</td>\n",
       "      <td>NaN</td>\n",
       "      <td>202.0</td>\n",
       "      <td>119.0</td>\n",
       "      <td>0</td>\n",
       "    </tr>\n",
       "  </tbody>\n",
       "</table>\n",
       "</div>"
      ],
      "text/plain": [
       "      temperatura  pulso  respiracao  pa_min  pa_max  sepse\n",
       "1287         36.0  135.0         NaN     NaN     NaN      0\n",
       "1292         38.0  130.0         NaN   126.0    98.0      0\n",
       "1303         36.0  144.0         NaN     NaN     NaN      0\n",
       "1320          NaN  131.0         NaN     NaN     NaN      0\n",
       "1358         35.0  133.0         NaN     NaN     NaN      0\n",
       "1480         39.0  140.0         NaN     NaN     NaN      0\n",
       "1500         35.0  154.0         NaN   200.0   100.0      0\n",
       "1644         36.0  130.0         NaN   123.0    77.0      0\n",
       "1679         36.0  138.0         NaN     NaN     NaN      0\n",
       "1695         36.0  152.0         NaN   202.0   119.0      0"
      ]
     },
     "execution_count": 52,
     "metadata": {},
     "output_type": "execute_result"
    }
   ],
   "source": [
    "treino.query('pulso >= 130 and sepse == 0').head(10) #185 linhas com sepse == 1 e 209 com sepse == 0"
   ]
  },
  {
   "cell_type": "code",
   "execution_count": 53,
   "metadata": {
    "colab": {
     "base_uri": "https://localhost:8080/",
     "height": 359
    },
    "id": "Q8rxb197qqxG",
    "outputId": "88336f15-7b6f-4aa1-87ed-039ac0012f85"
   },
   "outputs": [
    {
     "data": {
      "text/html": [
       "<div>\n",
       "<style scoped>\n",
       "    .dataframe tbody tr th:only-of-type {\n",
       "        vertical-align: middle;\n",
       "    }\n",
       "\n",
       "    .dataframe tbody tr th {\n",
       "        vertical-align: top;\n",
       "    }\n",
       "\n",
       "    .dataframe thead th {\n",
       "        text-align: right;\n",
       "    }\n",
       "</style>\n",
       "<table border=\"1\" class=\"dataframe\">\n",
       "  <thead>\n",
       "    <tr style=\"text-align: right;\">\n",
       "      <th></th>\n",
       "      <th>temperatura</th>\n",
       "      <th>pulso</th>\n",
       "      <th>respiracao</th>\n",
       "      <th>pa_min</th>\n",
       "      <th>pa_max</th>\n",
       "      <th>sepse</th>\n",
       "    </tr>\n",
       "  </thead>\n",
       "  <tbody>\n",
       "    <tr>\n",
       "      <th>8</th>\n",
       "      <td>35.0</td>\n",
       "      <td>67.0</td>\n",
       "      <td>NaN</td>\n",
       "      <td>153.0</td>\n",
       "      <td>118.0</td>\n",
       "      <td>1</td>\n",
       "    </tr>\n",
       "    <tr>\n",
       "      <th>14</th>\n",
       "      <td>NaN</td>\n",
       "      <td>102.0</td>\n",
       "      <td>NaN</td>\n",
       "      <td>185.0</td>\n",
       "      <td>118.0</td>\n",
       "      <td>1</td>\n",
       "    </tr>\n",
       "    <tr>\n",
       "      <th>28</th>\n",
       "      <td>36.0</td>\n",
       "      <td>104.0</td>\n",
       "      <td>NaN</td>\n",
       "      <td>170.0</td>\n",
       "      <td>112.0</td>\n",
       "      <td>1</td>\n",
       "    </tr>\n",
       "    <tr>\n",
       "      <th>32</th>\n",
       "      <td>35.0</td>\n",
       "      <td>108.0</td>\n",
       "      <td>NaN</td>\n",
       "      <td>147.0</td>\n",
       "      <td>114.0</td>\n",
       "      <td>1</td>\n",
       "    </tr>\n",
       "    <tr>\n",
       "      <th>76</th>\n",
       "      <td>35.0</td>\n",
       "      <td>90.0</td>\n",
       "      <td>NaN</td>\n",
       "      <td>204.0</td>\n",
       "      <td>123.0</td>\n",
       "      <td>1</td>\n",
       "    </tr>\n",
       "    <tr>\n",
       "      <th>149</th>\n",
       "      <td>35.0</td>\n",
       "      <td>74.0</td>\n",
       "      <td>NaN</td>\n",
       "      <td>153.0</td>\n",
       "      <td>114.0</td>\n",
       "      <td>1</td>\n",
       "    </tr>\n",
       "    <tr>\n",
       "      <th>163</th>\n",
       "      <td>39.0</td>\n",
       "      <td>75.0</td>\n",
       "      <td>NaN</td>\n",
       "      <td>178.0</td>\n",
       "      <td>111.0</td>\n",
       "      <td>1</td>\n",
       "    </tr>\n",
       "    <tr>\n",
       "      <th>204</th>\n",
       "      <td>35.0</td>\n",
       "      <td>84.0</td>\n",
       "      <td>NaN</td>\n",
       "      <td>170.0</td>\n",
       "      <td>110.0</td>\n",
       "      <td>1</td>\n",
       "    </tr>\n",
       "    <tr>\n",
       "      <th>276</th>\n",
       "      <td>NaN</td>\n",
       "      <td>107.0</td>\n",
       "      <td>NaN</td>\n",
       "      <td>182.0</td>\n",
       "      <td>114.0</td>\n",
       "      <td>1</td>\n",
       "    </tr>\n",
       "    <tr>\n",
       "      <th>301</th>\n",
       "      <td>37.0</td>\n",
       "      <td>115.0</td>\n",
       "      <td>NaN</td>\n",
       "      <td>186.0</td>\n",
       "      <td>112.0</td>\n",
       "      <td>1</td>\n",
       "    </tr>\n",
       "  </tbody>\n",
       "</table>\n",
       "</div>"
      ],
      "text/plain": [
       "     temperatura  pulso  respiracao  pa_min  pa_max  sepse\n",
       "8           35.0   67.0         NaN   153.0   118.0      1\n",
       "14           NaN  102.0         NaN   185.0   118.0      1\n",
       "28          36.0  104.0         NaN   170.0   112.0      1\n",
       "32          35.0  108.0         NaN   147.0   114.0      1\n",
       "76          35.0   90.0         NaN   204.0   123.0      1\n",
       "149         35.0   74.0         NaN   153.0   114.0      1\n",
       "163         39.0   75.0         NaN   178.0   111.0      1\n",
       "204         35.0   84.0         NaN   170.0   110.0      1\n",
       "276          NaN  107.0         NaN   182.0   114.0      1\n",
       "301         37.0  115.0         NaN   186.0   112.0      1"
      ]
     },
     "execution_count": 53,
     "metadata": {},
     "output_type": "execute_result"
    }
   ],
   "source": [
    "treino.query('pa_max >= 110 and sepse == 1').head(10) #24 com sepse == 1 e 108 sepse == 0"
   ]
  },
  {
   "cell_type": "code",
   "execution_count": 54,
   "metadata": {
    "colab": {
     "base_uri": "https://localhost:8080/",
     "height": 173
    },
    "id": "YrNUj3sFsB7G",
    "outputId": "0961c651-0ff7-4936-b3ac-183d9903ddc3"
   },
   "outputs": [
    {
     "data": {
      "text/html": [
       "<div>\n",
       "<style scoped>\n",
       "    .dataframe tbody tr th:only-of-type {\n",
       "        vertical-align: middle;\n",
       "    }\n",
       "\n",
       "    .dataframe tbody tr th {\n",
       "        vertical-align: top;\n",
       "    }\n",
       "\n",
       "    .dataframe thead th {\n",
       "        text-align: right;\n",
       "    }\n",
       "</style>\n",
       "<table border=\"1\" class=\"dataframe\">\n",
       "  <thead>\n",
       "    <tr style=\"text-align: right;\">\n",
       "      <th></th>\n",
       "      <th>temperatura</th>\n",
       "      <th>pulso</th>\n",
       "      <th>respiracao</th>\n",
       "      <th>pa_min</th>\n",
       "      <th>pa_max</th>\n",
       "      <th>sepse</th>\n",
       "    </tr>\n",
       "  </thead>\n",
       "  <tbody>\n",
       "    <tr>\n",
       "      <th>258</th>\n",
       "      <td>35.0</td>\n",
       "      <td>38.0</td>\n",
       "      <td>NaN</td>\n",
       "      <td>155.0</td>\n",
       "      <td>78.0</td>\n",
       "      <td>1</td>\n",
       "    </tr>\n",
       "    <tr>\n",
       "      <th>941</th>\n",
       "      <td>35.0</td>\n",
       "      <td>40.0</td>\n",
       "      <td>NaN</td>\n",
       "      <td>NaN</td>\n",
       "      <td>NaN</td>\n",
       "      <td>1</td>\n",
       "    </tr>\n",
       "    <tr>\n",
       "      <th>965</th>\n",
       "      <td>35.0</td>\n",
       "      <td>32.0</td>\n",
       "      <td>NaN</td>\n",
       "      <td>NaN</td>\n",
       "      <td>NaN</td>\n",
       "      <td>1</td>\n",
       "    </tr>\n",
       "    <tr>\n",
       "      <th>8931</th>\n",
       "      <td>35.0</td>\n",
       "      <td>38.0</td>\n",
       "      <td>NaN</td>\n",
       "      <td>155.0</td>\n",
       "      <td>78.0</td>\n",
       "      <td>1</td>\n",
       "    </tr>\n",
       "  </tbody>\n",
       "</table>\n",
       "</div>"
      ],
      "text/plain": [
       "      temperatura  pulso  respiracao  pa_min  pa_max  sepse\n",
       "258          35.0   38.0         NaN   155.0    78.0      1\n",
       "941          35.0   40.0         NaN     NaN     NaN      1\n",
       "965          35.0   32.0         NaN     NaN     NaN      1\n",
       "8931         35.0   38.0         NaN   155.0    78.0      1"
      ]
     },
     "execution_count": 54,
     "metadata": {},
     "output_type": "execute_result"
    }
   ],
   "source": [
    "treino.query('pulso <= 40 and sepse == 1').head(10) #10 sepse == 0 e 4 com sepse == 1"
   ]
  },
  {
   "cell_type": "code",
   "execution_count": 55,
   "metadata": {
    "colab": {
     "base_uri": "https://localhost:8080/",
     "height": 545
    },
    "id": "7wBnvF3xswm3",
    "outputId": "7728d8c5-aed7-4628-d5a8-39959337c58a"
   },
   "outputs": [
    {
     "data": {
      "text/html": [
       "<div>\n",
       "<style scoped>\n",
       "    .dataframe tbody tr th:only-of-type {\n",
       "        vertical-align: middle;\n",
       "    }\n",
       "\n",
       "    .dataframe tbody tr th {\n",
       "        vertical-align: top;\n",
       "    }\n",
       "\n",
       "    .dataframe thead th {\n",
       "        text-align: right;\n",
       "    }\n",
       "</style>\n",
       "<table border=\"1\" class=\"dataframe\">\n",
       "  <thead>\n",
       "    <tr style=\"text-align: right;\">\n",
       "      <th></th>\n",
       "      <th>temperatura</th>\n",
       "      <th>pulso</th>\n",
       "      <th>respiracao</th>\n",
       "      <th>pa_min</th>\n",
       "      <th>pa_max</th>\n",
       "      <th>sepse</th>\n",
       "    </tr>\n",
       "  </thead>\n",
       "  <tbody>\n",
       "    <tr>\n",
       "      <th>837</th>\n",
       "      <td>NaN</td>\n",
       "      <td>131.0</td>\n",
       "      <td>39.0</td>\n",
       "      <td>82.0</td>\n",
       "      <td>37.0</td>\n",
       "      <td>1</td>\n",
       "    </tr>\n",
       "    <tr>\n",
       "      <th>1054</th>\n",
       "      <td>35.0</td>\n",
       "      <td>56.0</td>\n",
       "      <td>NaN</td>\n",
       "      <td>140.0</td>\n",
       "      <td>11.0</td>\n",
       "      <td>1</td>\n",
       "    </tr>\n",
       "    <tr>\n",
       "      <th>9004</th>\n",
       "      <td>NaN</td>\n",
       "      <td>131.0</td>\n",
       "      <td>39.0</td>\n",
       "      <td>82.0</td>\n",
       "      <td>37.0</td>\n",
       "      <td>1</td>\n",
       "    </tr>\n",
       "    <tr>\n",
       "      <th>9162</th>\n",
       "      <td>NaN</td>\n",
       "      <td>131.0</td>\n",
       "      <td>39.0</td>\n",
       "      <td>82.0</td>\n",
       "      <td>37.0</td>\n",
       "      <td>1</td>\n",
       "    </tr>\n",
       "    <tr>\n",
       "      <th>9205</th>\n",
       "      <td>NaN</td>\n",
       "      <td>131.0</td>\n",
       "      <td>39.0</td>\n",
       "      <td>82.0</td>\n",
       "      <td>37.0</td>\n",
       "      <td>1</td>\n",
       "    </tr>\n",
       "    <tr>\n",
       "      <th>9478</th>\n",
       "      <td>NaN</td>\n",
       "      <td>131.0</td>\n",
       "      <td>39.0</td>\n",
       "      <td>82.0</td>\n",
       "      <td>37.0</td>\n",
       "      <td>1</td>\n",
       "    </tr>\n",
       "    <tr>\n",
       "      <th>9520</th>\n",
       "      <td>NaN</td>\n",
       "      <td>131.0</td>\n",
       "      <td>39.0</td>\n",
       "      <td>82.0</td>\n",
       "      <td>37.0</td>\n",
       "      <td>1</td>\n",
       "    </tr>\n",
       "    <tr>\n",
       "      <th>9547</th>\n",
       "      <td>NaN</td>\n",
       "      <td>131.0</td>\n",
       "      <td>39.0</td>\n",
       "      <td>82.0</td>\n",
       "      <td>37.0</td>\n",
       "      <td>1</td>\n",
       "    </tr>\n",
       "    <tr>\n",
       "      <th>9772</th>\n",
       "      <td>NaN</td>\n",
       "      <td>131.0</td>\n",
       "      <td>39.0</td>\n",
       "      <td>82.0</td>\n",
       "      <td>37.0</td>\n",
       "      <td>1</td>\n",
       "    </tr>\n",
       "    <tr>\n",
       "      <th>9790</th>\n",
       "      <td>NaN</td>\n",
       "      <td>131.0</td>\n",
       "      <td>39.0</td>\n",
       "      <td>82.0</td>\n",
       "      <td>37.0</td>\n",
       "      <td>1</td>\n",
       "    </tr>\n",
       "    <tr>\n",
       "      <th>9947</th>\n",
       "      <td>NaN</td>\n",
       "      <td>131.0</td>\n",
       "      <td>39.0</td>\n",
       "      <td>82.0</td>\n",
       "      <td>37.0</td>\n",
       "      <td>1</td>\n",
       "    </tr>\n",
       "    <tr>\n",
       "      <th>9979</th>\n",
       "      <td>NaN</td>\n",
       "      <td>131.0</td>\n",
       "      <td>39.0</td>\n",
       "      <td>82.0</td>\n",
       "      <td>37.0</td>\n",
       "      <td>1</td>\n",
       "    </tr>\n",
       "    <tr>\n",
       "      <th>10027</th>\n",
       "      <td>NaN</td>\n",
       "      <td>131.0</td>\n",
       "      <td>39.0</td>\n",
       "      <td>82.0</td>\n",
       "      <td>37.0</td>\n",
       "      <td>1</td>\n",
       "    </tr>\n",
       "    <tr>\n",
       "      <th>10064</th>\n",
       "      <td>NaN</td>\n",
       "      <td>131.0</td>\n",
       "      <td>39.0</td>\n",
       "      <td>82.0</td>\n",
       "      <td>37.0</td>\n",
       "      <td>1</td>\n",
       "    </tr>\n",
       "    <tr>\n",
       "      <th>10098</th>\n",
       "      <td>NaN</td>\n",
       "      <td>131.0</td>\n",
       "      <td>39.0</td>\n",
       "      <td>82.0</td>\n",
       "      <td>37.0</td>\n",
       "      <td>1</td>\n",
       "    </tr>\n",
       "    <tr>\n",
       "      <th>10322</th>\n",
       "      <td>NaN</td>\n",
       "      <td>131.0</td>\n",
       "      <td>39.0</td>\n",
       "      <td>82.0</td>\n",
       "      <td>37.0</td>\n",
       "      <td>1</td>\n",
       "    </tr>\n",
       "  </tbody>\n",
       "</table>\n",
       "</div>"
      ],
      "text/plain": [
       "       temperatura  pulso  respiracao  pa_min  pa_max  sepse\n",
       "837            NaN  131.0        39.0    82.0    37.0      1\n",
       "1054          35.0   56.0         NaN   140.0    11.0      1\n",
       "9004           NaN  131.0        39.0    82.0    37.0      1\n",
       "9162           NaN  131.0        39.0    82.0    37.0      1\n",
       "9205           NaN  131.0        39.0    82.0    37.0      1\n",
       "9478           NaN  131.0        39.0    82.0    37.0      1\n",
       "9520           NaN  131.0        39.0    82.0    37.0      1\n",
       "9547           NaN  131.0        39.0    82.0    37.0      1\n",
       "9772           NaN  131.0        39.0    82.0    37.0      1\n",
       "9790           NaN  131.0        39.0    82.0    37.0      1\n",
       "9947           NaN  131.0        39.0    82.0    37.0      1\n",
       "9979           NaN  131.0        39.0    82.0    37.0      1\n",
       "10027          NaN  131.0        39.0    82.0    37.0      1\n",
       "10064          NaN  131.0        39.0    82.0    37.0      1\n",
       "10098          NaN  131.0        39.0    82.0    37.0      1\n",
       "10322          NaN  131.0        39.0    82.0    37.0      1"
      ]
     },
     "execution_count": 55,
     "metadata": {},
     "output_type": "execute_result"
    }
   ],
   "source": [
    "treino.query('pa_max < 40 and sepse == 1') #16 com sepse == 1 e 14 com sepse == 0"
   ]
  },
  {
   "cell_type": "markdown",
   "metadata": {
    "id": "9S4du3u-g6rf"
   },
   "source": [
    "## Treino e teste"
   ]
  },
  {
   "cell_type": "code",
   "execution_count": 56,
   "metadata": {
    "id": "Zy7d615vhqlZ"
   },
   "outputs": [],
   "source": [
    "X = treino_full.drop('sepse' , axis =1)\n",
    "y = treino_full['sepse']\n",
    "X = X.to_numpy()\n",
    "y = y.to_numpy()"
   ]
  },
  {
   "cell_type": "code",
   "execution_count": 57,
   "metadata": {
    "id": "mMcJL1Aahn8v"
   },
   "outputs": [],
   "source": [
    "# Importa bibliotecas\n",
    "from sklearn.model_selection import train_test_split\n",
    "\n",
    "X_train, X_test, y_train, y_test = train_test_split(X, y, test_size = 0.25, stratify = y, random_state=42)"
   ]
  },
  {
   "cell_type": "code",
   "execution_count": 58,
   "metadata": {
    "id": "NOqSg8Pniv0-"
   },
   "outputs": [],
   "source": [
    "from sklearn.preprocessing import MinMaxScaler\n",
    "\n",
    "MinMax = MinMaxScaler()\n",
    "\n",
    "X_train = MinMax .fit_transform(X_train)\n",
    "X_test = MinMax .transform(X_test)"
   ]
  },
  {
   "cell_type": "markdown",
   "metadata": {
    "id": "tS4G6uH3rh_o"
   },
   "source": [
    "## Regressão Logística"
   ]
  },
  {
   "cell_type": "code",
   "execution_count": 59,
   "metadata": {
    "colab": {
     "base_uri": "https://localhost:8080/"
    },
    "id": "QIl3TsIrpmuJ",
    "outputId": "1ede9433-1556-4ea6-f525-e41fbdac7048"
   },
   "outputs": [
    {
     "name": "stdout",
     "output_type": "stream",
     "text": [
      "Acuracia média:  0.5253959907920419\n",
      "Precisão média:  0.6583524278348761\n",
      "F1 médio:  0.5141035935161595\n"
     ]
    }
   ],
   "source": [
    "from sklearn.linear_model import LogisticRegression\n",
    "from sklearn.model_selection import StratifiedKFold\n",
    "from sklearn.metrics import balanced_accuracy_score\n",
    "from sklearn.metrics import accuracy_score\n",
    "from sklearn.metrics import f1_score\n",
    "from sklearn.metrics import precision_score\n",
    "\n",
    "precisao = []\n",
    "f1 = []\n",
    "acuracia = []\n",
    "\n",
    "cv = StratifiedKFold(n_splits=10, shuffle=True, random_state=1)\n",
    "\n",
    "for train_index, test_index in cv.split(X, y):\n",
    "  x_train, x_test = X[train_index], X[test_index]\n",
    "  y_train, y_test = y[train_index], y[test_index]\n",
    "  model = LogisticRegression()\n",
    "  model.fit(x_train,y_train)\n",
    "  y_pred = model.predict(x_test)\n",
    "\n",
    "  precisao.append(precision_score(y_test, y_pred, average=\"macro\"))\n",
    "  f1.append(f1_score(y_test, y_pred, average=\"macro\"))\n",
    "  acuracia.append(balanced_accuracy_score(y_test, y_pred))\n",
    "print('Acuracia média: ', np.mean(acuracia))\n",
    "print('Precisão média: ', np.mean(precisao))\n",
    "print('F1 médio: ', np.mean(f1))"
   ]
  },
  {
   "cell_type": "markdown",
   "metadata": {
    "id": "wcRIYhMJl4EV"
   },
   "source": [
    "## Naive Bayes"
   ]
  },
  {
   "cell_type": "code",
   "execution_count": 60,
   "metadata": {
    "colab": {
     "base_uri": "https://localhost:8080/"
    },
    "id": "I8FbiFTRl6pE",
    "outputId": "df8a9bbe-a829-454d-97e5-cafa13949415"
   },
   "outputs": [
    {
     "name": "stdout",
     "output_type": "stream",
     "text": [
      "Acuracia média:  0.5833666999524743\n",
      "Precisão média:  0.6585220325685529\n",
      "F1 médio:  0.5997136272100843\n"
     ]
    }
   ],
   "source": [
    "from sklearn.naive_bayes import GaussianNB           \n",
    "\n",
    "precisao = []\n",
    "f1 = []\n",
    "acuracia = []\n",
    "\n",
    "cv = StratifiedKFold(n_splits=10, shuffle=True, random_state=1)\n",
    "\n",
    "for train_index, test_index in cv.split(X, y):\n",
    "  x_train, x_test = X[train_index], X[test_index]\n",
    "  y_train, y_test = y[train_index], y[test_index]\n",
    "  model = GaussianNB()\n",
    "  model.fit(x_train,y_train)\n",
    "  y_pred = model.predict(x_test)\n",
    "\n",
    "  precisao.append(precision_score(y_test, y_pred, average=\"macro\"))\n",
    "  f1.append(f1_score(y_test, y_pred, average=\"macro\"))\n",
    "  acuracia.append(balanced_accuracy_score(y_test, y_pred))\n",
    "print('Acuracia média: ', np.mean(acuracia))\n",
    "print('Precisão média: ', np.mean(precisao))\n",
    "print('F1 médio: ', np.mean(f1))"
   ]
  },
  {
   "cell_type": "markdown",
   "metadata": {
    "id": "zUYcEQECmgjr"
   },
   "source": [
    "## Random forest"
   ]
  },
  {
   "cell_type": "code",
   "execution_count": 61,
   "metadata": {
    "colab": {
     "base_uri": "https://localhost:8080/"
    },
    "id": "YNRbbSeYmiVq",
    "outputId": "6d6e5745-606a-440d-99b8-c1ae27e547ca"
   },
   "outputs": [
    {
     "name": "stdout",
     "output_type": "stream",
     "text": [
      "Acuracia média:  0.6619836318079815\n",
      "Precisão média:  0.7124411235618712\n",
      "F1 médio:  0.6808835483339327\n"
     ]
    }
   ],
   "source": [
    "from sklearn.ensemble import RandomForestClassifier\n",
    "\n",
    "precisao = []\n",
    "f1 = []\n",
    "acuracia = []\n",
    "\n",
    "cv = StratifiedKFold(n_splits=10, shuffle=True, random_state=1)\n",
    "\n",
    "for train_index, test_index in cv.split(X, y):\n",
    "  x_train, x_test = X[train_index], X[test_index]\n",
    "  y_train, y_test = y[train_index], y[test_index]\n",
    "  model = RandomForestClassifier()\n",
    "  model.fit(x_train,y_train)\n",
    "  y_pred = model.predict(x_test)\n",
    "\n",
    "  precisao.append(precision_score(y_test, y_pred, average=\"macro\"))\n",
    "  f1.append(f1_score(y_test, y_pred, average=\"macro\"))\n",
    "  acuracia.append(balanced_accuracy_score(y_test, y_pred))\n",
    "print('Acuracia média: ', np.mean(acuracia))\n",
    "print('Precisão média: ', np.mean(precisao))\n",
    "print('F1 médio: ', np.mean(f1))"
   ]
  },
  {
   "cell_type": "markdown",
   "metadata": {
    "id": "zLDQtjXPnVN7"
   },
   "source": [
    "## KNN"
   ]
  },
  {
   "cell_type": "code",
   "execution_count": 62,
   "metadata": {
    "colab": {
     "base_uri": "https://localhost:8080/"
    },
    "id": "uH2XEKcWnWfl",
    "outputId": "3b89f55a-714a-4187-f5c8-0be2710ee074"
   },
   "outputs": [
    {
     "name": "stdout",
     "output_type": "stream",
     "text": [
      "Acuracia média:  0.6175641714353243\n",
      "Precisão média:  0.7199765038567818\n",
      "F1 médio:  0.6417681902289986\n"
     ]
    }
   ],
   "source": [
    "from sklearn.neighbors import KNeighborsClassifier\n",
    "\n",
    "precisao = []\n",
    "f1 = []\n",
    "acuracia = []\n",
    "\n",
    "cv = StratifiedKFold(n_splits=10, shuffle=True, random_state=1)\n",
    "\n",
    "for train_index, test_index in cv.split(X, y):\n",
    "  x_train, x_test = X[train_index], X[test_index]\n",
    "  y_train, y_test = y[train_index], y[test_index]\n",
    "  model = KNeighborsClassifier(n_neighbors= 20)\n",
    "  model.fit(x_train,y_train)\n",
    "  y_pred = model.predict(x_test)\n",
    "\n",
    "  precisao.append(precision_score(y_test, y_pred, average=\"macro\"))\n",
    "  f1.append(f1_score(y_test, y_pred, average=\"macro\"))\n",
    "  acuracia.append(balanced_accuracy_score(y_test, y_pred))\n",
    "print('Acuracia média: ', np.mean(acuracia))\n",
    "print('Precisão média: ', np.mean(precisao))\n",
    "print('F1 médio: ', np.mean(f1))"
   ]
  },
  {
   "cell_type": "markdown",
   "metadata": {
    "id": "Kv_yDFnXtwJ6"
   },
   "source": [
    "Preenchendo os NAs do teste com o KNNImputer"
   ]
  },
  {
   "cell_type": "code",
   "execution_count": 63,
   "metadata": {
    "id": "6ZZ-760yFnCO"
   },
   "outputs": [],
   "source": [
    "# knn imputation teste\n",
    "from numpy import isnan\n",
    "from sklearn.impute import KNNImputer\n",
    "\n",
    "imputer = KNNImputer()\n",
    "# fit on the dataset\n",
    "imputer.fit(teste)\n",
    "# transform the dataset\n",
    "Xtransteste = imputer.transform(teste)\n",
    "\n",
    "#Teste pós imputação\n",
    "teste = pd.DataFrame(Xtransteste, columns = teste.columns)"
   ]
  },
  {
   "cell_type": "markdown",
   "metadata": {
    "id": "eXQ0ifJut2WD"
   },
   "source": [
    "## Submetendo os resultados no Kaggle usando o modelo de classificação: Floresta Aleatória"
   ]
  },
  {
   "cell_type": "code",
   "execution_count": 64,
   "metadata": {
    "id": "ZNXPJlWRt9C4"
   },
   "outputs": [
    {
     "data": {
      "text/plain": [
       "0    6718\n",
       "1     582\n",
       "Name: sepse, dtype: int64"
      ]
     },
     "execution_count": 64,
     "metadata": {},
     "output_type": "execute_result"
    }
   ],
   "source": [
    "RF_model = RandomForestClassifier()\n",
    "X = treino_completo.drop('sepse', axis =1)\n",
    "y = y_completo\n",
    "\n",
    "RF_model.fit(X,y)\n",
    "\n",
    "y_pred = RF_model.predict(teste) \n",
    "y_pred = np.array(y_pred, dtype = int)\n",
    "prediction = pd.DataFrame()\n",
    "prediction['id'] = id\n",
    "prediction['sepse'] = y_pred\n",
    "\n",
    "prediction['sepse'].value_counts()"
   ]
  },
  {
   "cell_type": "code",
   "execution_count": 65,
   "metadata": {
    "id": "ihs-55hov3ZJ"
   },
   "outputs": [],
   "source": [
    "prediction.to_csv('RFsimples.csv', index = False)"
   ]
  },
  {
   "cell_type": "markdown",
   "metadata": {
    "id": "AJcamxM4xs9g"
   },
   "source": [
    "0.91411 Kaggle foi nossa melhor pontuação"
   ]
  },
  {
   "cell_type": "code",
   "execution_count": 66,
   "metadata": {
    "id": "vFn2WBRfv-_P"
   },
   "outputs": [
    {
     "data": {
      "text/html": [
       "<div>\n",
       "<style scoped>\n",
       "    .dataframe tbody tr th:only-of-type {\n",
       "        vertical-align: middle;\n",
       "    }\n",
       "\n",
       "    .dataframe tbody tr th {\n",
       "        vertical-align: top;\n",
       "    }\n",
       "\n",
       "    .dataframe thead th {\n",
       "        text-align: right;\n",
       "    }\n",
       "</style>\n",
       "<table border=\"1\" class=\"dataframe\">\n",
       "  <thead>\n",
       "    <tr style=\"text-align: right;\">\n",
       "      <th></th>\n",
       "      <th>id</th>\n",
       "      <th>sepse</th>\n",
       "    </tr>\n",
       "  </thead>\n",
       "  <tbody>\n",
       "    <tr>\n",
       "      <th>0</th>\n",
       "      <td>1</td>\n",
       "      <td>0</td>\n",
       "    </tr>\n",
       "    <tr>\n",
       "      <th>1</th>\n",
       "      <td>2</td>\n",
       "      <td>0</td>\n",
       "    </tr>\n",
       "    <tr>\n",
       "      <th>2</th>\n",
       "      <td>3</td>\n",
       "      <td>0</td>\n",
       "    </tr>\n",
       "    <tr>\n",
       "      <th>3</th>\n",
       "      <td>4</td>\n",
       "      <td>0</td>\n",
       "    </tr>\n",
       "    <tr>\n",
       "      <th>4</th>\n",
       "      <td>5</td>\n",
       "      <td>0</td>\n",
       "    </tr>\n",
       "    <tr>\n",
       "      <th>5</th>\n",
       "      <td>6</td>\n",
       "      <td>0</td>\n",
       "    </tr>\n",
       "    <tr>\n",
       "      <th>6</th>\n",
       "      <td>7</td>\n",
       "      <td>0</td>\n",
       "    </tr>\n",
       "    <tr>\n",
       "      <th>7</th>\n",
       "      <td>8</td>\n",
       "      <td>0</td>\n",
       "    </tr>\n",
       "    <tr>\n",
       "      <th>8</th>\n",
       "      <td>9</td>\n",
       "      <td>0</td>\n",
       "    </tr>\n",
       "    <tr>\n",
       "      <th>9</th>\n",
       "      <td>10</td>\n",
       "      <td>0</td>\n",
       "    </tr>\n",
       "  </tbody>\n",
       "</table>\n",
       "</div>"
      ],
      "text/plain": [
       "   id  sepse\n",
       "0   1      0\n",
       "1   2      0\n",
       "2   3      0\n",
       "3   4      0\n",
       "4   5      0\n",
       "5   6      0\n",
       "6   7      0\n",
       "7   8      0\n",
       "8   9      0\n",
       "9  10      0"
      ]
     },
     "execution_count": 66,
     "metadata": {},
     "output_type": "execute_result"
    }
   ],
   "source": [
    "prediction.head(10)"
   ]
  },
  {
   "cell_type": "markdown",
   "metadata": {
    "id": "H6vWdpi_9ae3"
   },
   "source": [
    "## Submetendo os resultados no Kaggle usando o modelo de classificação: KNN"
   ]
  },
  {
   "cell_type": "code",
   "execution_count": 67,
   "metadata": {
    "id": "FoZ_snM29eTQ"
   },
   "outputs": [
    {
     "data": {
      "text/plain": [
       "0    6715\n",
       "1     585\n",
       "Name: sepse, dtype: int64"
      ]
     },
     "execution_count": 67,
     "metadata": {},
     "output_type": "execute_result"
    }
   ],
   "source": [
    "KNN_model = KNeighborsClassifier(n_neighbors= 20)\n",
    "X = treino_completo.drop('sepse', axis =1)\n",
    "y = y_completo\n",
    "\n",
    "KNN_model.fit(X,y)\n",
    "\n",
    "y_pred = KNN_model.predict(teste) \n",
    "y_pred = np.array(y_pred, dtype = int)\n",
    "prediction = pd.DataFrame()\n",
    "prediction['id'] = id\n",
    "prediction['sepse'] = y_pred\n",
    "\n",
    "prediction['sepse'].value_counts()"
   ]
  },
  {
   "cell_type": "code",
   "execution_count": 68,
   "metadata": {
    "id": "owDXsUu5-H4x"
   },
   "outputs": [],
   "source": [
    "prediction.to_csv('KNN20.csv', index = False)"
   ]
  }
 ],
 "metadata": {
  "colab": {
   "collapsed_sections": [],
   "name": "Final - Sepse.ipynb",
   "provenance": []
  },
  "kernelspec": {
   "display_name": "Python 3",
   "language": "python",
   "name": "python3"
  },
  "language_info": {
   "codemirror_mode": {
    "name": "ipython",
    "version": 3
   },
   "file_extension": ".py",
   "mimetype": "text/x-python",
   "name": "python",
   "nbconvert_exporter": "python",
   "pygments_lexer": "ipython3",
   "version": "3.8.8"
  }
 },
 "nbformat": 4,
 "nbformat_minor": 1
}
